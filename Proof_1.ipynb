{
  "nbformat": 4,
  "nbformat_minor": 0,
  "metadata": {
    "colab": {
      "provenance": [],
      "authorship_tag": "ABX9TyPcI/JTeK4/LnEXNce6c/AA",
      "include_colab_link": true
    },
    "kernelspec": {
      "name": "python3",
      "display_name": "Python 3"
    },
    "language_info": {
      "name": "python"
    }
  },
  "cells": [
    {
      "cell_type": "markdown",
      "metadata": {
        "id": "view-in-github",
        "colab_type": "text"
      },
      "source": [
        "<a href=\"https://colab.research.google.com/github/bentech28/AI-E-101-May-17--2024---Bounyamine-Baparape/blob/main/Proof_1.ipynb\" target=\"_parent\"><img src=\"https://colab.research.google.com/assets/colab-badge.svg\" alt=\"Open In Colab\"/></a>"
      ]
    },
    {
      "cell_type": "markdown",
      "source": [
        "# Expectation of discrete random variable\n"
      ],
      "metadata": {
        "id": "v9d1APG1nbKF"
      }
    },
    {
      "cell_type": "markdown",
      "source": [
        "## Expectation of a Discrete Random Variable \\(X\\)\n",
        "\n",
        "For a discrete random variable $\\ X $ taking values $\\ x_i$ with corresponding probabilities $\\ P(X = x_i)$\\, the expectation of \\(X\\) is given by:\n",
        "\n",
        "$\\ E[X] = \\sum_{i} x_i \\cdot P(X=x_i) $\n"
      ],
      "metadata": {
        "id": "urpjNSvSoM3k"
      }
    },
    {
      "cell_type": "markdown",
      "source": [
        "## Expectation of the Sum of Two Discrete Random Variables\n",
        "\n",
        "**Proof:**\n",
        "\n",
        "Consider two discrete random variables $\\ X $ and $ Y$ with $\\ Z =X +Y $.  \n",
        "$\\ X $ can assums $\\ nx $ distincts values  \n",
        "$\\ Y $ can assums $\\ ny $ distincts values  \n",
        "$\\ Z $ can assums $\\ nz $ distincts values\n",
        "\n",
        "\\begin{align*}\n",
        "\\mathbb{E}[Z] &= \\ \\sum_{i=1}^{n_z} zi \\cdot P(Z = zi) \\\\\n",
        "&= \\sum_{j=1}^{n_x}\\sum_{k=1}^{n_y}( xj+yk) \\cdot \\left( \\sum_{x} P(X = xj, Y = yk) \\right) \\\\\n",
        "&= \\sum_{j=1}^{n_x} \\sum_{k=1}^{n_y} xj\\cdot \\ P(X = xj, Y = yk)+ \\sum_{j=1}^{n_x} \\sum_{k=1}^{n_y} yk . P(X = xj, Y = yk) \\\\\n",
        "&= \\sum_{j=1}^{n_x}  xj\\cdot \\ P(X = xj)+ \\sum_{k=1}^{n_y} yk . P(Y = yk) \\\\\n",
        "\\mathbb{E}[Z] &=\\mathbb{E}[X] + \\mathbb{E}[Y] &=\n",
        "\\end{align*}\n",
        "\n",
        "\n",
        "## Expectation of the Product of Two Discrete Random Variables\n",
        "\n",
        "**Formula:**\n",
        "\n",
        "For two discrete random variables $\\ X $ and $Y$, if $\\ X $ and $Y$ are independent, the expectation of their product is given by:\n",
        "$$ \\mathbb{E}[X . Y] = \\mathbb{E}[X]  * \\mathbb{E}[Y] $$\n",
        "\n",
        "**Proof:**\n",
        "\n",
        "\\begin{align*}\n",
        "\\mathbb{E}[Z] &= \\ \\sum_{i=1}^{n_z} zi \\cdot P(Z = zi) \\\\\n",
        "&= \\sum_{j=1}^{n_x}\\sum_{k=1}^{n_y}( xj.yk) \\cdot \\left( \\sum_{x} P(X = xj, Y = yk) \\right) \\\\\n",
        "&= \\sum_{j=1}^{n_x} \\sum_{k=1}^{n_y} xj\\cdot \\ P(X = xj, Y = yk). \\sum_{j=1}^{n_x} \\sum_{k=1}^{n_y} yk . P(X = xj, Y = yk) \\\\\n",
        "&= \\sum_{j=1}^{n_x}  xj\\cdot \\ P(X = xj). \\sum_{k=1}^{n_y} yk . P(Y = yk) \\\\\n",
        "\\mathbb{E}[Z] &=\\mathbb{E}[X]  \\mathbb{E}[Y]\n",
        "\\end{align*}\n"
      ],
      "metadata": {
        "id": "WkHjoDS3jKPK"
      }
    },
    {
      "cell_type": "code",
      "source": [
        "x =\n"
      ],
      "metadata": {
        "id": "AQ968_v0iCj_",
        "outputId": "ff7dae55-936e-488b-c946-5a39be4f47ad",
        "colab": {
          "base_uri": "https://localhost:8080/",
          "height": 106
        }
      },
      "execution_count": null,
      "outputs": [
        {
          "output_type": "error",
          "ename": "SyntaxError",
          "evalue": "invalid syntax (<ipython-input-1-b36cc2387d25>, line 1)",
          "traceback": [
            "\u001b[0;36m  File \u001b[0;32m\"<ipython-input-1-b36cc2387d25>\"\u001b[0;36m, line \u001b[0;32m1\u001b[0m\n\u001b[0;31m    x =\u001b[0m\n\u001b[0m       ^\u001b[0m\n\u001b[0;31mSyntaxError\u001b[0m\u001b[0;31m:\u001b[0m invalid syntax\n"
          ]
        }
      ]
    },
    {
      "cell_type": "code",
      "execution_count": null,
      "metadata": {
        "id": "3qJDJ5crnadz"
      },
      "outputs": [],
      "source": []
    }
  ]
}