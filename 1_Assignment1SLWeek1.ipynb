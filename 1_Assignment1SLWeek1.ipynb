{
  "nbformat": 4,
  "nbformat_minor": 0,
  "metadata": {
    "colab": {
      "provenance": [],
      "include_colab_link": true
    },
    "kernelspec": {
      "name": "python3",
      "display_name": "Python 3"
    },
    "language_info": {
      "name": "python"
    }
  },
  "cells": [
    {
      "cell_type": "markdown",
      "metadata": {
        "id": "view-in-github",
        "colab_type": "text"
      },
      "source": [
        "<a href=\"https://colab.research.google.com/github/bentech28/AI-E-101-May-17--2024---Bounyamine-Baparape/blob/main/1_Assignment1SLWeek1.ipynb\" target=\"_parent\"><img src=\"https://colab.research.google.com/assets/colab-badge.svg\" alt=\"Open In Colab\"/></a>"
      ]
    },
    {
      "cell_type": "markdown",
      "source": [
        "### Element of Statistical Learning Week1"
      ],
      "metadata": {
        "id": "ekncBY46B_U8"
      }
    },
    {
      "cell_type": "code",
      "source": [],
      "metadata": {
        "id": "PcjKRUPfcx5r"
      },
      "execution_count": null,
      "outputs": []
    },
    {
      "cell_type": "markdown",
      "source": [
        "* Reading Mathematical Statistics With Resampling in R Chapter 1 to 5.\n",
        "* Summary each chapter in your own words. Use ChatGPT to polish your work. Save your ChatGPT session.\n",
        "* Read Chapter 1 of Introduction to Statistical Learning\n",
        "* As an appendix of this assignment, write out the first 12 fundamental proofs of the Foundation of Statistical Software\n",
        "\n"
      ],
      "metadata": {
        "id": "4OwM83FWLGUP"
      }
    },
    {
      "cell_type": "markdown",
      "source": [
        "## **Problem 1 (30 points)**\n",
        "In the week 1 lecture, we developed a simple simulation to examine the mean of a sample as a random variable. Specifically, we repeatedly drew samples of size \\( $N = 20$ \\) from the same underlying normal distribution. To observe how the sample mean fluctuated from one experiment to the next, we created a histogram of the obtained mean values.\n",
        "\n",
        "In this problem, we will:\n",
        "1. **Characterize the Distribution**: Analyze the distribution of the sample means by calculating its standard deviation.\n",
        "2. **Examine Spread with Increasing Sample Size**: Observe how the spread of the distribution decreases with increasing sample size. This aligns with the intuitive notion that larger samples tend to have means closer to the true mean of the underlying population from which the samples are drawn.\n"
      ],
      "metadata": {
        "id": "S5ZfTIhgFaFN"
      }
    },
    {
      "cell_type": "markdown",
      "source": [],
      "metadata": {
        "id": "yJQjqBOErzYn"
      }
    },
    {
      "cell_type": "code",
      "source": [
        "import numpy as np\n",
        "import matplotlib.pyplot as plt\n",
        "\n",
        "# Different sample sizes we are going to try\n",
        "sample_sizes = [3, 10, 50, 100, 500, 1000]\n",
        "\n",
        "# We will use the list below to keep the SD of the distribution of the means at each given sample size\n",
        "# (note that it's ok to initialize with an empty list - it will dynamically grow as we append results)\n",
        "mean_sds = []\n",
        "\n",
        "for N in sample_sizes:  # Try different sample sizes\n",
        "\n",
        "    # Insert your code here (refer to the slides if needed).\n",
        "    # 1) At each given N (i.e., in each iteration of the outer loop), you have to draw a large number\n",
        "    #    (e.g., 1000) of samples of size N. Calculate the mean of each of those samples and save them all into\n",
        "    #    a list called m.\n",
        "\n",
        "    # 2) Now, with the list m in hand, we want to characterize how much the sample mean fluctuates\n",
        "    #    from one experiment (experiment = taking a sample of N measurements) to the next. Instead of just\n",
        "    #    drawing a histogram, this time we will calculate the standard deviation of the distribution\n",
        "    #    represented by the list m. Use np.std().\n",
        "\n",
        "    # 3) Save the result (SD of the distributions of the means for the current N) into the list mean_sds.\n",
        "    #    You can use the append() method to add the new SEM value to the list.\n",
        "\n",
        "\n",
        "# At this point, you should have the list mean_sds filled. It should have length 6 and keep the values of\n",
        "# the standard deviation of the mean (known as the standard error of the mean, SEM) at different sample sizes.\n",
        "# (mean_sds[0] is the SEM at N=3, mean_sds[1] is the SEM at N=10, and so on)\n",
        "\n",
        "# Let us now PLOT the SEM (i.e., the \"typical\" error we expect the sample mean to exhibit in any\n",
        "# given experiment) as a function of the sample size, N.\n",
        "\n",
        "plt.figure(figsize=(10, 6))\n",
        "plt.plot(sample_sizes, mean_sds, 'o-', label='SEM')\n",
        "plt.plot(sample_sizes, 1/np.sqrt(sample_sizes), 'b--', label='Theoretical SEM (1/√N)')\n",
        "plt.xlabel('Sample Size')\n",
        "plt.ylabel('SEM')\n",
        "plt.title('SEM vs Sample Size')\n",
        "plt.legend()\n",
        "plt.grid(True)\n",
        "plt.show()\n"
      ],
      "metadata": {
        "id": "cQqCXzv6LG-K",
        "outputId": "d70c4f70-d8a6-4642-e772-56a26c945960",
        "colab": {
          "base_uri": "https://localhost:8080/",
          "height": 106
        }
      },
      "execution_count": null,
      "outputs": [
        {
          "output_type": "error",
          "ename": "IndentationError",
          "evalue": "expected an indented block after 'for' statement on line 11 (<ipython-input-1-506d7254a2db>, line 34)",
          "traceback": [
            "\u001b[0;36m  File \u001b[0;32m\"<ipython-input-1-506d7254a2db>\"\u001b[0;36m, line \u001b[0;32m34\u001b[0m\n\u001b[0;31m    plt.figure(figsize=(10, 6))\u001b[0m\n\u001b[0m    ^\u001b[0m\n\u001b[0;31mIndentationError\u001b[0m\u001b[0;31m:\u001b[0m expected an indented block after 'for' statement on line 11\n"
          ]
        }
      ]
    },
    {
      "cell_type": "markdown",
      "source": [
        "### Explanation:\n",
        "\n",
        "- **Sample Sizes**: We define a list of different sample sizes to test.\n",
        "\n",
        "- **Mean SDs**: We initialize an empty list `mean_sds` to store the standard deviation of sample means for each sample size.\n",
        "\n",
        "- **Loop**: For each sample size \\( N \\), we perform the necessary operations to calculate and store the SEM.\n",
        "\n",
        "- **Plotting**: Finally, we plot the SEM as a function of sample size and compare it with the theoretical SEM curve \\( \\frac{1}{\\sqrt{N}} \\).\n"
      ],
      "metadata": {
        "id": "cX4biJW1P5Nz"
      }
    },
    {
      "cell_type": "markdown",
      "source": [
        "## Sampling and Observing Distribution Changes\n",
        "\n",
        "All you need to do is to provide missing pieces of code. You should remember that the sampling functions provided in Python do just what we need. For instance, `np.random.uniform(size=3)` will draw 3 values independently from a uniform distribution. But that's exactly what measuring 3 i.i.d uniformly distributed random variables is! So, in order to sample our N variables $$X_1$...$X_N$$ in each experiment, we just need to call the sampling function with N as an argument (and whatever other arguments that specific DISTR function might require). Do NOT use `np.random.uniform()` though, it is too dull. Use something very different from uniform distribution. Exponential distribution (`np.random.exponential`) or normal (`np.random.normal`) are good candidates (see help pages for the distribution function you choose to see what parameters it might require).\n",
        "\n",
        "The code above uses N=1. In this case $S=X_1$ and obviously S is the same \"process\" as $X_1$ itself. So the histogram will in fact show you the distribution you have chosen for X. Change N and rerun the code a few times. See how the distribution of S (the histogram we draw) changes for N=2, N=5, ... Can you see how the distribution quickly becomes normal even though the distribution we are drawing with (the one you have seen at N=1) can be very different from normal?\n",
        "\n",
        "### Submission for this problem:\n",
        "\n",
        "1. **Python code** with missing pieces filled in, generating histogram plots at few different N of your choosing:\n",
        "   - For N=1 (i.e., the distribution you choose to sample from).\n",
        "   - For N large enough so that the distribution of S in the histogram looks very \"normal\".\n",
        "   - For some intermediate N, such that distribution of S already visibly departed from N=1 but is clearly non-normal just yet.\n",
        "\n",
        "2. **Histogram plots** showing the distributions for the above cases.\n",
        "\n",
        "You can submit separate files or a combined document that includes both the code and the figures.\n"
      ],
      "metadata": {
        "id": "v5JLEpJdVK5Q"
      }
    },
    {
      "cell_type": "code",
      "source": [],
      "metadata": {
        "id": "yRcD8krZIfs8"
      },
      "execution_count": null,
      "outputs": []
    },
    {
      "cell_type": "markdown",
      "source": [
        "## **Problem 2 (30 points)**\n",
        "\n",
        "There is a beautiful fact in statistics called the Central Limit Theorem (CLT). It states that the distribution of a sum of \\( N \\) independent, identically distributed (i.i.d.) random variables \\( $X_i$ \\) has a normal distribution in the limit of large \\( N \\), regardless of the distribution of the variables \\( $X_i$ \\) (under some very mild conditions, strictly speaking).\n",
        "\n",
        "**Here is what it means in plain English:**\n",
        "\n",
        "Suppose we have a distribution (and thus a random variable, since a random variable is a distribution, drawing a value from the distribution is what \"measuring\" a random variable amounts to!). Let's draw a value from that distribution, \\( $x_1$ \\). Then, let us draw another value \\( $x_2$ \\) from the same distribution, independently, i.e., without any regard to the value(s) we have drawn previously. Continue until we have drawn \\( N \\) values \\( $x_1, \\ldots, x_N$ \\).\n",
        "\n",
        "Let us now calculate the sum \\( $s = x_1 + \\ldots + x_N$ \\) and call this an \"experiment\".\n",
        "\n",
        "Clearly, \\( s \\) is a realization of some random variable.\n",
        "If we repeat the experiment (i.e., draw \\( N \\) random values from the distribution again), we will get a completely new realization \\( $x_1, \\ldots, x_N $\\), and the sum will thus take a new value too!\n",
        "\n",
        "Using our notations, we can also describe the situation outlined above as\n",
        "\\[ $S = X_1 + X_2 + \\ldots + X_N \\quad (X_i \\text{ i.i.d.}) $\\]\n",
        "\n",
        "The fact stated by this equation, that the random variable \\( S \\) is the \"sum of random variables,\" is just what we discussed above: The \"process\" \\( S \\) is defined as measuring \\( N \\) processes which are \"independent and identically distributed\" (i.e., drawn from the same distribution) and summing up the results.\n",
        "\n",
        "We cannot predict what the sum is going to be until we do the actual measuring of \\$( X_1, \\ldots, X_N \\)$, so \\( S \\) is a random variable indeed!\n",
        "It has some distribution associated with it (some values of this sum are more likely than others), and what CLT tells us is that at large \\( N \\), this distribution is bound to be normal.\n",
        "\n",
        "Here is initial code you will have to complete:\n"
      ],
      "metadata": {
        "id": "sg_DcTvINp1X"
      }
    },
    {
      "cell_type": "markdown",
      "source": [
        "# Homework: Summing i.i.d. Random Variables\n",
        "\n",
        "## Task Description\n",
        "\n",
        "In this assignment, you will implement a simulation to understand the concept of summing i.i.d. random variables across multiple experiments. Follow the instructions below to complete the exercise.\n",
        "\n",
        "### Instructions\n",
        "\n",
        "1. **Define Parameters:**\n",
        "   - `N`: the number of i.i.d. variables \\( X \\) we are going to sum.\n",
        "   - `n_exp`: how many times we are going to repeat the \"experiment\" (see the text above for what we call an experiment).\n",
        "\n",
        "2. **Simulation Steps:**\n",
        "\n",
        "   - Initialize a vector to store the sum of i.i.d. variables in each experiment.\n",
        "     ```python\n",
        "     N = 1  # the number of i.i.d. variables X we are going to sum\n",
        "\n",
        "     # how many times we are going to repeat the \"experiment\" (see the text above for what we call an experiment):\n",
        "    repeats = 1000 # n_exp\n",
        "\n",
        "     # Initialize an empty list to store sum values in each experiment\n",
        "     s_values = [] #we will use this vector to store the value of the sum in each experiment\n",
        "     ```\n",
        "   \n",
        "   - Repeat the experiment!\n",
        "     ```python\n",
        "     # explained below. Here we must draw the values x1, ..., xN of the random variables we are going to sum up:\n",
        "     for _ in range(n_exp):\n",
        "         # Step 1: Draw the values x1, ..., xN of the random variables we are going to sum up:\n",
        "         # x = DISTR(N, ...) = np.random.normal(size=3)\n",
        "         # (students fill in this line with the appropriate distribution function and parameters)\n",
        "         x = np.random.DISTR(N, ...)  # This line requires student's input\n",
        "         \n",
        "         # Step 2: Calculate the sum of x1, ..., xN\n",
        "         # (fill in this line to compute the sum)\n",
        "         s = sum(x)  # This line requires student's input\n",
        "         \n",
        "         # Step 3: Save the sum into the vector s_values:\n",
        "         s_values.append(s)\n",
        "     ```\n",
        "     \n",
        "   - We repeated the experiment `n_exp` times, so we have `n_exp` values sampled from the process \\( S \\). This should be plenty for looking at their distribution:\n",
        "     ```python\n",
        "     # Draw histogram of n_exp\n",
        "     # (fill in this line to draw the histogram of s_values)\n",
        "     plt.hist(s_values, bins=30, density=True, alpha=0.75)\n",
        "     plt.xlabel('Sum of i.i.d. Variables')\n",
        "     plt.ylabel('Density')\n",
        "     plt.title('Distribution of Sum of i.i.d. Variables')\n",
        "     plt.grid(True)\n",
        "     plt.show()\n",
        "     ```\n",
        "     \n",
        "### Requirements\n",
        "\n",
        "- Students are required to provide answers at 3 specific steps in the code:\n",
        "  1. `x = DISTR(N, ...)`\n",
        "  2. `...???...`\n",
        "  3. `...DRAW histogram of n_exp...`\n",
        "  \n",
        "- Replace `DISTR(N, ...)` with the appropriate distribution function and parameters.\n",
        "- Fill in the code to compute the sum of `x1, ..., xN`.\n",
        "- Fill in the code to draw the histogram of `n_exp` values.\n",
        "\n",
        "### Submission\n",
        "\n",
        "Submit your completed Python script with the filled-in code for evaluation.\n"
      ],
      "metadata": {
        "id": "Zwj4N4ZlZKtS"
      }
    },
    {
      "cell_type": "markdown",
      "source": [],
      "metadata": {
        "id": "0FqHQL-Vc_r3"
      }
    },
    {
      "cell_type": "markdown",
      "source": [
        "\n",
        "All you need to do is to provide missing pieces of code highlighted in red. You should remember that the sampling functions provided in Python do just what we need. For instance, `np.random.normal(size=3)` will draw 3 values, independently, from the same normal distribution (with default mean=0 and sd=1 in this particular example). But that's exactly what sampling 3 i.i.d normally distributed random variables is!\n",
        "\n",
        "Therefore, to sample our N variables X1...XN in each experiment in Python, simply call the sampling function with N as an argument, along with any other required parameters specific to the chosen distribution function. Avoid using np.random.normal(), as it's too commonplace. Instead, consider using something distinctly different, such as the uniform distribution (np.random.uniform()) or exponential distribution (np.random.exponential()). Check the help pages for the chosen distribution function to understand what parameters it may need.\n",
        "\n",
        "The code above uses N=1. In this case $S=X_1$ and obviously S is the same \"process\" as $X_1$ itself. So the histogram will in fact show you the distribution you have chosen for X. Change N a rerun the code a few times. See how the distribution of S (the histogram we draw) changes for $N=2, N=5, \\ldots$  \n",
        "\n",
        "Can you see how the distribution quickly becomes normal even though the distribution we are drawing with (the one you have seen at N=1) can be very different from normal?\n",
        "Submission for this problem: the code with missing pieces filled in, plus histogram plots generated at few different N of your choosing, for instance for N=1 (i.e. the distribution you choose to sample from), for N large enough so that the distribution of S in the histogram looks very \"normal\" , and some intermediate N, such that distribution of S already visibly departed from N=1 but is clearly non-normal just yet.\n",
        "\n",
        "You can submit separate files or a word/pdf document that combines both the code and the figures.\n",
        "\n",
        "Lastly, **for the full credit** you should answer the following question (5 points): suppose you have an arbitrary distribution and take a sample of N measurements from it. You calculate the mean of your sample. As we discussed, the sample mean is a random variable of course. How is the sample mean distributed when N becomes large? HINT: look at the definition of the sample mean!\n"
      ],
      "metadata": {
        "id": "MwAiGPXeRclx"
      }
    },
    {
      "cell_type": "code",
      "source": [],
      "metadata": {
        "id": "vSY35-OrRPs1"
      },
      "execution_count": null,
      "outputs": []
    }
  ]
}