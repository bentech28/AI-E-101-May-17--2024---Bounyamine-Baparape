{
  "nbformat": 4,
  "nbformat_minor": 0,
  "metadata": {
    "colab": {
      "provenance": [],
      "mount_file_id": "1wXwPrY-P0t7QQOS1eYeO-sXkTGeAqK4A",
      "authorship_tag": "ABX9TyNL2fmzcYvzxpmo0/oT1ZcC",
      "include_colab_link": true
    },
    "kernelspec": {
      "name": "python3",
      "display_name": "Python 3"
    },
    "language_info": {
      "name": "python"
    }
  },
  "cells": [
    {
      "cell_type": "markdown",
      "metadata": {
        "id": "view-in-github",
        "colab_type": "text"
      },
      "source": [
        "<a href=\"https://colab.research.google.com/github/bentech28/AI-E-101-May-17--2024---Bounyamine-Baparape/blob/main/1C_Case_Studies.ipynb\" target=\"_parent\"><img src=\"https://colab.research.google.com/assets/colab-badge.svg\" alt=\"Open In Colab\"/></a>"
      ]
    },
    {
      "cell_type": "markdown",
      "source": [
        "# Math 156 Script 1C-Case Studies.py"
      ],
      "metadata": {
        "id": "TtK-i0yM0hH2"
      }
    },
    {
      "cell_type": "code",
      "source": [
        "import pandas as pd\n",
        "import numpy as np\n",
        "import matplotlib.pyplot as plt\n",
        "import seaborn as sns"
      ],
      "metadata": {
        "id": "z5UMvRGT0_JA"
      },
      "execution_count": null,
      "outputs": []
    },
    {
      "cell_type": "markdown",
      "source": [
        "## Topic 1 - Flight delays out of LaGuardia airport"
      ],
      "metadata": {
        "id": "M-dgDj_q1jsR"
      }
    },
    {
      "cell_type": "markdown",
      "source": [
        "### Import of dataset"
      ],
      "metadata": {
        "id": "x61ztKZw3OTp"
      }
    },
    {
      "cell_type": "code",
      "source": [
        "Delays = pd.read_csv(\"/content/drive/MyDrive/Colab Notebooks/DATA/FlightDelays.csv\")\n"
      ],
      "metadata": {
        "id": "pcLCDPt61uYe"
      },
      "execution_count": null,
      "outputs": []
    },
    {
      "cell_type": "code",
      "source": [
        "Delays.head(10)"
      ],
      "metadata": {
        "colab": {
          "base_uri": "https://localhost:8080/",
          "height": 383
        },
        "id": "lO8EKguY5Nle",
        "outputId": "b3da7ce4-bf89-48d6-c6f3-5927c2e06c4a"
      },
      "execution_count": null,
      "outputs": [
        {
          "output_type": "execute_result",
          "data": {
            "text/plain": [
              "   ID Carrier  FlightNo Destination DepartTime  Day Month  FlightLength  \\\n",
              "0   1      UA       403         DEN      4-8am  Fri   May           281   \n",
              "1   2      UA       405         DEN     8-Noon  Fri   May           277   \n",
              "2   3      UA       409         DEN      4-8pm  Fri   May           279   \n",
              "3   4      UA       511         ORD     8-Noon  Fri   May           158   \n",
              "4   5      UA       667         ORD      4-8am  Fri   May           143   \n",
              "5   6      UA       669         ORD      4-8am  Fri   May           150   \n",
              "6   7      UA       673         ORD     8-Noon  Fri   May           158   \n",
              "7   8      UA       677         ORD     8-Noon  Fri   May           160   \n",
              "8   9      UA       679         ORD   Noon-4pm  Fri   May           160   \n",
              "9  10      UA       681         ORD   Noon-4pm  Fri   May           163   \n",
              "\n",
              "   Delay Delayed30  \n",
              "0     -1        No  \n",
              "1    102       Yes  \n",
              "2      4        No  \n",
              "3     -2        No  \n",
              "4     -3        No  \n",
              "5      0        No  \n",
              "6     -5        No  \n",
              "7      0        No  \n",
              "8     10        No  \n",
              "9     60       Yes  "
            ],
            "text/html": [
              "\n",
              "  <div id=\"df-7ddc4a34-a86a-4994-a83d-b139ee6ca51a\" class=\"colab-df-container\">\n",
              "    <div>\n",
              "<style scoped>\n",
              "    .dataframe tbody tr th:only-of-type {\n",
              "        vertical-align: middle;\n",
              "    }\n",
              "\n",
              "    .dataframe tbody tr th {\n",
              "        vertical-align: top;\n",
              "    }\n",
              "\n",
              "    .dataframe thead th {\n",
              "        text-align: right;\n",
              "    }\n",
              "</style>\n",
              "<table border=\"1\" class=\"dataframe\">\n",
              "  <thead>\n",
              "    <tr style=\"text-align: right;\">\n",
              "      <th></th>\n",
              "      <th>ID</th>\n",
              "      <th>Carrier</th>\n",
              "      <th>FlightNo</th>\n",
              "      <th>Destination</th>\n",
              "      <th>DepartTime</th>\n",
              "      <th>Day</th>\n",
              "      <th>Month</th>\n",
              "      <th>FlightLength</th>\n",
              "      <th>Delay</th>\n",
              "      <th>Delayed30</th>\n",
              "    </tr>\n",
              "  </thead>\n",
              "  <tbody>\n",
              "    <tr>\n",
              "      <th>0</th>\n",
              "      <td>1</td>\n",
              "      <td>UA</td>\n",
              "      <td>403</td>\n",
              "      <td>DEN</td>\n",
              "      <td>4-8am</td>\n",
              "      <td>Fri</td>\n",
              "      <td>May</td>\n",
              "      <td>281</td>\n",
              "      <td>-1</td>\n",
              "      <td>No</td>\n",
              "    </tr>\n",
              "    <tr>\n",
              "      <th>1</th>\n",
              "      <td>2</td>\n",
              "      <td>UA</td>\n",
              "      <td>405</td>\n",
              "      <td>DEN</td>\n",
              "      <td>8-Noon</td>\n",
              "      <td>Fri</td>\n",
              "      <td>May</td>\n",
              "      <td>277</td>\n",
              "      <td>102</td>\n",
              "      <td>Yes</td>\n",
              "    </tr>\n",
              "    <tr>\n",
              "      <th>2</th>\n",
              "      <td>3</td>\n",
              "      <td>UA</td>\n",
              "      <td>409</td>\n",
              "      <td>DEN</td>\n",
              "      <td>4-8pm</td>\n",
              "      <td>Fri</td>\n",
              "      <td>May</td>\n",
              "      <td>279</td>\n",
              "      <td>4</td>\n",
              "      <td>No</td>\n",
              "    </tr>\n",
              "    <tr>\n",
              "      <th>3</th>\n",
              "      <td>4</td>\n",
              "      <td>UA</td>\n",
              "      <td>511</td>\n",
              "      <td>ORD</td>\n",
              "      <td>8-Noon</td>\n",
              "      <td>Fri</td>\n",
              "      <td>May</td>\n",
              "      <td>158</td>\n",
              "      <td>-2</td>\n",
              "      <td>No</td>\n",
              "    </tr>\n",
              "    <tr>\n",
              "      <th>4</th>\n",
              "      <td>5</td>\n",
              "      <td>UA</td>\n",
              "      <td>667</td>\n",
              "      <td>ORD</td>\n",
              "      <td>4-8am</td>\n",
              "      <td>Fri</td>\n",
              "      <td>May</td>\n",
              "      <td>143</td>\n",
              "      <td>-3</td>\n",
              "      <td>No</td>\n",
              "    </tr>\n",
              "    <tr>\n",
              "      <th>5</th>\n",
              "      <td>6</td>\n",
              "      <td>UA</td>\n",
              "      <td>669</td>\n",
              "      <td>ORD</td>\n",
              "      <td>4-8am</td>\n",
              "      <td>Fri</td>\n",
              "      <td>May</td>\n",
              "      <td>150</td>\n",
              "      <td>0</td>\n",
              "      <td>No</td>\n",
              "    </tr>\n",
              "    <tr>\n",
              "      <th>6</th>\n",
              "      <td>7</td>\n",
              "      <td>UA</td>\n",
              "      <td>673</td>\n",
              "      <td>ORD</td>\n",
              "      <td>8-Noon</td>\n",
              "      <td>Fri</td>\n",
              "      <td>May</td>\n",
              "      <td>158</td>\n",
              "      <td>-5</td>\n",
              "      <td>No</td>\n",
              "    </tr>\n",
              "    <tr>\n",
              "      <th>7</th>\n",
              "      <td>8</td>\n",
              "      <td>UA</td>\n",
              "      <td>677</td>\n",
              "      <td>ORD</td>\n",
              "      <td>8-Noon</td>\n",
              "      <td>Fri</td>\n",
              "      <td>May</td>\n",
              "      <td>160</td>\n",
              "      <td>0</td>\n",
              "      <td>No</td>\n",
              "    </tr>\n",
              "    <tr>\n",
              "      <th>8</th>\n",
              "      <td>9</td>\n",
              "      <td>UA</td>\n",
              "      <td>679</td>\n",
              "      <td>ORD</td>\n",
              "      <td>Noon-4pm</td>\n",
              "      <td>Fri</td>\n",
              "      <td>May</td>\n",
              "      <td>160</td>\n",
              "      <td>10</td>\n",
              "      <td>No</td>\n",
              "    </tr>\n",
              "    <tr>\n",
              "      <th>9</th>\n",
              "      <td>10</td>\n",
              "      <td>UA</td>\n",
              "      <td>681</td>\n",
              "      <td>ORD</td>\n",
              "      <td>Noon-4pm</td>\n",
              "      <td>Fri</td>\n",
              "      <td>May</td>\n",
              "      <td>163</td>\n",
              "      <td>60</td>\n",
              "      <td>Yes</td>\n",
              "    </tr>\n",
              "  </tbody>\n",
              "</table>\n",
              "</div>\n",
              "    <div class=\"colab-df-buttons\">\n",
              "\n",
              "  <div class=\"colab-df-container\">\n",
              "    <button class=\"colab-df-convert\" onclick=\"convertToInteractive('df-7ddc4a34-a86a-4994-a83d-b139ee6ca51a')\"\n",
              "            title=\"Convert this dataframe to an interactive table.\"\n",
              "            style=\"display:none;\">\n",
              "\n",
              "  <svg xmlns=\"http://www.w3.org/2000/svg\" height=\"24px\" viewBox=\"0 -960 960 960\">\n",
              "    <path d=\"M120-120v-720h720v720H120Zm60-500h600v-160H180v160Zm220 220h160v-160H400v160Zm0 220h160v-160H400v160ZM180-400h160v-160H180v160Zm440 0h160v-160H620v160ZM180-180h160v-160H180v160Zm440 0h160v-160H620v160Z\"/>\n",
              "  </svg>\n",
              "    </button>\n",
              "\n",
              "  <style>\n",
              "    .colab-df-container {\n",
              "      display:flex;\n",
              "      gap: 12px;\n",
              "    }\n",
              "\n",
              "    .colab-df-convert {\n",
              "      background-color: #E8F0FE;\n",
              "      border: none;\n",
              "      border-radius: 50%;\n",
              "      cursor: pointer;\n",
              "      display: none;\n",
              "      fill: #1967D2;\n",
              "      height: 32px;\n",
              "      padding: 0 0 0 0;\n",
              "      width: 32px;\n",
              "    }\n",
              "\n",
              "    .colab-df-convert:hover {\n",
              "      background-color: #E2EBFA;\n",
              "      box-shadow: 0px 1px 2px rgba(60, 64, 67, 0.3), 0px 1px 3px 1px rgba(60, 64, 67, 0.15);\n",
              "      fill: #174EA6;\n",
              "    }\n",
              "\n",
              "    .colab-df-buttons div {\n",
              "      margin-bottom: 4px;\n",
              "    }\n",
              "\n",
              "    [theme=dark] .colab-df-convert {\n",
              "      background-color: #3B4455;\n",
              "      fill: #D2E3FC;\n",
              "    }\n",
              "\n",
              "    [theme=dark] .colab-df-convert:hover {\n",
              "      background-color: #434B5C;\n",
              "      box-shadow: 0px 1px 3px 1px rgba(0, 0, 0, 0.15);\n",
              "      filter: drop-shadow(0px 1px 2px rgba(0, 0, 0, 0.3));\n",
              "      fill: #FFFFFF;\n",
              "    }\n",
              "  </style>\n",
              "\n",
              "    <script>\n",
              "      const buttonEl =\n",
              "        document.querySelector('#df-7ddc4a34-a86a-4994-a83d-b139ee6ca51a button.colab-df-convert');\n",
              "      buttonEl.style.display =\n",
              "        google.colab.kernel.accessAllowed ? 'block' : 'none';\n",
              "\n",
              "      async function convertToInteractive(key) {\n",
              "        const element = document.querySelector('#df-7ddc4a34-a86a-4994-a83d-b139ee6ca51a');\n",
              "        const dataTable =\n",
              "          await google.colab.kernel.invokeFunction('convertToInteractive',\n",
              "                                                    [key], {});\n",
              "        if (!dataTable) return;\n",
              "\n",
              "        const docLinkHtml = 'Like what you see? Visit the ' +\n",
              "          '<a target=\"_blank\" href=https://colab.research.google.com/notebooks/data_table.ipynb>data table notebook</a>'\n",
              "          + ' to learn more about interactive tables.';\n",
              "        element.innerHTML = '';\n",
              "        dataTable['output_type'] = 'display_data';\n",
              "        await google.colab.output.renderOutput(dataTable, element);\n",
              "        const docLink = document.createElement('div');\n",
              "        docLink.innerHTML = docLinkHtml;\n",
              "        element.appendChild(docLink);\n",
              "      }\n",
              "    </script>\n",
              "  </div>\n",
              "\n",
              "\n",
              "<div id=\"df-8728a197-8bdd-4a7b-bef0-9065f5374291\">\n",
              "  <button class=\"colab-df-quickchart\" onclick=\"quickchart('df-8728a197-8bdd-4a7b-bef0-9065f5374291')\"\n",
              "            title=\"Suggest charts\"\n",
              "            style=\"display:none;\">\n",
              "\n",
              "<svg xmlns=\"http://www.w3.org/2000/svg\" height=\"24px\"viewBox=\"0 0 24 24\"\n",
              "     width=\"24px\">\n",
              "    <g>\n",
              "        <path d=\"M19 3H5c-1.1 0-2 .9-2 2v14c0 1.1.9 2 2 2h14c1.1 0 2-.9 2-2V5c0-1.1-.9-2-2-2zM9 17H7v-7h2v7zm4 0h-2V7h2v10zm4 0h-2v-4h2v4z\"/>\n",
              "    </g>\n",
              "</svg>\n",
              "  </button>\n",
              "\n",
              "<style>\n",
              "  .colab-df-quickchart {\n",
              "      --bg-color: #E8F0FE;\n",
              "      --fill-color: #1967D2;\n",
              "      --hover-bg-color: #E2EBFA;\n",
              "      --hover-fill-color: #174EA6;\n",
              "      --disabled-fill-color: #AAA;\n",
              "      --disabled-bg-color: #DDD;\n",
              "  }\n",
              "\n",
              "  [theme=dark] .colab-df-quickchart {\n",
              "      --bg-color: #3B4455;\n",
              "      --fill-color: #D2E3FC;\n",
              "      --hover-bg-color: #434B5C;\n",
              "      --hover-fill-color: #FFFFFF;\n",
              "      --disabled-bg-color: #3B4455;\n",
              "      --disabled-fill-color: #666;\n",
              "  }\n",
              "\n",
              "  .colab-df-quickchart {\n",
              "    background-color: var(--bg-color);\n",
              "    border: none;\n",
              "    border-radius: 50%;\n",
              "    cursor: pointer;\n",
              "    display: none;\n",
              "    fill: var(--fill-color);\n",
              "    height: 32px;\n",
              "    padding: 0;\n",
              "    width: 32px;\n",
              "  }\n",
              "\n",
              "  .colab-df-quickchart:hover {\n",
              "    background-color: var(--hover-bg-color);\n",
              "    box-shadow: 0 1px 2px rgba(60, 64, 67, 0.3), 0 1px 3px 1px rgba(60, 64, 67, 0.15);\n",
              "    fill: var(--button-hover-fill-color);\n",
              "  }\n",
              "\n",
              "  .colab-df-quickchart-complete:disabled,\n",
              "  .colab-df-quickchart-complete:disabled:hover {\n",
              "    background-color: var(--disabled-bg-color);\n",
              "    fill: var(--disabled-fill-color);\n",
              "    box-shadow: none;\n",
              "  }\n",
              "\n",
              "  .colab-df-spinner {\n",
              "    border: 2px solid var(--fill-color);\n",
              "    border-color: transparent;\n",
              "    border-bottom-color: var(--fill-color);\n",
              "    animation:\n",
              "      spin 1s steps(1) infinite;\n",
              "  }\n",
              "\n",
              "  @keyframes spin {\n",
              "    0% {\n",
              "      border-color: transparent;\n",
              "      border-bottom-color: var(--fill-color);\n",
              "      border-left-color: var(--fill-color);\n",
              "    }\n",
              "    20% {\n",
              "      border-color: transparent;\n",
              "      border-left-color: var(--fill-color);\n",
              "      border-top-color: var(--fill-color);\n",
              "    }\n",
              "    30% {\n",
              "      border-color: transparent;\n",
              "      border-left-color: var(--fill-color);\n",
              "      border-top-color: var(--fill-color);\n",
              "      border-right-color: var(--fill-color);\n",
              "    }\n",
              "    40% {\n",
              "      border-color: transparent;\n",
              "      border-right-color: var(--fill-color);\n",
              "      border-top-color: var(--fill-color);\n",
              "    }\n",
              "    60% {\n",
              "      border-color: transparent;\n",
              "      border-right-color: var(--fill-color);\n",
              "    }\n",
              "    80% {\n",
              "      border-color: transparent;\n",
              "      border-right-color: var(--fill-color);\n",
              "      border-bottom-color: var(--fill-color);\n",
              "    }\n",
              "    90% {\n",
              "      border-color: transparent;\n",
              "      border-bottom-color: var(--fill-color);\n",
              "    }\n",
              "  }\n",
              "</style>\n",
              "\n",
              "  <script>\n",
              "    async function quickchart(key) {\n",
              "      const quickchartButtonEl =\n",
              "        document.querySelector('#' + key + ' button');\n",
              "      quickchartButtonEl.disabled = true;  // To prevent multiple clicks.\n",
              "      quickchartButtonEl.classList.add('colab-df-spinner');\n",
              "      try {\n",
              "        const charts = await google.colab.kernel.invokeFunction(\n",
              "            'suggestCharts', [key], {});\n",
              "      } catch (error) {\n",
              "        console.error('Error during call to suggestCharts:', error);\n",
              "      }\n",
              "      quickchartButtonEl.classList.remove('colab-df-spinner');\n",
              "      quickchartButtonEl.classList.add('colab-df-quickchart-complete');\n",
              "    }\n",
              "    (() => {\n",
              "      let quickchartButtonEl =\n",
              "        document.querySelector('#df-8728a197-8bdd-4a7b-bef0-9065f5374291 button');\n",
              "      quickchartButtonEl.style.display =\n",
              "        google.colab.kernel.accessAllowed ? 'block' : 'none';\n",
              "    })();\n",
              "  </script>\n",
              "</div>\n",
              "\n",
              "    </div>\n",
              "  </div>\n"
            ],
            "application/vnd.google.colaboratory.intrinsic+json": {
              "type": "dataframe",
              "variable_name": "Delays",
              "summary": "{\n  \"name\": \"Delays\",\n  \"rows\": 4029,\n  \"fields\": [\n    {\n      \"column\": \"ID\",\n      \"properties\": {\n        \"dtype\": \"number\",\n        \"std\": 1163,\n        \"min\": 1,\n        \"max\": 4029,\n        \"num_unique_values\": 4029,\n        \"samples\": [\n          1139,\n          658,\n          671\n        ],\n        \"semantic_type\": \"\",\n        \"description\": \"\"\n      }\n    },\n    {\n      \"column\": \"Carrier\",\n      \"properties\": {\n        \"dtype\": \"category\",\n        \"num_unique_values\": 2,\n        \"samples\": [\n          \"AA\",\n          \"UA\"\n        ],\n        \"semantic_type\": \"\",\n        \"description\": \"\"\n      }\n    },\n    {\n      \"column\": \"FlightNo\",\n      \"properties\": {\n        \"dtype\": \"number\",\n        \"std\": 551,\n        \"min\": 71,\n        \"max\": 2255,\n        \"num_unique_values\": 78,\n        \"samples\": [\n          337,\n          403\n        ],\n        \"semantic_type\": \"\",\n        \"description\": \"\"\n      }\n    },\n    {\n      \"column\": \"Destination\",\n      \"properties\": {\n        \"dtype\": \"category\",\n        \"num_unique_values\": 7,\n        \"samples\": [\n          \"DEN\",\n          \"ORD\"\n        ],\n        \"semantic_type\": \"\",\n        \"description\": \"\"\n      }\n    },\n    {\n      \"column\": \"DepartTime\",\n      \"properties\": {\n        \"dtype\": \"category\",\n        \"num_unique_values\": 5,\n        \"samples\": [\n          \"8-Noon\",\n          \"8-Mid\"\n        ],\n        \"semantic_type\": \"\",\n        \"description\": \"\"\n      }\n    },\n    {\n      \"column\": \"Day\",\n      \"properties\": {\n        \"dtype\": \"category\",\n        \"num_unique_values\": 7,\n        \"samples\": [\n          \"Fri\",\n          \"Sat\"\n        ],\n        \"semantic_type\": \"\",\n        \"description\": \"\"\n      }\n    },\n    {\n      \"column\": \"Month\",\n      \"properties\": {\n        \"dtype\": \"category\",\n        \"num_unique_values\": 2,\n        \"samples\": [\n          \"June\",\n          \"May\"\n        ],\n        \"semantic_type\": \"\",\n        \"description\": \"\"\n      }\n    },\n    {\n      \"column\": \"FlightLength\",\n      \"properties\": {\n        \"dtype\": \"number\",\n        \"std\": 41,\n        \"min\": 68,\n        \"max\": 295,\n        \"num_unique_values\": 65,\n        \"samples\": [\n          189,\n          233\n        ],\n        \"semantic_type\": \"\",\n        \"description\": \"\"\n      }\n    },\n    {\n      \"column\": \"Delay\",\n      \"properties\": {\n        \"dtype\": \"number\",\n        \"std\": 41,\n        \"min\": -19,\n        \"max\": 693,\n        \"num_unique_values\": 212,\n        \"samples\": [\n          5,\n          248\n        ],\n        \"semantic_type\": \"\",\n        \"description\": \"\"\n      }\n    },\n    {\n      \"column\": \"Delayed30\",\n      \"properties\": {\n        \"dtype\": \"category\",\n        \"num_unique_values\": 2,\n        \"samples\": [\n          \"Yes\",\n          \"No\"\n        ],\n        \"semantic_type\": \"\",\n        \"description\": \"\"\n      }\n    }\n  ]\n}"
            }
          },
          "metadata": {},
          "execution_count": 29
        }
      ]
    },
    {
      "cell_type": "markdown",
      "source": [
        "### lots of observations and 10 columns"
      ],
      "metadata": {
        "id": "xptSNIXy576c"
      }
    },
    {
      "cell_type": "code",
      "source": [
        "print(Delays.shape)   # lots of observations and 10 columns"
      ],
      "metadata": {
        "colab": {
          "base_uri": "https://localhost:8080/"
        },
        "id": "Q7GEIxd_6AyK",
        "outputId": "137ebb97-e4a0-4448-98e2-fb0c07737c4b"
      },
      "execution_count": null,
      "outputs": [
        {
          "output_type": "stream",
          "name": "stdout",
          "text": [
            "(4029, 10)\n"
          ]
        }
      ]
    },
    {
      "cell_type": "markdown",
      "source": [
        "### how many ***observations***"
      ],
      "metadata": {
        "id": "HurSficx6cdq"
      }
    },
    {
      "cell_type": "code",
      "source": [
        "print(len(Delays))    # how many observations"
      ],
      "metadata": {
        "colab": {
          "base_uri": "https://localhost:8080/"
        },
        "id": "p0nhM3_R6oL_",
        "outputId": "7f3ed17e-5cb8-437c-9ca8-56fe6bcdd74c"
      },
      "execution_count": null,
      "outputs": [
        {
          "output_type": "stream",
          "name": "stdout",
          "text": [
            "4029\n"
          ]
        }
      ]
    },
    {
      "cell_type": "markdown",
      "source": [
        "### a data frame is a list of columns with this length"
      ],
      "metadata": {
        "id": "hEfW434h6y3d"
      }
    },
    {
      "cell_type": "code",
      "source": [
        "print(Delays.columns) # a data frame is a list of columns with this length"
      ],
      "metadata": {
        "colab": {
          "base_uri": "https://localhost:8080/"
        },
        "id": "oznPTbyL610B",
        "outputId": "614a1d35-a7c9-4366-a496-25dd169bd5e8"
      },
      "execution_count": null,
      "outputs": [
        {
          "output_type": "stream",
          "name": "stdout",
          "text": [
            "Index(['ID', 'Carrier', 'FlightNo', 'Destination', 'DepartTime', 'Day',\n",
            "       'Month', 'FlightLength', 'Delay', 'Delayed30'],\n",
            "      dtype='object')\n"
          ]
        }
      ]
    },
    {
      "cell_type": "markdown",
      "source": [
        " ### factor variable"
      ],
      "metadata": {
        "id": "9uDgksTt7sA8"
      }
    },
    {
      "cell_type": "code",
      "source": [
        "Delays['Destination'].value_counts().plot(kind='bar')  # factor variable\n",
        "plt.show()"
      ],
      "metadata": {
        "colab": {
          "base_uri": "https://localhost:8080/",
          "height": 406
        },
        "id": "ZC8jg70p7t2Y",
        "outputId": "42ec0816-5f66-4363-b1d6-5823830af3d4"
      },
      "execution_count": null,
      "outputs": [
        {
          "output_type": "display_data",
          "data": {
            "text/plain": [
              "<Figure size 640x480 with 1 Axes>"
            ],
            "image/png": "[encoded data removed]"
          },
          "metadata": {}
        }
      ]
    },
    {
      "cell_type": "markdown",
      "source": [
        "### a contingency table from two factors"
      ],
      "metadata": {
        "id": "HIoYqImo8n8_"
      }
    },
    {
      "cell_type": "code",
      "source": [
        "print(pd.crosstab(Delays['Day'], Delays['Delayed30'])) # a contingency table from two factors"
      ],
      "metadata": {
        "colab": {
          "base_uri": "https://localhost:8080/"
        },
        "id": "490Ky3YB8vWz",
        "outputId": "ddae4961-d203-4668-de6e-ee47e27003cd"
      },
      "execution_count": null,
      "outputs": [
        {
          "output_type": "stream",
          "name": "stdout",
          "text": [
            "Delayed30   No  Yes\n",
            "Day                \n",
            "Fri        493  144\n",
            "Mon        569   61\n",
            "Sat        406   47\n",
            "Sun        507   44\n",
            "Thu        434  132\n",
            "Tue        535   93\n",
            "Wed        488   76\n"
          ]
        }
      ]
    },
    {
      "cell_type": "markdown",
      "source": [
        "### mean of a numeric vector column"
      ],
      "metadata": {
        "id": "gjSIqG1z9-U_"
      }
    },
    {
      "cell_type": "code",
      "source": [
        "print(Delays['Delay'].mean())  # mean of a numeric vector column"
      ],
      "metadata": {
        "colab": {
          "base_uri": "https://localhost:8080/"
        },
        "id": "PWi7V5qr-AKC",
        "outputId": "82360ecb-9046-423c-f3c2-9e1db68fc09e"
      },
      "execution_count": null,
      "outputs": [
        {
          "output_type": "stream",
          "name": "stdout",
          "text": [
            "11.73790022338049\n"
          ]
        }
      ]
    },
    {
      "cell_type": "markdown",
      "source": [
        "### negative - the data must be skewed"
      ],
      "metadata": {
        "id": "33hSjzsn-NfK"
      }
    },
    {
      "cell_type": "code",
      "source": [
        "print(Delays['Delay'].median())  # negative - the data must be skewed"
      ],
      "metadata": {
        "colab": {
          "base_uri": "https://localhost:8080/"
        },
        "id": "O3qQ_aJZ-Rit",
        "outputId": "49e81238-bbcc-446c-d140-b6519d045efc"
      },
      "execution_count": null,
      "outputs": [
        {
          "output_type": "stream",
          "name": "stdout",
          "text": [
            "-3.0\n"
          ]
        }
      ]
    },
    {
      "cell_type": "markdown",
      "source": [
        "### long tail"
      ],
      "metadata": {
        "id": "tKsZ6rHz-jVz"
      }
    },
    {
      "cell_type": "code",
      "source": [
        "Delays['Delay'].plot(kind='hist', bins='fd', edgecolor='red')   # long tail\n",
        "plt.show()"
      ],
      "metadata": {
        "colab": {
          "base_uri": "https://localhost:8080/",
          "height": 430
        },
        "id": "bqegB7Pw-mVy",
        "outputId": "389d3fe7-3a3e-48a1-9ee5-ef90a0461ccc"
      },
      "execution_count": null,
      "outputs": [
        {
          "output_type": "display_data",
          "data": {
            "text/plain": [
              "<Figure size 640x480 with 1 Axes>"
            ],
            "image/png": "[encoded data removed]"
          },
          "metadata": {}
        }
      ]
    },
    {
      "cell_type": "markdown",
      "source": [
        "## Birth Weights of babies in North Carolina"
      ],
      "metadata": {
        "id": "PrICOjQRIkzy"
      }
    },
    {
      "cell_type": "code",
      "source": [
        "NCB = pd.read_csv(\"/content/drive/MyDrive/Colab Notebooks/CODE/NCBirths2004.csv\")\n",
        "print(NCB.head())"
      ],
      "metadata": {
        "id": "R_Rq_pu_IwVv",
        "outputId": "f3378fd5-0213-4e36-a249-048cd7a66c45",
        "colab": {
          "base_uri": "https://localhost:8080/"
        }
      },
      "execution_count": null,
      "outputs": [
        {
          "output_type": "stream",
          "name": "stdout",
          "text": [
            "   ID MothersAge Tobacco Alcohol  Gender  Weight  Gestation Smoker\n",
            "0   1      30-34      No      No    Male    3827         40     No\n",
            "1   2      30-34      No      No    Male    3629         38     No\n",
            "2   3      35-39      No      No  Female    3062         37     No\n",
            "3   4      20-24      No      No  Female    3430         39     No\n",
            "4   5      25-29      No      No    Male    3827         38     No\n"
          ]
        }
      ]
    },
    {
      "cell_type": "code",
      "source": [
        "NCB['Weight'].plot(kind='hist', bins='fd', density=True, edgecolor='black')  # not badly skewed; \"FD\" gives more bars than the default\n",
        "# Compare our sample with a probability model for the population\n",
        "x = np.linspace(NCB['Weight'].min(), NCB['Weight'].max(), 100)\n",
        "plt.plot(x, np.random.normal(NCB['Weight'].mean(), NCB['Weight'].std(), 100), color='red') # overlay a normal distribution\n",
        "plt.show()"
      ],
      "metadata": {
        "colab": {
          "base_uri": "https://localhost:8080/",
          "height": 430
        },
        "id": "ngdcs6U3J6Y5",
        "outputId": "288f9629-1208-44bd-9757-63f77554da72"
      },
      "execution_count": null,
      "outputs": [
        {
          "output_type": "display_data",
          "data": {
            "text/plain": [
              "<Figure size 640x480 with 1 Axes>"
            ],
            "image/png": "[encoded data removed]"
          },
          "metadata": {}
        }
      ]
    },
    {
      "cell_type": "markdown",
      "source": [
        "The fit is pretty good, but it's hard to credit the Central Limit Theorem!"
      ],
      "metadata": {
        "id": "0liL1KKF4L8Z"
      }
    },
    {
      "cell_type": "markdown",
      "source": [
        "### There are lots of ways to split up these data"
      ],
      "metadata": {
        "id": "rehBDy5W4T8i"
      }
    },
    {
      "cell_type": "code",
      "source": [
        "byGender = NCB.groupby('Gender')['Weight']\n",
        "print(byGender.mean())  # applies mean() to each item in the list"
      ],
      "metadata": {
        "id": "5YN0Tj9I4TJc",
        "colab": {
          "base_uri": "https://localhost:8080/"
        },
        "outputId": "97c9b3d6-58a9-4201-8f1f-ac6c952e8134"
      },
      "execution_count": null,
      "outputs": [
        {
          "output_type": "stream",
          "name": "stdout",
          "text": [
            "Gender\n",
            "Female    3398.316699\n",
            "Male      3501.579918\n",
            "Name: Weight, dtype: float64\n"
          ]
        }
      ]
    },
    {
      "cell_type": "code",
      "source": [
        "NCB[NCB['Gender'] == 'Male']['Weight'].plot(kind='hist', bins='fd', alpha=0.5, label='Male', edgecolor='black')\n",
        "NCB[NCB['Gender'] == 'Female']['Weight'].plot(kind='hist', bins='fd', alpha=0.5, label='Female', edgecolor='green')\n",
        "plt.legend()\n",
        "plt.show()\n"
      ],
      "metadata": {
        "id": "u8GvaNi54iGf",
        "colab": {
          "base_uri": "https://localhost:8080/",
          "height": 430
        },
        "outputId": "77951c6e-39d0-419e-90f6-022c683f34d3"
      },
      "execution_count": null,
      "outputs": [
        {
          "output_type": "display_data",
          "data": {
            "text/plain": [
              "<Figure size 640x480 with 1 Axes>"
            ],
            "image/png": "[encoded data removed]"
          },
          "metadata": {}
        }
      ]
    },
    {
      "cell_type": "markdown",
      "source": [
        "### We might guess at relationships from a scatter plot"
      ],
      "metadata": {
        "id": "geCFKNdz4n8n"
      }
    },
    {
      "cell_type": "code",
      "source": [
        "# We might guess at relationships from a scatter plot\n",
        "plt.scatter(NCB['Gestation'], NCB['Weight'])\n",
        "plt.xlabel('Gestation')\n",
        "plt.ylabel('Weight')\n",
        "plt.show()"
      ],
      "metadata": {
        "id": "BWiFPiOS4rhj",
        "colab": {
          "base_uri": "https://localhost:8080/",
          "height": 449
        },
        "outputId": "51df3cf2-1e26-4d39-87e0-80661624af9d"
      },
      "execution_count": null,
      "outputs": [
        {
          "output_type": "display_data",
          "data": {
            "text/plain": [
              "<Figure size 640x480 with 1 Axes>"
            ],
            "image/png": "[encoded data removed]"
          },
          "metadata": {}
        }
      ]
    },
    {
      "cell_type": "markdown",
      "source": [
        "### Or we can split the data and plot the means"
      ],
      "metadata": {
        "id": "fDLi4Dfh58V9"
      }
    },
    {
      "cell_type": "code",
      "source": [
        "# Or we can split the data and plot the means\n",
        "byGest = NCB.groupby('Gestation')['Weight'].mean()\n",
        "plt.plot(byGest.index, byGest.values, marker='o')\n",
        "plt.xlabel('Gestation')\n",
        "plt.ylabel('Mean Weight')\n",
        "plt.show()"
      ],
      "metadata": {
        "colab": {
          "base_uri": "https://localhost:8080/",
          "height": 449
        },
        "id": "_b15NlYg5_dx",
        "outputId": "2606d1c7-3291-48ef-aacc-a2921bc50828"
      },
      "execution_count": null,
      "outputs": [
        {
          "output_type": "display_data",
          "data": {
            "text/plain": [
              "<Figure size 640x480 with 1 Axes>"
            ],
            "image/png": "[encoded data removed]"
          },
          "metadata": {}
        }
      ]
    },
    {
      "cell_type": "markdown",
      "source": [
        "## Topic 2 - A quick look at other datasets"
      ],
      "metadata": {
        "id": "cLaLalQz6xFY"
      }
    },
    {
      "cell_type": "code",
      "source": [
        "Verizon = pd.read_csv(\"/content/drive/MyDrive/Colab Notebooks/DATA/Verizon.csv\")\n",
        "print(Verizon.head())"
      ],
      "metadata": {
        "colab": {
          "base_uri": "https://localhost:8080/"
        },
        "id": "p4ttjm3O63Ey",
        "outputId": "e431a29a-b930-472a-fd3b-5ebc058d2f75"
      },
      "execution_count": null,
      "outputs": [
        {
          "output_type": "stream",
          "name": "stdout",
          "text": [
            "    Time Group\n",
            "0  17.50  ILEC\n",
            "1   2.40  ILEC\n",
            "2   0.00  ILEC\n",
            "3   0.65  ILEC\n",
            "4  22.23  ILEC\n"
          ]
        }
      ]
    },
    {
      "cell_type": "markdown",
      "source": [
        "### Here is another way to separate the data by factor"
      ],
      "metadata": {
        "id": "y3d-w9zW8U37"
      }
    },
    {
      "cell_type": "markdown",
      "source": [
        "#### small subset of non-Verizon customers"
      ],
      "metadata": {
        "id": "XbW-3n0j8bmz"
      }
    },
    {
      "cell_type": "code",
      "source": [
        "print(Verizon.loc[Verizon['Group'] == 'CLEC', 'Time'].mean())  # small subset of non-Verizon customers"
      ],
      "metadata": {
        "colab": {
          "base_uri": "https://localhost:8080/"
        },
        "id": "cBwWgcSr8g8q",
        "outputId": "3716f7e0-4ab5-49f0-f6ac-fa30679efcc8"
      },
      "execution_count": null,
      "outputs": [
        {
          "output_type": "stream",
          "name": "stdout",
          "text": [
            "16.50913043478261\n"
          ]
        }
      ]
    },
    {
      "cell_type": "markdown",
      "source": [
        " #### significantly less for Verizon customers?"
      ],
      "metadata": {
        "id": "B1jH7koh8nVc"
      }
    },
    {
      "cell_type": "code",
      "source": [
        "print(Verizon.loc[Verizon['Group'] == 'ILEC', 'Time'].mean())  # significantly less for Verizon customers?"
      ],
      "metadata": {
        "colab": {
          "base_uri": "https://localhost:8080/"
        },
        "id": "vsZaqZCh8q7w",
        "outputId": "da4b2b66-737c-4523-974f-6a98e7ce37d7"
      },
      "execution_count": null,
      "outputs": [
        {
          "output_type": "stream",
          "name": "stdout",
          "text": [
            "8.411610576923076\n"
          ]
        }
      ]
    },
    {
      "cell_type": "markdown",
      "source": [
        "### General Social Survey"
      ],
      "metadata": {
        "id": "B7Mq2fbG8yc2"
      }
    },
    {
      "cell_type": "code",
      "source": [
        "# General Social Survey\n",
        "GSS = pd.read_csv(\"/content/drive/MyDrive/Colab Notebooks/DATA/GSS2002.csv\")\n",
        "print(GSS.head())  # lots of columns"
      ],
      "metadata": {
        "colab": {
          "base_uri": "https://localhost:8080/"
        },
        "id": "DQrB_dLh84Ci",
        "outputId": "15f94364-5427-4f59-b918-cdbce435c295"
      },
      "execution_count": null,
      "outputs": [
        {
          "output_type": "stream",
          "name": "stdout",
          "text": [
            "   ID         Region  Gender   Race  Education    Marital  \\\n",
            "0   1  South Central  Female  White         HS   Divorced   \n",
            "1   2  South Central    Male  White  Bachelors    Married   \n",
            "2   3  South Central  Female  White         HS  Separated   \n",
            "3   4  South Central  Female  White    Left HS   Divorced   \n",
            "4   5  South Central    Male  White    Left HS   Divorced   \n",
            "\n",
            "                  Religion         Happy       Income       PolParty  ...  \\\n",
            "0  Inter-nondenominational  Pretty happy  30000-34999     Strong Rep  ...   \n",
            "1               Protestant  Pretty happy  75000-89999    Not Str Rep  ...   \n",
            "2               Protestant           NaN  35000-39999     Strong Rep  ...   \n",
            "3               Protestant           NaN  50000-59999  Ind, Near Dem  ...   \n",
            "4               Protestant           NaN  40000-49999            Ind  ...   \n",
            "\n",
            "   Marijuana DeathPenalty OwnGun  GunLaw SpendMilitary   SpendEduc  \\\n",
            "0        NaN        Favor     No   Favor    Too little  Too little   \n",
            "1  Not legal        Favor    Yes  Oppose   About right  Too little   \n",
            "2        NaN          NaN    NaN     NaN           NaN         NaN   \n",
            "3        NaN          NaN    NaN     NaN   About right  Too little   \n",
            "4        NaN          NaN    NaN     NaN           NaN         NaN   \n",
            "\n",
            "      SpendEnv     SpendSci Pres00 Postlife  \n",
            "0  About right  About right   Bush      Yes  \n",
            "1  About right  About right   Bush      Yes  \n",
            "2          NaN          NaN   Bush      NaN  \n",
            "3   Too little   Too little    NaN      NaN  \n",
            "4          NaN          NaN    NaN      NaN  \n",
            "\n",
            "[5 rows x 21 columns]\n"
          ]
        }
      ]
    },
    {
      "cell_type": "markdown",
      "source": [
        "### look at just one factor"
      ],
      "metadata": {
        "id": "sxt12bx49eZ5"
      }
    },
    {
      "cell_type": "code",
      "source": [
        "print(GSS['Politics'].value_counts())  # look at just one factor"
      ],
      "metadata": {
        "colab": {
          "base_uri": "https://localhost:8080/"
        },
        "id": "CebjD2fC90Qf",
        "outputId": "e213702c-43c2-4a29-c1b8-d56cc1efa7a6"
      },
      "execution_count": null,
      "outputs": [
        {
          "output_type": "stream",
          "name": "stdout",
          "text": [
            "Politics\n",
            "Moderate                  522\n",
            "Conservative              210\n",
            "Slightly conservative     209\n",
            "Slightly liberal          159\n",
            "Liberal                   143\n",
            "Extremely liberal          47\n",
            "Extremely conservative     41\n",
            "Name: count, dtype: int64\n"
          ]
        }
      ]
    },
    {
      "cell_type": "markdown",
      "source": [
        "### contingency table for two factors"
      ],
      "metadata": {
        "id": "AyWsEkDk96Ce"
      }
    },
    {
      "cell_type": "code",
      "source": [
        "print(pd.crosstab(GSS['Politics'], GSS['OwnGun']))\n",
        "# No numeric variables; lots of contingency tables and proportions"
      ],
      "metadata": {
        "colab": {
          "base_uri": "https://localhost:8080/"
        },
        "id": "TxJ8owcf-AxG",
        "outputId": "e6f77219-e088-45d6-d72e-428f02698ebb"
      },
      "execution_count": null,
      "outputs": [
        {
          "output_type": "stream",
          "name": "stdout",
          "text": [
            "OwnGun                   No  Refused  Yes\n",
            "Politics                                 \n",
            "Conservative             79        4   59\n",
            "Extremely conservative   13        1    8\n",
            "Extremely liberal        21        0    8\n",
            "Liberal                  76        0   22\n",
            "Moderate                229        1  131\n",
            "Slightly conservative    94        3   46\n",
            "Slightly liberal         73        0   29\n"
          ]
        }
      ]
    },
    {
      "cell_type": "markdown",
      "source": [
        "### Beer and Hot Wings - data from a bar in Minneapolis"
      ],
      "metadata": {
        "id": "MI93BeTa-ZUG"
      }
    },
    {
      "cell_type": "code",
      "source": [
        "BW = pd.read_csv(\"/content/drive/MyDrive/Colab Notebooks/DATA/Beerwings.csv\")\n",
        "print(BW.head())"
      ],
      "metadata": {
        "colab": {
          "base_uri": "https://localhost:8080/"
        },
        "id": "a7jvF_XE-hey",
        "outputId": "b37e30c9-ed58-46f5-c1c4-112820eb9561"
      },
      "execution_count": null,
      "outputs": [
        {
          "output_type": "stream",
          "name": "stdout",
          "text": [
            "   ID  Hotwings  Beer Gender\n",
            "0   1         4    24      F\n",
            "1   2         5     0      F\n",
            "2   3         5    12      F\n",
            "3   4         6    12      F\n",
            "4   5         7    12      F\n"
          ]
        }
      ]
    },
    {
      "cell_type": "code",
      "source": [
        "print(BW.loc[BW['Gender'] == 'F', 'Beer'].mean())"
      ],
      "metadata": {
        "colab": {
          "base_uri": "https://localhost:8080/"
        },
        "id": "oft4XA-a_cHt",
        "outputId": "c75bd1bb-9aca-4e8f-85a7-e1a1461a397c"
      },
      "execution_count": null,
      "outputs": [
        {
          "output_type": "stream",
          "name": "stdout",
          "text": [
            "22.0\n"
          ]
        }
      ]
    },
    {
      "cell_type": "code",
      "source": [
        "print(BW.loc[BW['Gender'] != 'F', 'Beer'].mean())"
      ],
      "metadata": {
        "colab": {
          "base_uri": "https://localhost:8080/"
        },
        "id": "AcK9zQTH_pzN",
        "outputId": "8e94dc4f-74ef-4395-d8e7-72be498d02e3"
      },
      "execution_count": null,
      "outputs": [
        {
          "output_type": "stream",
          "name": "stdout",
          "text": [
            "30.4\n"
          ]
        }
      ]
    },
    {
      "cell_type": "markdown",
      "source": [
        "#### Do men drink significantly more beer?"
      ],
      "metadata": {
        "id": "myd24mRD_tEM"
      }
    },
    {
      "cell_type": "markdown",
      "source": [
        "### Black Spruce Seedlings - the result of a controlled experiment"
      ],
      "metadata": {
        "id": "RQb3Eadg_5VJ"
      }
    },
    {
      "cell_type": "code",
      "source": [
        "# Black Spruce Seedlings - the result of a controlled experiment\n",
        "BS = pd.read_csv(\"/content/drive/MyDrive/Colab Notebooks/DATA/Spruce.csv\")\n",
        "print(BS.head())\n"
      ],
      "metadata": {
        "colab": {
          "base_uri": "https://localhost:8080/"
        },
        "id": "w-L76tlA_14Y",
        "outputId": "02b5fa02-b312-4401-8b42-222e84c3e7f4"
      },
      "execution_count": null,
      "outputs": [
        {
          "output_type": "stream",
          "name": "stdout",
          "text": [
            "   Tree Competition Fertilizer  Height0  Height5  Diameter0  Diameter5  \\\n",
            "0     1          NC          F     15.0     60.0   1.984375        7.4   \n",
            "1     2          NC          F      9.0     45.2   1.190625        5.2   \n",
            "2     3          NC          F     12.0     42.0   1.785937        5.7   \n",
            "3     4          NC          F     13.7     49.5   1.587500        6.4   \n",
            "4     5          NC          F     12.0     47.3   1.587500        6.2   \n",
            "\n",
            "   Ht.change  Di.change  \n",
            "0       45.0   5.415625  \n",
            "1       36.2   4.009375  \n",
            "2       30.0   3.914062  \n",
            "3       35.8   4.812500  \n",
            "4       35.3   4.612500  \n"
          ]
        }
      ]
    },
    {
      "cell_type": "code",
      "source": [
        "plt.scatter(BS['Height0'], BS['Height5'])  # possible linear relationship?\n",
        "plt.xlabel('Height0')\n",
        "plt.ylabel('Height5')\n",
        "plt.show()\n",
        "print(np.corrcoef(BS['Height0'], BS['Height5'])[0, 1])  # is this correlation significant?"
      ],
      "metadata": {
        "colab": {
          "base_uri": "https://localhost:8080/",
          "height": 470
        },
        "id": "kp1OJIvRAtya",
        "outputId": "6dc130f9-609b-4b41-e35e-2c14a3e94918"
      },
      "execution_count": null,
      "outputs": [
        {
          "output_type": "display_data",
          "data": {
            "text/plain": [
              "<Figure size 640x480 with 1 Axes>"
            ],
            "image/png": "[encoded data removed]"
          },
          "metadata": {}
        },
        {
          "output_type": "stream",
          "name": "stdout",
          "text": [
            "0.21835116683211364\n"
          ]
        }
      ]
    },
    {
      "cell_type": "markdown",
      "source": [
        "### We can apply mean() to one column separately for each factor in a second column"
      ],
      "metadata": {
        "id": "xki95kuOBQty"
      }
    },
    {
      "cell_type": "code",
      "source": [
        "print(BS.groupby('Fertilizer')['Ht.change'].mean())  # does fertilizer help?"
      ],
      "metadata": {
        "colab": {
          "base_uri": "https://localhost:8080/"
        },
        "id": "mzdXkYv1BVw_",
        "outputId": "9f324057-a36b-4726-9112-8dfb36a5254f"
      },
      "execution_count": null,
      "outputs": [
        {
          "output_type": "stream",
          "name": "stdout",
          "text": [
            "Fertilizer\n",
            "F     38.288889\n",
            "NF    23.577778\n",
            "Name: Ht.change, dtype: float64\n"
          ]
        }
      ]
    },
    {
      "cell_type": "code",
      "source": [
        "print(BS.groupby('Competition')['Ht.change'].mean())  # does competition hurt?"
      ],
      "metadata": {
        "colab": {
          "base_uri": "https://localhost:8080/"
        },
        "id": "ymjuk3P2BY8c",
        "outputId": "cd4727ec-20b2-4257-a090-4c3a3a848b37"
      },
      "execution_count": null,
      "outputs": [
        {
          "output_type": "stream",
          "name": "stdout",
          "text": [
            "Competition\n",
            "C     25.702778\n",
            "NC    36.163889\n",
            "Name: Ht.change, dtype: float64\n"
          ]
        }
      ]
    },
    {
      "cell_type": "code",
      "execution_count": null,
      "metadata": {
        "id": "TnJifjoYy1O4",
        "colab": {
          "base_uri": "https://localhost:8080/"
        },
        "outputId": "fe74a089-12e7-4799-faf8-da17e4424bdd"
      },
      "outputs": [
        {
          "output_type": "stream",
          "name": "stdout",
          "text": [
            "Competition          C         NC\n",
            "Fertilizer                       \n",
            "F            33.805556  42.772222\n",
            "NF           17.600000  29.555556\n"
          ]
        }
      ],
      "source": [
        "# We can even consider a pair of factors and make a table\n",
        "print(BS.pivot_table(values='Ht.change', index='Fertilizer', columns='Competition', aggfunc='mean'))  # combination of factors\n"
      ]
    }
  ]
}