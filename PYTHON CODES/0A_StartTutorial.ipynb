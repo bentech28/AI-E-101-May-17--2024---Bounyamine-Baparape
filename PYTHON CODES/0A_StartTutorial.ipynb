{
  "nbformat": 4,
  "nbformat_minor": 0,
  "metadata": {
    "colab": {
      "provenance": [],
      "mount_file_id": "1BD4DcP_Ann1l4bmJcK8lGDiETs9JUKxk",
      "authorship_tag": "ABX9TyNofGrqITVqUPPbNHmmMNGv",
      "include_colab_link": true
    },
    "kernelspec": {
      "name": "python3",
      "display_name": "Python 3"
    },
    "language_info": {
      "name": "python"
    }
  },
  "cells": [
    {
      "cell_type": "markdown",
      "metadata": {
        "id": "view-in-github",
        "colab_type": "text"
      },
      "source": [
        "<a href=\"https://colab.research.google.com/github/bentech28/AI-E-101-May-17--2024---Bounyamine-Baparape/blob/main/0A_StartTutorial.ipynb\" target=\"_parent\"><img src=\"https://colab.research.google.com/assets/colab-badge.svg\" alt=\"Open In Colab\"/></a>"
      ]
    },
    {
      "cell_type": "markdown",
      "source": [
        "# Math 156 Script 0A-StartTutorial.R"
      ],
      "metadata": {
        "id": "WNwmExlkiUle"
      }
    },
    {
      "cell_type": "code",
      "source": [
        "import pandas as pd  # Importing pandas for data manipulation\n",
        "import numpy as np  # Importing numpy for numerical operations\n",
        "import matplotlib.pyplot as plt  # Importing matplotlib for plotting"
      ],
      "metadata": {
        "id": "lf77njDDigoe"
      },
      "execution_count": null,
      "outputs": []
    },
    {
      "cell_type": "markdown",
      "source": [
        "## Topic 1 - Simple arithmetic"
      ],
      "metadata": {
        "id": "Fe2gKUb6iijZ"
      }
    },
    {
      "cell_type": "code",
      "source": [
        "print(4 * 9)  # Simple multiplication\n",
        "print(3 + 2 * (8 - 4))  # Addition and multiplication with parentheses"
      ],
      "metadata": {
        "colab": {
          "base_uri": "https://localhost:8080/"
        },
        "id": "RqCHSvnWioZd",
        "outputId": "249e5a8e-adba-45b4-e8af-2ef871041037"
      },
      "execution_count": null,
      "outputs": [
        {
          "output_type": "stream",
          "name": "stdout",
          "text": [
            "36\n",
            "11\n"
          ]
        }
      ]
    },
    {
      "cell_type": "markdown",
      "source": [
        "### Creating a vector with five elements"
      ],
      "metadata": {
        "id": "naSyqcL5iy1p"
      }
    },
    {
      "cell_type": "code",
      "source": [
        "dog = np.arange(1, 6)\n",
        "print(dog)  # Displaying the vector"
      ],
      "metadata": {
        "colab": {
          "base_uri": "https://localhost:8080/"
        },
        "id": "SHk_yts5mOuN",
        "outputId": "ba997ff3-1d71-4770-cb27-50dc837ee271"
      },
      "execution_count": null,
      "outputs": [
        {
          "output_type": "stream",
          "name": "stdout",
          "text": [
            "[1 2 3 4 5]\n"
          ]
        }
      ]
    },
    {
      "cell_type": "code",
      "source": [
        "print(dog + 10)  # Adding 10 to each element of the vector\n"
      ],
      "metadata": {
        "colab": {
          "base_uri": "https://localhost:8080/"
        },
        "id": "LM1cf1fumT-w",
        "outputId": "0e8a3789-fb78-459b-a627-eed3f55e918a"
      },
      "execution_count": null,
      "outputs": [
        {
          "output_type": "stream",
          "name": "stdout",
          "text": [
            "[11 12 13 14 15]\n"
          ]
        }
      ]
    },
    {
      "cell_type": "code",
      "source": [
        "print(3 * dog)  # Multiplying each element by 3"
      ],
      "metadata": {
        "colab": {
          "base_uri": "https://localhost:8080/"
        },
        "id": "8cvReZsRmV1G",
        "outputId": "315c3c37-4337-4fe9-ce97-e3abe7efe854"
      },
      "execution_count": null,
      "outputs": [
        {
          "output_type": "stream",
          "name": "stdout",
          "text": [
            "[ 3  6  9 12 15]\n"
          ]
        }
      ]
    },
    {
      "cell_type": "code",
      "source": [
        "print(np.sum(dog))  # Sum of the elements of the vector"
      ],
      "metadata": {
        "id": "IHjAbpdXi3d8",
        "colab": {
          "base_uri": "https://localhost:8080/"
        },
        "outputId": "b8007362-1287-4885-d9bf-d8abd9a8795d"
      },
      "execution_count": null,
      "outputs": [
        {
          "output_type": "stream",
          "name": "stdout",
          "text": [
            "15\n"
          ]
        }
      ]
    },
    {
      "cell_type": "markdown",
      "source": [
        "# ?sum equivalent in Python: you can use help(np.sum) or np.sum?\n"
      ],
      "metadata": {
        "id": "cTpttStdjGIg"
      }
    },
    {
      "cell_type": "markdown",
      "source": [
        "## Topic 2 - Importing and analyzing data"
      ],
      "metadata": {
        "id": "nDfvcAnhjIMe"
      }
    },
    {
      "cell_type": "markdown",
      "source": [
        "### Importing data from a CSV file"
      ],
      "metadata": {
        "id": "gF6CGxV0jSG1"
      }
    },
    {
      "cell_type": "code",
      "source": [
        "FlightDelays = pd.read_csv(\"/content/drive/MyDrive/Colab Notebooks/DATA/FlightDelays.csv\")"
      ],
      "metadata": {
        "id": "cY0_SrXSjVYb"
      },
      "execution_count": null,
      "outputs": []
    },
    {
      "cell_type": "markdown",
      "source": [
        "### Displaying column names"
      ],
      "metadata": {
        "id": "22ie7Ny1jZJr"
      }
    },
    {
      "cell_type": "code",
      "source": [
        "print(FlightDelays.columns)  # Displaying column names"
      ],
      "metadata": {
        "id": "ZGpxi1zxjcd6",
        "colab": {
          "base_uri": "https://localhost:8080/"
        },
        "outputId": "acb72b22-ef26-47cd-f44a-95dc335c2ecd"
      },
      "execution_count": null,
      "outputs": [
        {
          "output_type": "stream",
          "name": "stdout",
          "text": [
            "Index(['ID', 'Carrier', 'FlightNo', 'Destination', 'DepartTime', 'Day',\n",
            "       'Month', 'FlightLength', 'Delay', 'Delayed30'],\n",
            "      dtype='object')\n"
          ]
        }
      ]
    },
    {
      "cell_type": "markdown",
      "source": [
        "### Displaying the first few rows"
      ],
      "metadata": {
        "id": "7JqWvcCujflI"
      }
    },
    {
      "cell_type": "code",
      "source": [
        "print(FlightDelays.head())  # Displaying the first few rows"
      ],
      "metadata": {
        "id": "DU4uTTw1jmXx",
        "colab": {
          "base_uri": "https://localhost:8080/"
        },
        "outputId": "45339480-49c4-439b-8c03-8f39c9208d4f"
      },
      "execution_count": null,
      "outputs": [
        {
          "output_type": "stream",
          "name": "stdout",
          "text": [
            "   ID Carrier  FlightNo Destination DepartTime  Day Month  FlightLength  \\\n",
            "0   1      UA       403         DEN      4-8am  Fri   May           281   \n",
            "1   2      UA       405         DEN     8-Noon  Fri   May           277   \n",
            "2   3      UA       409         DEN      4-8pm  Fri   May           279   \n",
            "3   4      UA       511         ORD     8-Noon  Fri   May           158   \n",
            "4   5      UA       667         ORD      4-8am  Fri   May           143   \n",
            "\n",
            "   Delay Delayed30  \n",
            "0     -1        No  \n",
            "1    102       Yes  \n",
            "2      4        No  \n",
            "3     -2        No  \n",
            "4     -3        No  \n"
          ]
        }
      ]
    },
    {
      "cell_type": "markdown",
      "source": [
        "### Dimensions of the DataFrame (number of rows and columns)"
      ],
      "metadata": {
        "id": "9HokUdxHjpIj"
      }
    },
    {
      "cell_type": "code",
      "source": [
        "print(FlightDelays.shape)  # Dimensions of the DataFrame (number of rows and columns)"
      ],
      "metadata": {
        "id": "fSlSDdXWjrw8",
        "colab": {
          "base_uri": "https://localhost:8080/"
        },
        "outputId": "59950545-dda6-4265-d02e-4c4e86d04e42"
      },
      "execution_count": null,
      "outputs": [
        {
          "output_type": "stream",
          "name": "stdout",
          "text": [
            "(4029, 10)\n"
          ]
        }
      ]
    },
    {
      "cell_type": "markdown",
      "source": [
        "### Counting occurrences of each destination"
      ],
      "metadata": {
        "id": "bk6HtbqGjuKV"
      }
    },
    {
      "cell_type": "code",
      "source": [
        "print(FlightDelays['Destination'].value_counts())  # Counting occurrences of each destination"
      ],
      "metadata": {
        "id": "43m7hVL-jyG-",
        "colab": {
          "base_uri": "https://localhost:8080/"
        },
        "outputId": "c28164bf-e917-4933-da96-ccc1e4d32b83"
      },
      "execution_count": null,
      "outputs": [
        {
          "output_type": "stream",
          "name": "stdout",
          "text": [
            "Destination\n",
            "ORD    1785\n",
            "DFW     918\n",
            "MIA     610\n",
            "DEN     264\n",
            "STL     225\n",
            "BNA     172\n",
            "IAD      55\n",
            "Name: count, dtype: int64\n"
          ]
        }
      ]
    },
    {
      "cell_type": "markdown",
      "source": [
        "### Bar plot of destinations"
      ],
      "metadata": {
        "id": "3SMhXXHkj06c"
      }
    },
    {
      "cell_type": "code",
      "source": [
        "FlightDelays['Destination'].value_counts().plot(kind='bar')  # Bar plot of destinations\n",
        "plt.show()  # Displaying the plot (uncomment if in an interactive environment)"
      ],
      "metadata": {
        "id": "pXfRvcWMj5vN",
        "colab": {
          "base_uri": "https://localhost:8080/",
          "height": 468
        },
        "outputId": "1cd3242a-b733-4993-ee86-4bf88923b1f7"
      },
      "execution_count": null,
      "outputs": [
        {
          "output_type": "display_data",
          "data": {
            "text/plain": [
              "<Figure size 640x480 with 1 Axes>"
            ],
            "image/png": "[encoded data removed]"
          },
          "metadata": {}
        }
      ]
    },
    {
      "cell_type": "markdown",
      "source": [
        "### Displaying the plot (uncomment if in an interactive environment)"
      ],
      "metadata": {
        "id": "3tO5bxTKj8jb"
      }
    },
    {
      "cell_type": "code",
      "source": [
        "plt.show()  # Displaying the plot (uncomment if in an interactive environment)"
      ],
      "metadata": {
        "id": "UKvHoGMRkBiK"
      },
      "execution_count": null,
      "outputs": []
    },
    {
      "cell_type": "markdown",
      "source": [
        "### Histogram of delays"
      ],
      "metadata": {
        "id": "9rLW31-LkH_S"
      }
    },
    {
      "cell_type": "code",
      "source": [
        "FlightDelays['Delay'].hist()"
      ],
      "metadata": {
        "id": "RGPQz4pTkMJG",
        "colab": {
          "base_uri": "https://localhost:8080/",
          "height": 447
        },
        "outputId": "9e66bd4e-38f9-40a5-ba5f-b34982d1439f"
      },
      "execution_count": null,
      "outputs": [
        {
          "output_type": "execute_result",
          "data": {
            "text/plain": [
              "<Axes: >"
            ]
          },
          "metadata": {},
          "execution_count": 18
        },
        {
          "output_type": "display_data",
          "data": {
            "text/plain": [
              "<Figure size 640x480 with 1 Axes>"
            ],
            "image/png": "[encoded data removed]"
          },
          "metadata": {}
        }
      ]
    },
    {
      "cell_type": "markdown",
      "source": [
        "### Displaying the plot (uncomment if in an interactive environment)"
      ],
      "metadata": {
        "id": "4hN0BTpWkOUp"
      }
    },
    {
      "cell_type": "code",
      "source": [
        "plt.show()  # Displaying the plot (uncomment if in an interactive environment)\n"
      ],
      "metadata": {
        "id": "tX4bz4POkh0O"
      },
      "execution_count": null,
      "outputs": []
    },
    {
      "cell_type": "markdown",
      "source": [
        "### Saving the Delay column as a vector"
      ],
      "metadata": {
        "id": "ph-hMdhwkkTm"
      }
    },
    {
      "cell_type": "code",
      "source": [
        "delay = FlightDelays['Delay']"
      ],
      "metadata": {
        "id": "Afhcqor0koZg"
      },
      "execution_count": null,
      "outputs": []
    },
    {
      "cell_type": "code",
      "source": [
        "print(np.mean(delay))  # Mean of the delays"
      ],
      "metadata": {
        "id": "NXrhBD0pktdl",
        "colab": {
          "base_uri": "https://localhost:8080/"
        },
        "outputId": "115ff87d-6100-4b2a-8bdf-2aada3cfe592"
      },
      "execution_count": null,
      "outputs": [
        {
          "output_type": "stream",
          "name": "stdout",
          "text": [
            "11.73790022338049\n"
          ]
        }
      ]
    },
    {
      "cell_type": "code",
      "source": [
        "print(np.median(delay))  # Median of the delays"
      ],
      "metadata": {
        "id": "qpAd2gx8kxCS",
        "colab": {
          "base_uri": "https://localhost:8080/"
        },
        "outputId": "dff0bb35-8e35-4242-feb5-93443021c5cf"
      },
      "execution_count": null,
      "outputs": [
        {
          "output_type": "stream",
          "name": "stdout",
          "text": [
            "-3.0\n"
          ]
        }
      ]
    },
    {
      "cell_type": "markdown",
      "source": [
        "### Trimmed mean is not directly available in numpy, using scipy for trimmed mean"
      ],
      "metadata": {
        "id": "_UzbL7Huk4IY"
      }
    },
    {
      "cell_type": "code",
      "source": [
        "from scipy.stats import trim_mean"
      ],
      "metadata": {
        "id": "_VTiIe1Dk9L0"
      },
      "execution_count": null,
      "outputs": []
    },
    {
      "cell_type": "code",
      "source": [
        "print(trim_mean(delay, 0.25))  # Trimmed mean at 25%"
      ],
      "metadata": {
        "id": "ApO41gA8lCig",
        "colab": {
          "base_uri": "https://localhost:8080/"
        },
        "outputId": "a213f4d0-4d53-47d4-a038-c5cec0aa0896"
      },
      "execution_count": null,
      "outputs": [
        {
          "output_type": "stream",
          "name": "stdout",
          "text": [
            "-2.133995037220844\n"
          ]
        }
      ]
    },
    {
      "cell_type": "code",
      "source": [
        "print(np.max(delay))  # Maximum delay"
      ],
      "metadata": {
        "id": "dO11L3vElD82",
        "colab": {
          "base_uri": "https://localhost:8080/"
        },
        "outputId": "e5819595-3c4c-4bcd-8bd6-eddd4f6fe455"
      },
      "execution_count": null,
      "outputs": [
        {
          "output_type": "stream",
          "name": "stdout",
          "text": [
            "693\n"
          ]
        }
      ]
    },
    {
      "cell_type": "code",
      "source": [
        "print(np.min(delay))  # Minimum delay"
      ],
      "metadata": {
        "id": "JimAKi5blFzK",
        "colab": {
          "base_uri": "https://localhost:8080/"
        },
        "outputId": "d88a12f8-adf7-4344-9fb2-e41379f03285"
      },
      "execution_count": null,
      "outputs": [
        {
          "output_type": "stream",
          "name": "stdout",
          "text": [
            "-19\n"
          ]
        }
      ]
    },
    {
      "cell_type": "code",
      "source": [
        "print(np.ptp(delay))  # Range of delays"
      ],
      "metadata": {
        "id": "sHhGS_lelHWq",
        "colab": {
          "base_uri": "https://localhost:8080/"
        },
        "outputId": "3dd35321-eb4c-432b-9597-9a90c0bb7f1f"
      },
      "execution_count": null,
      "outputs": [
        {
          "output_type": "stream",
          "name": "stdout",
          "text": [
            "712\n"
          ]
        }
      ]
    },
    {
      "cell_type": "code",
      "source": [
        "print(np.var(delay, ddof=1))  # Sample variance"
      ],
      "metadata": {
        "id": "_gBZJg8RlJXa",
        "colab": {
          "base_uri": "https://localhost:8080/"
        },
        "outputId": "10a803af-c712-4390-d958-3a3ed1fe0177"
      },
      "execution_count": null,
      "outputs": [
        {
          "output_type": "stream",
          "name": "stdout",
          "text": [
            "1733.0981188271821\n"
          ]
        }
      ]
    },
    {
      "cell_type": "code",
      "source": [
        "print(np.std(delay, ddof=1))  # Sample standard deviation"
      ],
      "metadata": {
        "id": "kJPbjcN-lOvz",
        "colab": {
          "base_uri": "https://localhost:8080/"
        },
        "outputId": "6248a413-163e-42ed-c436-fc2c024e6766"
      },
      "execution_count": null,
      "outputs": [
        {
          "output_type": "stream",
          "name": "stdout",
          "text": [
            "41.63049505863679\n"
          ]
        }
      ]
    },
    {
      "cell_type": "code",
      "source": [
        "print(np.quantile(delay, [0.25, 0.5, 0.75]))  # Quartiles"
      ],
      "metadata": {
        "id": "cwcFBjl6lQOz",
        "colab": {
          "base_uri": "https://localhost:8080/"
        },
        "outputId": "7b2a1d01-1383-433e-b3b0-7e5d286d4125"
      },
      "execution_count": null,
      "outputs": [
        {
          "output_type": "stream",
          "name": "stdout",
          "text": [
            "[-6. -3.  5.]\n"
          ]
        }
      ]
    },
    {
      "cell_type": "code",
      "source": [
        "# Calculating population variance\n",
        "n = len(delay)\n",
        "print((n-1)/n * np.var(delay, ddof=1))"
      ],
      "metadata": {
        "id": "ULCuwFrvlWvU",
        "colab": {
          "base_uri": "https://localhost:8080/"
        },
        "outputId": "26ae926a-62db-4046-f2b6-630092c4c6b7"
      },
      "execution_count": null,
      "outputs": [
        {
          "output_type": "stream",
          "name": "stdout",
          "text": [
            "1732.6679629277462\n"
          ]
        }
      ]
    },
    {
      "cell_type": "code",
      "source": [
        "# Mean delay by carrier\n",
        "print(FlightDelays.groupby('Carrier')['Delay'].mean())"
      ],
      "metadata": {
        "id": "pBVegIFBlZjN",
        "colab": {
          "base_uri": "https://localhost:8080/"
        },
        "outputId": "634ac839-2653-456e-b85e-9c8f560de43b"
      },
      "execution_count": null,
      "outputs": [
        {
          "output_type": "stream",
          "name": "stdout",
          "text": [
            "Carrier\n",
            "AA    10.097385\n",
            "UA    15.983081\n",
            "Name: Delay, dtype: float64\n"
          ]
        }
      ]
    },
    {
      "cell_type": "code",
      "source": [
        "# Median delay by departure time\n",
        "print(FlightDelays.groupby('DepartTime')['Delay'].median())"
      ],
      "metadata": {
        "id": "H-UQ7XfKleAy",
        "colab": {
          "base_uri": "https://localhost:8080/"
        },
        "outputId": "d3cc7c33-0c17-42f0-929c-f2c4dac6ac79"
      },
      "execution_count": null,
      "outputs": [
        {
          "output_type": "stream",
          "name": "stdout",
          "text": [
            "DepartTime\n",
            "4-8am      -3.0\n",
            "4-8pm       0.0\n",
            "8-Mid       6.0\n",
            "8-Noon     -4.0\n",
            "Noon-4pm   -2.0\n",
            "Name: Delay, dtype: float64\n"
          ]
        }
      ]
    },
    {
      "cell_type": "code",
      "source": [
        "print(delay.describe())  # Statistical summary of delays"
      ],
      "metadata": {
        "id": "YVFuBKQdlglV",
        "colab": {
          "base_uri": "https://localhost:8080/"
        },
        "outputId": "85e42e6d-cd49-4bc8-8624-c8ee58f71019"
      },
      "execution_count": null,
      "outputs": [
        {
          "output_type": "stream",
          "name": "stdout",
          "text": [
            "count    4029.000000\n",
            "mean       11.737900\n",
            "std        41.630495\n",
            "min       -19.000000\n",
            "25%        -6.000000\n",
            "50%        -3.000000\n",
            "75%         5.000000\n",
            "max       693.000000\n",
            "Name: Delay, dtype: float64\n"
          ]
        }
      ]
    },
    {
      "cell_type": "code",
      "source": [
        "FlightDelays.boxplot(column='Delay')  # Box plot of delays\n",
        "plt.show()  # Displaying the plot (uncomment if in an interactive environment)"
      ],
      "metadata": {
        "id": "xj2EGuiJllFX",
        "colab": {
          "base_uri": "https://localhost:8080/",
          "height": 430
        },
        "outputId": "a9d3a757-ed59-4e4f-b3f6-f5d8240199f4"
      },
      "execution_count": null,
      "outputs": [
        {
          "output_type": "display_data",
          "data": {
            "text/plain": [
              "<Figure size 640x480 with 1 Axes>"
            ],
            "image/png": "[encoded data removed]"
          },
          "metadata": {}
        }
      ]
    },
    {
      "cell_type": "code",
      "source": [
        "# Statistical summary of delays by day of the week\n",
        "print(FlightDelays.groupby('Day')['Delay'].describe())"
      ],
      "metadata": {
        "id": "tOPLeL6mlnhH",
        "colab": {
          "base_uri": "https://localhost:8080/"
        },
        "outputId": "6c750285-64b1-4f9d-b0bc-160bacba7dad"
      },
      "execution_count": null,
      "outputs": [
        {
          "output_type": "stream",
          "name": "stdout",
          "text": [
            "     count       mean        std   min  25%  50%    75%    max\n",
            "Day                                                           \n",
            "Fri  637.0  20.626374  49.975105 -15.0 -4.0  0.0  24.00  377.0\n",
            "Mon  630.0   5.868254  32.427247 -15.0 -6.0 -3.0   0.00  260.0\n",
            "Sat  453.0   5.450331  29.627112 -17.0 -7.0 -4.0   0.00  240.0\n",
            "Sun  551.0   5.223230  41.548253 -16.0 -6.0 -4.0   0.00  693.0\n",
            "Thu  566.0  21.249117  50.134860 -12.0 -5.0  0.0  26.00  536.0\n",
            "Tue  628.0  13.898089  45.934797 -19.0 -6.0 -2.0   5.00  299.0\n",
            "Wed  564.0   7.719858  28.746264 -17.0 -6.0 -3.0   3.25  214.0\n"
          ]
        }
      ]
    },
    {
      "cell_type": "code",
      "source": [
        "# Box plot of delays by day of the week\n",
        "FlightDelays.boxplot(column='Delay', by='Day')\n",
        "plt.show()  # Displaying the plot (uncomment if in an interactive environment)"
      ],
      "metadata": {
        "id": "F8BHT9NOltTn",
        "colab": {
          "base_uri": "https://localhost:8080/",
          "height": 478
        },
        "outputId": "212c76c4-f2c2-4bd7-9a3a-f6718751a5ae"
      },
      "execution_count": null,
      "outputs": [
        {
          "output_type": "display_data",
          "data": {
            "text/plain": [
              "<Figure size 640x480 with 1 Axes>"
            ],
            "image/png": "[encoded data removed]"
          },
          "metadata": {}
        }
      ]
    },
    {
      "cell_type": "code",
      "source": [
        "# Statistical summary of delays by departure time\n",
        "print(FlightDelays.groupby('DepartTime')['Delay'].describe())"
      ],
      "metadata": {
        "id": "7-mv9j1BlwmW",
        "colab": {
          "base_uri": "https://localhost:8080/"
        },
        "outputId": "f073fe1d-a793-4030-8684-a2525b421601"
      },
      "execution_count": null,
      "outputs": [
        {
          "output_type": "stream",
          "name": "stdout",
          "text": [
            "             count       mean        std   min  25%  50%   75%    max\n",
            "DepartTime                                                           \n",
            "4-8am        699.0   0.274678  21.403654 -16.0 -6.0 -3.0  -1.0  311.0\n",
            "4-8pm        972.0  22.529835  49.358043 -17.0 -5.0  0.0  30.0  334.0\n",
            "8-Mid        257.0  29.190661  62.397468 -19.0 -5.0  6.0  46.0  693.0\n",
            "8-Noon      1053.0   4.720798  35.346195 -13.0 -6.0 -4.0   0.0  536.0\n",
            "Noon-4pm    1048.0  12.145038  39.688182 -14.0 -6.0 -2.0   9.0  346.0\n"
          ]
        }
      ]
    },
    {
      "cell_type": "code",
      "source": [
        "# Box plot of delays by departure time\n",
        "FlightDelays.boxplot(column='Delay', by='DepartTime')\n",
        "plt.show()  # Displaying the plot (uncomment if in an interactive environment)"
      ],
      "metadata": {
        "id": "atDNUep-l06F",
        "colab": {
          "base_uri": "https://localhost:8080/",
          "height": 478
        },
        "outputId": "bbeae83b-172f-45b4-e3e7-69d2c4d15d22"
      },
      "execution_count": null,
      "outputs": [
        {
          "output_type": "display_data",
          "data": {
            "text/plain": [
              "<Figure size 640x480 with 1 Axes>"
            ],
            "image/png": "[encoded data removed]"
          },
          "metadata": {}
        }
      ]
    },
    {
      "cell_type": "code",
      "source": [
        "# Creating a list of numbers from 10 to 35\n",
        "fish25 = list(range(10, 36))\n",
        "print(fish25)  # Displaying the list"
      ],
      "metadata": {
        "id": "MEWfV9y6mTEh",
        "colab": {
          "base_uri": "https://localhost:8080/"
        },
        "outputId": "5a00ce1c-6c51-4927-cf1c-739406df1f02"
      },
      "execution_count": null,
      "outputs": [
        {
          "output_type": "stream",
          "name": "stdout",
          "text": [
            "[10, 11, 12, 13, 14, 15, 16, 17, 18, 19, 20, 21, 22, 23, 24, 25, 26, 27, 28, 29, 30, 31, 32, 33, 34, 35]\n"
          ]
        }
      ]
    },
    {
      "cell_type": "code",
      "source": [
        "try:\n",
        "    print(whale)  # Attempting to print an undefined variable\n",
        "except NameError:\n",
        "    print(\"whale is not defined\")  # Error message if the variable is not defined"
      ],
      "metadata": {
        "id": "_S6TJyxcmp93",
        "colab": {
          "base_uri": "https://localhost:8080/"
        },
        "outputId": "8afc13fc-527f-46f6-a82a-d6033a589986"
      },
      "execution_count": null,
      "outputs": [
        {
          "output_type": "stream",
          "name": "stdout",
          "text": [
            "whale is not defined\n"
          ]
        }
      ]
    },
    {
      "cell_type": "code",
      "source": [
        "\n",
        "whale = 200  # Defining the variable whale\n",
        "print(globals())  # Displaying global variables"
      ],
      "metadata": {
        "id": "ESgipTbwmuga",
        "colab": {
          "base_uri": "https://localhost:8080/"
        },
        "outputId": "cc1ad794-1fb4-4a2f-b1c5-c586b4dcc98a"
      },
      "execution_count": null,
      "outputs": [
        {
          "output_type": "stream",
          "name": "stdout",
          "text": [
            "{'__name__': '__main__', '__doc__': 'Automatically created module for IPython interactive environment', '__package__': None, '__loader__': None, '__spec__': None, '__builtin__': <module 'builtins' (built-in)>, '__builtins__': <module 'builtins' (built-in)>, '_ih': ['', 'import pandas as pd  # Importing pandas for data manipulation\\nimport numpy as np  # Importing numpy for numerical operations\\nimport matplotlib.pyplot as plt  # Importing matplotlib for plotting', 'print(4 * 9)  # Simple multiplication\\nprint(3 + 2 * (8 - 4))  # Addition and multiplication with parentheses', 'print(4 * 9)  # Simple multiplication\\nprint(3 + 2 * (8 - 4))  # Addition and multiplication with parentheses', 'dog = np.arange(1, 6)\\nprint(dog)  # Displaying the vector', 'print(dog + 10)  # Adding 10 to each element of the vector', 'print(3 * dog)  # Multiplying each element by 3', 'print(np.sum(dog))  # Sum of the elements of the vector', 'FlightDelays = pd.read_csv(\"FlightDelays.csv\")', 'FlightDelays = pd.read_csv(\"/content/drive/MyDrive/Colab Notebooks/DATA/FlightDelays.csv\")', 'print(FlightDelays.columns)  # Displaying column names', 'print(FlightDelays.head())  # Displaying the first few rows', 'print(FlightDelays.shape)  # Dimensions of the DataFrame (number of rows and columns)', \"print(FlightDelays['Destination'].value_counts())  # Counting occurrences of each destination\", \"FlightDelays['Destination'].value_counts().plot(kind='bar')  # Bar plot of destinations\", 'plt.show()  # Displaying the plot (uncomment if in an interactive environment)', 'plt.show()  # Displaying the plot (uncomment if in an interactive environment)', \"FlightDelays['Destination'].value_counts().plot(kind='bar')  # Bar plot of destinations\\nplt.show()  # Displaying the plot (uncomment if in an interactive environment)\", \"FlightDelays['Delay'].hist()\", \"delay = FlightDelays['Delay']\", 'print(np.mean(delay))  # Mean of the delays', 'print(np.median(delay))  # Median of the delays', 'print(trim_mean(delay, 0.25))  # Trimmed mean at 25%', 'from scipy.stats import trim_mean', 'print(trim_mean(delay, 0.25))  # Trimmed mean at 25%', 'print(np.max(delay))  # Maximum delay', 'print(np.min(delay))  # Minimum delay', 'print(np.ptp(delay))  # Range of delays', 'print(np.var(delay, ddof=1))  # Sample variance', 'print(np.std(delay, ddof=1))  # Sample standard deviation', 'print(np.quantile(delay, [0.25, 0.5, 0.75]))  # Quartiles', '# Calculating population variance\\nn = len(delay)\\nprint((n-1)/n * np.var(delay, ddof=1))', \"# Mean delay by carrier\\nprint(FlightDelays.groupby('Carrier')['Delay'].mean())\", \"# Median delay by departure time\\nprint(FlightDelays.groupby('DepartTime')['Delay'].median())\", 'print(delay.describe())  # Statistical summary of delays', \"FlightDelays.boxplot(column='Delay')  # Box plot of delays\\nplt.show()  # Displaying the plot (uncomment if in an interactive environment)\", \"# Statistical summary of delays by day of the week\\nprint(FlightDelays.groupby('Day')['Delay'].describe())\", \"# Box plot of delays by day of the week\\nFlightDelays.boxplot(column='Delay', by='Day')\\nplt.show()  # Displaying the plot (uncomment if in an interactive environment)\", \"# Statistical summary of delays by departure time\\nprint(FlightDelays.groupby('DepartTime')['Delay'].describe())\", \"# Box plot of delays by departure time\\nFlightDelays.boxplot(column='Delay', by='DepartTime')\\nplt.show()  # Displaying the plot (uncomment if in an interactive environment)\", '# Creating a list of numbers from 10 to 35\\nfish25 = list(range(10, 36))\\nprint(fish25)  # Displaying the list', 'try:\\n    print(whale)  # Attempting to print an undefined variable\\nexcept NameError:\\n    print(\"whale is not defined\")  # Error message if the variable is not defined', 'whale = 200  # Defining the variable whale\\nprint(globals())  # Displaying global variables'], '_oh': {14: <Axes: xlabel='Destination'>, 18: <Axes: >}, '_dh': ['/content'], 'In': ['', 'import pandas as pd  # Importing pandas for data manipulation\\nimport numpy as np  # Importing numpy for numerical operations\\nimport matplotlib.pyplot as plt  # Importing matplotlib for plotting', 'print(4 * 9)  # Simple multiplication\\nprint(3 + 2 * (8 - 4))  # Addition and multiplication with parentheses', 'print(4 * 9)  # Simple multiplication\\nprint(3 + 2 * (8 - 4))  # Addition and multiplication with parentheses', 'dog = np.arange(1, 6)\\nprint(dog)  # Displaying the vector', 'print(dog + 10)  # Adding 10 to each element of the vector', 'print(3 * dog)  # Multiplying each element by 3', 'print(np.sum(dog))  # Sum of the elements of the vector', 'FlightDelays = pd.read_csv(\"FlightDelays.csv\")', 'FlightDelays = pd.read_csv(\"/content/drive/MyDrive/Colab Notebooks/DATA/FlightDelays.csv\")', 'print(FlightDelays.columns)  # Displaying column names', 'print(FlightDelays.head())  # Displaying the first few rows', 'print(FlightDelays.shape)  # Dimensions of the DataFrame (number of rows and columns)', \"print(FlightDelays['Destination'].value_counts())  # Counting occurrences of each destination\", \"FlightDelays['Destination'].value_counts().plot(kind='bar')  # Bar plot of destinations\", 'plt.show()  # Displaying the plot (uncomment if in an interactive environment)', 'plt.show()  # Displaying the plot (uncomment if in an interactive environment)', \"FlightDelays['Destination'].value_counts().plot(kind='bar')  # Bar plot of destinations\\nplt.show()  # Displaying the plot (uncomment if in an interactive environment)\", \"FlightDelays['Delay'].hist()\", \"delay = FlightDelays['Delay']\", 'print(np.mean(delay))  # Mean of the delays', 'print(np.median(delay))  # Median of the delays', 'print(trim_mean(delay, 0.25))  # Trimmed mean at 25%', 'from scipy.stats import trim_mean', 'print(trim_mean(delay, 0.25))  # Trimmed mean at 25%', 'print(np.max(delay))  # Maximum delay', 'print(np.min(delay))  # Minimum delay', 'print(np.ptp(delay))  # Range of delays', 'print(np.var(delay, ddof=1))  # Sample variance', 'print(np.std(delay, ddof=1))  # Sample standard deviation', 'print(np.quantile(delay, [0.25, 0.5, 0.75]))  # Quartiles', '# Calculating population variance\\nn = len(delay)\\nprint((n-1)/n * np.var(delay, ddof=1))', \"# Mean delay by carrier\\nprint(FlightDelays.groupby('Carrier')['Delay'].mean())\", \"# Median delay by departure time\\nprint(FlightDelays.groupby('DepartTime')['Delay'].median())\", 'print(delay.describe())  # Statistical summary of delays', \"FlightDelays.boxplot(column='Delay')  # Box plot of delays\\nplt.show()  # Displaying the plot (uncomment if in an interactive environment)\", \"# Statistical summary of delays by day of the week\\nprint(FlightDelays.groupby('Day')['Delay'].describe())\", \"# Box plot of delays by day of the week\\nFlightDelays.boxplot(column='Delay', by='Day')\\nplt.show()  # Displaying the plot (uncomment if in an interactive environment)\", \"# Statistical summary of delays by departure time\\nprint(FlightDelays.groupby('DepartTime')['Delay'].describe())\", \"# Box plot of delays by departure time\\nFlightDelays.boxplot(column='Delay', by='DepartTime')\\nplt.show()  # Displaying the plot (uncomment if in an interactive environment)\", '# Creating a list of numbers from 10 to 35\\nfish25 = list(range(10, 36))\\nprint(fish25)  # Displaying the list', 'try:\\n    print(whale)  # Attempting to print an undefined variable\\nexcept NameError:\\n    print(\"whale is not defined\")  # Error message if the variable is not defined', 'whale = 200  # Defining the variable whale\\nprint(globals())  # Displaying global variables'], 'Out': {14: <Axes: xlabel='Destination'>, 18: <Axes: >}, 'get_ipython': <bound method InteractiveShell.get_ipython of <google.colab._shell.Shell object at 0x7b6424aa5fc0>>, 'exit': <IPython.core.autocall.ZMQExitAutocall object at 0x7b6424aa6560>, 'quit': <IPython.core.autocall.ZMQExitAutocall object at 0x7b6424aa6560>, '_': <Axes: >, '__': <Axes: xlabel='Destination'>, '___': '', '_i': 'try:\\n    print(whale)  # Attempting to print an undefined variable\\nexcept NameError:\\n    print(\"whale is not defined\")  # Error message if the variable is not defined', '_ii': '# Creating a list of numbers from 10 to 35\\nfish25 = list(range(10, 36))\\nprint(fish25)  # Displaying the list', '_iii': \"# Box plot of delays by departure time\\nFlightDelays.boxplot(column='Delay', by='DepartTime')\\nplt.show()  # Displaying the plot (uncomment if in an interactive environment)\", '_i1': 'import pandas as pd  # Importing pandas for data manipulation\\nimport numpy as np  # Importing numpy for numerical operations\\nimport matplotlib.pyplot as plt  # Importing matplotlib for plotting', 'pd': <module 'pandas' from '/usr/local/lib/python3.10/dist-packages/pandas/__init__.py'>, 'np': <module 'numpy' from '/usr/local/lib/python3.10/dist-packages/numpy/__init__.py'>, 'plt': <module 'matplotlib.pyplot' from '/usr/local/lib/python3.10/dist-packages/matplotlib/pyplot.py'>, '_i2': 'print(4 * 9)  # Simple multiplication\\nprint(3 + 2 * (8 - 4))  # Addition and multiplication with parentheses', '_i3': 'print(4 * 9)  # Simple multiplication\\nprint(3 + 2 * (8 - 4))  # Addition and multiplication with parentheses', '_i4': 'dog = np.arange(1, 6)\\nprint(dog)  # Displaying the vector', 'dog': array([1, 2, 3, 4, 5]), '_i5': 'print(dog + 10)  # Adding 10 to each element of the vector', '_i6': 'print(3 * dog)  # Multiplying each element by 3', '_i7': 'print(np.sum(dog))  # Sum of the elements of the vector', '_i8': 'FlightDelays = pd.read_csv(\"FlightDelays.csv\")', '_i9': 'FlightDelays = pd.read_csv(\"/content/drive/MyDrive/Colab Notebooks/DATA/FlightDelays.csv\")', 'FlightDelays':         ID Carrier  FlightNo Destination DepartTime  Day Month  FlightLength  \\\n",
            "0        1      UA       403         DEN      4-8am  Fri   May           281   \n",
            "1        2      UA       405         DEN     8-Noon  Fri   May           277   \n",
            "2        3      UA       409         DEN      4-8pm  Fri   May           279   \n",
            "3        4      UA       511         ORD     8-Noon  Fri   May           158   \n",
            "4        5      UA       667         ORD      4-8am  Fri   May           143   \n",
            "...    ...     ...       ...         ...        ...  ...   ...           ...   \n",
            "4024  4025      AA      2011         MIA      4-8pm  Tue  June           195   \n",
            "4025  4026      AA      2015         MIA     8-Noon  Tue  June           190   \n",
            "4026  4027      AA      2093         MIA   Noon-4pm  Tue  June           162   \n",
            "4027  4028      AA      2223         STL      4-8pm  Tue  June           168   \n",
            "4028  4029      AA      2255         MIA      4-8am  Tue  June           170   \n",
            "\n",
            "      Delay Delayed30  \n",
            "0        -1        No  \n",
            "1       102       Yes  \n",
            "2         4        No  \n",
            "3        -2        No  \n",
            "4        -3        No  \n",
            "...     ...       ...  \n",
            "4024     10        No  \n",
            "4025    160       Yes  \n",
            "4026    250       Yes  \n",
            "4027     16        No  \n",
            "4028     -2        No  \n",
            "\n",
            "[4029 rows x 10 columns], '_i10': 'print(FlightDelays.columns)  # Displaying column names', '_i11': 'print(FlightDelays.head())  # Displaying the first few rows', '_i12': 'print(FlightDelays.shape)  # Dimensions of the DataFrame (number of rows and columns)', '_i13': \"print(FlightDelays['Destination'].value_counts())  # Counting occurrences of each destination\", '_i14': \"FlightDelays['Destination'].value_counts().plot(kind='bar')  # Bar plot of destinations\", '_14': <Axes: xlabel='Destination'>, '_i15': 'plt.show()  # Displaying the plot (uncomment if in an interactive environment)', '_i16': 'plt.show()  # Displaying the plot (uncomment if in an interactive environment)', '_i17': \"FlightDelays['Destination'].value_counts().plot(kind='bar')  # Bar plot of destinations\\nplt.show()  # Displaying the plot (uncomment if in an interactive environment)\", '_i18': \"FlightDelays['Delay'].hist()\", '_18': <Axes: >, '_i19': \"delay = FlightDelays['Delay']\", 'delay': 0        -1\n",
            "1       102\n",
            "2         4\n",
            "3        -2\n",
            "4        -3\n",
            "       ... \n",
            "4024     10\n",
            "4025    160\n",
            "4026    250\n",
            "4027     16\n",
            "4028     -2\n",
            "Name: Delay, Length: 4029, dtype: int64, '_i20': 'print(np.mean(delay))  # Mean of the delays', '_i21': 'print(np.median(delay))  # Median of the delays', '_i22': 'print(trim_mean(delay, 0.25))  # Trimmed mean at 25%', '_i23': 'from scipy.stats import trim_mean', 'trim_mean': <function trim_mean at 0x7b63db1a32e0>, '_i24': 'print(trim_mean(delay, 0.25))  # Trimmed mean at 25%', '_i25': 'print(np.max(delay))  # Maximum delay', '_i26': 'print(np.min(delay))  # Minimum delay', '_i27': 'print(np.ptp(delay))  # Range of delays', '_i28': 'print(np.var(delay, ddof=1))  # Sample variance', '_i29': 'print(np.std(delay, ddof=1))  # Sample standard deviation', '_i30': 'print(np.quantile(delay, [0.25, 0.5, 0.75]))  # Quartiles', '_i31': '# Calculating population variance\\nn = len(delay)\\nprint((n-1)/n * np.var(delay, ddof=1))', 'n': 4029, '_i32': \"# Mean delay by carrier\\nprint(FlightDelays.groupby('Carrier')['Delay'].mean())\", '_i33': \"# Median delay by departure time\\nprint(FlightDelays.groupby('DepartTime')['Delay'].median())\", '_i34': 'print(delay.describe())  # Statistical summary of delays', '_i35': \"FlightDelays.boxplot(column='Delay')  # Box plot of delays\\nplt.show()  # Displaying the plot (uncomment if in an interactive environment)\", '_i36': \"# Statistical summary of delays by day of the week\\nprint(FlightDelays.groupby('Day')['Delay'].describe())\", '_i37': \"# Box plot of delays by day of the week\\nFlightDelays.boxplot(column='Delay', by='Day')\\nplt.show()  # Displaying the plot (uncomment if in an interactive environment)\", '_i38': \"# Statistical summary of delays by departure time\\nprint(FlightDelays.groupby('DepartTime')['Delay'].describe())\", '_i39': \"# Box plot of delays by departure time\\nFlightDelays.boxplot(column='Delay', by='DepartTime')\\nplt.show()  # Displaying the plot (uncomment if in an interactive environment)\", '_i40': '# Creating a list of numbers from 10 to 35\\nfish25 = list(range(10, 36))\\nprint(fish25)  # Displaying the list', 'fish25': [10, 11, 12, 13, 14, 15, 16, 17, 18, 19, 20, 21, 22, 23, 24, 25, 26, 27, 28, 29, 30, 31, 32, 33, 34, 35], '_i41': 'try:\\n    print(whale)  # Attempting to print an undefined variable\\nexcept NameError:\\n    print(\"whale is not defined\")  # Error message if the variable is not defined', '_i42': '\\nwhale = 200  # Defining the variable whale\\nprint(globals())  # Displaying global variables', 'whale': 200}\n"
          ]
        }
      ]
    },
    {
      "cell_type": "code",
      "source": [
        "del whale  # Deleting the variable whale\n",
        "print(globals())  # Displaying global variables after deletion"
      ],
      "metadata": {
        "id": "bt2tFNeTmwyb",
        "colab": {
          "base_uri": "https://localhost:8080/"
        },
        "outputId": "e7bb3a5a-7533-4a7f-a052-3397938ef185"
      },
      "execution_count": null,
      "outputs": [
        {
          "output_type": "stream",
          "name": "stdout",
          "text": [
            "{'__name__': '__main__', '__doc__': 'Automatically created module for IPython interactive environment', '__package__': None, '__loader__': None, '__spec__': None, '__builtin__': <module 'builtins' (built-in)>, '__builtins__': <module 'builtins' (built-in)>, '_ih': ['', 'import pandas as pd  # Importing pandas for data manipulation\\nimport numpy as np  # Importing numpy for numerical operations\\nimport matplotlib.pyplot as plt  # Importing matplotlib for plotting', 'print(4 * 9)  # Simple multiplication\\nprint(3 + 2 * (8 - 4))  # Addition and multiplication with parentheses', 'print(4 * 9)  # Simple multiplication\\nprint(3 + 2 * (8 - 4))  # Addition and multiplication with parentheses', 'dog = np.arange(1, 6)\\nprint(dog)  # Displaying the vector', 'print(dog + 10)  # Adding 10 to each element of the vector', 'print(3 * dog)  # Multiplying each element by 3', 'print(np.sum(dog))  # Sum of the elements of the vector', 'FlightDelays = pd.read_csv(\"FlightDelays.csv\")', 'FlightDelays = pd.read_csv(\"/content/drive/MyDrive/Colab Notebooks/DATA/FlightDelays.csv\")', 'print(FlightDelays.columns)  # Displaying column names', 'print(FlightDelays.head())  # Displaying the first few rows', 'print(FlightDelays.shape)  # Dimensions of the DataFrame (number of rows and columns)', \"print(FlightDelays['Destination'].value_counts())  # Counting occurrences of each destination\", \"FlightDelays['Destination'].value_counts().plot(kind='bar')  # Bar plot of destinations\", 'plt.show()  # Displaying the plot (uncomment if in an interactive environment)', 'plt.show()  # Displaying the plot (uncomment if in an interactive environment)', \"FlightDelays['Destination'].value_counts().plot(kind='bar')  # Bar plot of destinations\\nplt.show()  # Displaying the plot (uncomment if in an interactive environment)\", \"FlightDelays['Delay'].hist()\", \"delay = FlightDelays['Delay']\", 'print(np.mean(delay))  # Mean of the delays', 'print(np.median(delay))  # Median of the delays', 'print(trim_mean(delay, 0.25))  # Trimmed mean at 25%', 'from scipy.stats import trim_mean', 'print(trim_mean(delay, 0.25))  # Trimmed mean at 25%', 'print(np.max(delay))  # Maximum delay', 'print(np.min(delay))  # Minimum delay', 'print(np.ptp(delay))  # Range of delays', 'print(np.var(delay, ddof=1))  # Sample variance', 'print(np.std(delay, ddof=1))  # Sample standard deviation', 'print(np.quantile(delay, [0.25, 0.5, 0.75]))  # Quartiles', '# Calculating population variance\\nn = len(delay)\\nprint((n-1)/n * np.var(delay, ddof=1))', \"# Mean delay by carrier\\nprint(FlightDelays.groupby('Carrier')['Delay'].mean())\", \"# Median delay by departure time\\nprint(FlightDelays.groupby('DepartTime')['Delay'].median())\", 'print(delay.describe())  # Statistical summary of delays', \"FlightDelays.boxplot(column='Delay')  # Box plot of delays\\nplt.show()  # Displaying the plot (uncomment if in an interactive environment)\", \"# Statistical summary of delays by day of the week\\nprint(FlightDelays.groupby('Day')['Delay'].describe())\", \"# Box plot of delays by day of the week\\nFlightDelays.boxplot(column='Delay', by='Day')\\nplt.show()  # Displaying the plot (uncomment if in an interactive environment)\", \"# Statistical summary of delays by departure time\\nprint(FlightDelays.groupby('DepartTime')['Delay'].describe())\", \"# Box plot of delays by departure time\\nFlightDelays.boxplot(column='Delay', by='DepartTime')\\nplt.show()  # Displaying the plot (uncomment if in an interactive environment)\", '# Creating a list of numbers from 10 to 35\\nfish25 = list(range(10, 36))\\nprint(fish25)  # Displaying the list', 'try:\\n    print(whale)  # Attempting to print an undefined variable\\nexcept NameError:\\n    print(\"whale is not defined\")  # Error message if the variable is not defined', 'whale = 200  # Defining the variable whale\\nprint(globals())  # Displaying global variables', 'divmodel whale  # Deleting the variable whale\\nprint(globals())  # Displaying global variables after deletion', 'del whale  # Deleting the variable whale\\nprint(globals())  # Displaying global variables after deletion'], '_oh': {14: <Axes: xlabel='Destination'>, 18: <Axes: >}, '_dh': ['/content'], 'In': ['', 'import pandas as pd  # Importing pandas for data manipulation\\nimport numpy as np  # Importing numpy for numerical operations\\nimport matplotlib.pyplot as plt  # Importing matplotlib for plotting', 'print(4 * 9)  # Simple multiplication\\nprint(3 + 2 * (8 - 4))  # Addition and multiplication with parentheses', 'print(4 * 9)  # Simple multiplication\\nprint(3 + 2 * (8 - 4))  # Addition and multiplication with parentheses', 'dog = np.arange(1, 6)\\nprint(dog)  # Displaying the vector', 'print(dog + 10)  # Adding 10 to each element of the vector', 'print(3 * dog)  # Multiplying each element by 3', 'print(np.sum(dog))  # Sum of the elements of the vector', 'FlightDelays = pd.read_csv(\"FlightDelays.csv\")', 'FlightDelays = pd.read_csv(\"/content/drive/MyDrive/Colab Notebooks/DATA/FlightDelays.csv\")', 'print(FlightDelays.columns)  # Displaying column names', 'print(FlightDelays.head())  # Displaying the first few rows', 'print(FlightDelays.shape)  # Dimensions of the DataFrame (number of rows and columns)', \"print(FlightDelays['Destination'].value_counts())  # Counting occurrences of each destination\", \"FlightDelays['Destination'].value_counts().plot(kind='bar')  # Bar plot of destinations\", 'plt.show()  # Displaying the plot (uncomment if in an interactive environment)', 'plt.show()  # Displaying the plot (uncomment if in an interactive environment)', \"FlightDelays['Destination'].value_counts().plot(kind='bar')  # Bar plot of destinations\\nplt.show()  # Displaying the plot (uncomment if in an interactive environment)\", \"FlightDelays['Delay'].hist()\", \"delay = FlightDelays['Delay']\", 'print(np.mean(delay))  # Mean of the delays', 'print(np.median(delay))  # Median of the delays', 'print(trim_mean(delay, 0.25))  # Trimmed mean at 25%', 'from scipy.stats import trim_mean', 'print(trim_mean(delay, 0.25))  # Trimmed mean at 25%', 'print(np.max(delay))  # Maximum delay', 'print(np.min(delay))  # Minimum delay', 'print(np.ptp(delay))  # Range of delays', 'print(np.var(delay, ddof=1))  # Sample variance', 'print(np.std(delay, ddof=1))  # Sample standard deviation', 'print(np.quantile(delay, [0.25, 0.5, 0.75]))  # Quartiles', '# Calculating population variance\\nn = len(delay)\\nprint((n-1)/n * np.var(delay, ddof=1))', \"# Mean delay by carrier\\nprint(FlightDelays.groupby('Carrier')['Delay'].mean())\", \"# Median delay by departure time\\nprint(FlightDelays.groupby('DepartTime')['Delay'].median())\", 'print(delay.describe())  # Statistical summary of delays', \"FlightDelays.boxplot(column='Delay')  # Box plot of delays\\nplt.show()  # Displaying the plot (uncomment if in an interactive environment)\", \"# Statistical summary of delays by day of the week\\nprint(FlightDelays.groupby('Day')['Delay'].describe())\", \"# Box plot of delays by day of the week\\nFlightDelays.boxplot(column='Delay', by='Day')\\nplt.show()  # Displaying the plot (uncomment if in an interactive environment)\", \"# Statistical summary of delays by departure time\\nprint(FlightDelays.groupby('DepartTime')['Delay'].describe())\", \"# Box plot of delays by departure time\\nFlightDelays.boxplot(column='Delay', by='DepartTime')\\nplt.show()  # Displaying the plot (uncomment if in an interactive environment)\", '# Creating a list of numbers from 10 to 35\\nfish25 = list(range(10, 36))\\nprint(fish25)  # Displaying the list', 'try:\\n    print(whale)  # Attempting to print an undefined variable\\nexcept NameError:\\n    print(\"whale is not defined\")  # Error message if the variable is not defined', 'whale = 200  # Defining the variable whale\\nprint(globals())  # Displaying global variables', 'divmodel whale  # Deleting the variable whale\\nprint(globals())  # Displaying global variables after deletion', 'del whale  # Deleting the variable whale\\nprint(globals())  # Displaying global variables after deletion'], 'Out': {14: <Axes: xlabel='Destination'>, 18: <Axes: >}, 'get_ipython': <bound method InteractiveShell.get_ipython of <google.colab._shell.Shell object at 0x7b6424aa5fc0>>, 'exit': <IPython.core.autocall.ZMQExitAutocall object at 0x7b6424aa6560>, 'quit': <IPython.core.autocall.ZMQExitAutocall object at 0x7b6424aa6560>, '_': <Axes: >, '__': <Axes: xlabel='Destination'>, '___': '', '_i': 'divmodel whale  # Deleting the variable whale\\nprint(globals())  # Displaying global variables after deletion', '_ii': '\\nwhale = 200  # Defining the variable whale\\nprint(globals())  # Displaying global variables', '_iii': 'try:\\n    print(whale)  # Attempting to print an undefined variable\\nexcept NameError:\\n    print(\"whale is not defined\")  # Error message if the variable is not defined', '_i1': 'import pandas as pd  # Importing pandas for data manipulation\\nimport numpy as np  # Importing numpy for numerical operations\\nimport matplotlib.pyplot as plt  # Importing matplotlib for plotting', 'pd': <module 'pandas' from '/usr/local/lib/python3.10/dist-packages/pandas/__init__.py'>, 'np': <module 'numpy' from '/usr/local/lib/python3.10/dist-packages/numpy/__init__.py'>, 'plt': <module 'matplotlib.pyplot' from '/usr/local/lib/python3.10/dist-packages/matplotlib/pyplot.py'>, '_i2': 'print(4 * 9)  # Simple multiplication\\nprint(3 + 2 * (8 - 4))  # Addition and multiplication with parentheses', '_i3': 'print(4 * 9)  # Simple multiplication\\nprint(3 + 2 * (8 - 4))  # Addition and multiplication with parentheses', '_i4': 'dog = np.arange(1, 6)\\nprint(dog)  # Displaying the vector', 'dog': array([1, 2, 3, 4, 5]), '_i5': 'print(dog + 10)  # Adding 10 to each element of the vector', '_i6': 'print(3 * dog)  # Multiplying each element by 3', '_i7': 'print(np.sum(dog))  # Sum of the elements of the vector', '_i8': 'FlightDelays = pd.read_csv(\"FlightDelays.csv\")', '_i9': 'FlightDelays = pd.read_csv(\"/content/drive/MyDrive/Colab Notebooks/DATA/FlightDelays.csv\")', 'FlightDelays':         ID Carrier  FlightNo Destination DepartTime  Day Month  FlightLength  \\\n",
            "0        1      UA       403         DEN      4-8am  Fri   May           281   \n",
            "1        2      UA       405         DEN     8-Noon  Fri   May           277   \n",
            "2        3      UA       409         DEN      4-8pm  Fri   May           279   \n",
            "3        4      UA       511         ORD     8-Noon  Fri   May           158   \n",
            "4        5      UA       667         ORD      4-8am  Fri   May           143   \n",
            "...    ...     ...       ...         ...        ...  ...   ...           ...   \n",
            "4024  4025      AA      2011         MIA      4-8pm  Tue  June           195   \n",
            "4025  4026      AA      2015         MIA     8-Noon  Tue  June           190   \n",
            "4026  4027      AA      2093         MIA   Noon-4pm  Tue  June           162   \n",
            "4027  4028      AA      2223         STL      4-8pm  Tue  June           168   \n",
            "4028  4029      AA      2255         MIA      4-8am  Tue  June           170   \n",
            "\n",
            "      Delay Delayed30  \n",
            "0        -1        No  \n",
            "1       102       Yes  \n",
            "2         4        No  \n",
            "3        -2        No  \n",
            "4        -3        No  \n",
            "...     ...       ...  \n",
            "4024     10        No  \n",
            "4025    160       Yes  \n",
            "4026    250       Yes  \n",
            "4027     16        No  \n",
            "4028     -2        No  \n",
            "\n",
            "[4029 rows x 10 columns], '_i10': 'print(FlightDelays.columns)  # Displaying column names', '_i11': 'print(FlightDelays.head())  # Displaying the first few rows', '_i12': 'print(FlightDelays.shape)  # Dimensions of the DataFrame (number of rows and columns)', '_i13': \"print(FlightDelays['Destination'].value_counts())  # Counting occurrences of each destination\", '_i14': \"FlightDelays['Destination'].value_counts().plot(kind='bar')  # Bar plot of destinations\", '_14': <Axes: xlabel='Destination'>, '_i15': 'plt.show()  # Displaying the plot (uncomment if in an interactive environment)', '_i16': 'plt.show()  # Displaying the plot (uncomment if in an interactive environment)', '_i17': \"FlightDelays['Destination'].value_counts().plot(kind='bar')  # Bar plot of destinations\\nplt.show()  # Displaying the plot (uncomment if in an interactive environment)\", '_i18': \"FlightDelays['Delay'].hist()\", '_18': <Axes: >, '_i19': \"delay = FlightDelays['Delay']\", 'delay': 0        -1\n",
            "1       102\n",
            "2         4\n",
            "3        -2\n",
            "4        -3\n",
            "       ... \n",
            "4024     10\n",
            "4025    160\n",
            "4026    250\n",
            "4027     16\n",
            "4028     -2\n",
            "Name: Delay, Length: 4029, dtype: int64, '_i20': 'print(np.mean(delay))  # Mean of the delays', '_i21': 'print(np.median(delay))  # Median of the delays', '_i22': 'print(trim_mean(delay, 0.25))  # Trimmed mean at 25%', '_i23': 'from scipy.stats import trim_mean', 'trim_mean': <function trim_mean at 0x7b63db1a32e0>, '_i24': 'print(trim_mean(delay, 0.25))  # Trimmed mean at 25%', '_i25': 'print(np.max(delay))  # Maximum delay', '_i26': 'print(np.min(delay))  # Minimum delay', '_i27': 'print(np.ptp(delay))  # Range of delays', '_i28': 'print(np.var(delay, ddof=1))  # Sample variance', '_i29': 'print(np.std(delay, ddof=1))  # Sample standard deviation', '_i30': 'print(np.quantile(delay, [0.25, 0.5, 0.75]))  # Quartiles', '_i31': '# Calculating population variance\\nn = len(delay)\\nprint((n-1)/n * np.var(delay, ddof=1))', 'n': 4029, '_i32': \"# Mean delay by carrier\\nprint(FlightDelays.groupby('Carrier')['Delay'].mean())\", '_i33': \"# Median delay by departure time\\nprint(FlightDelays.groupby('DepartTime')['Delay'].median())\", '_i34': 'print(delay.describe())  # Statistical summary of delays', '_i35': \"FlightDelays.boxplot(column='Delay')  # Box plot of delays\\nplt.show()  # Displaying the plot (uncomment if in an interactive environment)\", '_i36': \"# Statistical summary of delays by day of the week\\nprint(FlightDelays.groupby('Day')['Delay'].describe())\", '_i37': \"# Box plot of delays by day of the week\\nFlightDelays.boxplot(column='Delay', by='Day')\\nplt.show()  # Displaying the plot (uncomment if in an interactive environment)\", '_i38': \"# Statistical summary of delays by departure time\\nprint(FlightDelays.groupby('DepartTime')['Delay'].describe())\", '_i39': \"# Box plot of delays by departure time\\nFlightDelays.boxplot(column='Delay', by='DepartTime')\\nplt.show()  # Displaying the plot (uncomment if in an interactive environment)\", '_i40': '# Creating a list of numbers from 10 to 35\\nfish25 = list(range(10, 36))\\nprint(fish25)  # Displaying the list', 'fish25': [10, 11, 12, 13, 14, 15, 16, 17, 18, 19, 20, 21, 22, 23, 24, 25, 26, 27, 28, 29, 30, 31, 32, 33, 34, 35], '_i41': 'try:\\n    print(whale)  # Attempting to print an undefined variable\\nexcept NameError:\\n    print(\"whale is not defined\")  # Error message if the variable is not defined', '_i42': '\\nwhale = 200  # Defining the variable whale\\nprint(globals())  # Displaying global variables', '_i43': 'divmodel whale  # Deleting the variable whale\\nprint(globals())  # Displaying global variables after deletion', '_i44': 'del whale  # Deleting the variable whale\\nprint(globals())  # Displaying global variables after deletion'}\n"
          ]
        }
      ]
    },
    {
      "cell_type": "code",
      "source": [
        "# Spaces are insignificant in Python\n",
        "print(3 + 4)\n",
        "print(3 + 4)\n",
        "print(np.mean([3 + 5]))\n",
        "print(np.mean([3 + 5]))"
      ],
      "metadata": {
        "id": "2ybgRpJ4m4jA",
        "colab": {
          "base_uri": "https://localhost:8080/"
        },
        "outputId": "2036da24-f701-4e38-8aa3-275020d92701"
      },
      "execution_count": null,
      "outputs": [
        {
          "output_type": "stream",
          "name": "stdout",
          "text": [
            "7\n",
            "7\n",
            "8.0\n",
            "8.0\n"
          ]
        }
      ]
    },
    {
      "cell_type": "markdown",
      "source": [
        "## Topic 3 - Vectors, arithmetic, and logical values"
      ],
      "metadata": {
        "id": "Dhs3qIOinBm8"
      }
    },
    {
      "cell_type": "code",
      "source": [
        "print(list(range(1, 11)))  # Creating a vector from 1 to 10"
      ],
      "metadata": {
        "id": "oL0Lo0TRm_FX",
        "colab": {
          "base_uri": "https://localhost:8080/"
        },
        "outputId": "3828bd10-69d4-4411-bf2a-af9602dbce51"
      },
      "execution_count": null,
      "outputs": [
        {
          "output_type": "stream",
          "name": "stdout",
          "text": [
            "[1, 2, 3, 4, 5, 6, 7, 8, 9, 10]\n"
          ]
        }
      ]
    },
    {
      "cell_type": "code",
      "source": [
        "print(list(range(5, -4, -1)))  # Creating a vector from 5 to -3"
      ],
      "metadata": {
        "id": "irq6jfgZnGba",
        "colab": {
          "base_uri": "https://localhost:8080/"
        },
        "outputId": "3406787d-ab1a-4b5a-ecea-695e8e3740ad"
      },
      "execution_count": null,
      "outputs": [
        {
          "output_type": "stream",
          "name": "stdout",
          "text": [
            "[5, 4, 3, 2, 1, 0, -1, -2, -3]\n"
          ]
        }
      ]
    },
    {
      "cell_type": "code",
      "source": [
        "print(np.arange(0, 3.2, 0.2))  # Sequence from 0 to 3 by 0.2"
      ],
      "metadata": {
        "id": "ot3qJsSjnLZu",
        "colab": {
          "base_uri": "https://localhost:8080/"
        },
        "outputId": "2a842676-40e9-476a-fd37-c6e986b94b46"
      },
      "execution_count": null,
      "outputs": [
        {
          "output_type": "stream",
          "name": "stdout",
          "text": [
            "[0.  0.2 0.4 0.6 0.8 1.  1.2 1.4 1.6 1.8 2.  2.2 2.4 2.6 2.8 3. ]\n"
          ]
        }
      ]
    },
    {
      "cell_type": "code",
      "source": [
        "print(np.linspace(0, 3, 15))  # Sequence from 0 to 3 in 15 points"
      ],
      "metadata": {
        "id": "b8SA4brwnPKQ",
        "colab": {
          "base_uri": "https://localhost:8080/"
        },
        "outputId": "28c4ba78-a708-413f-ce73-afd78056ffec"
      },
      "execution_count": null,
      "outputs": [
        {
          "output_type": "stream",
          "name": "stdout",
          "text": [
            "[0.         0.21428571 0.42857143 0.64285714 0.85714286 1.07142857\n",
            " 1.28571429 1.5        1.71428571 1.92857143 2.14285714 2.35714286\n",
            " 2.57142857 2.78571429 3.        ]\n"
          ]
        }
      ]
    },
    {
      "cell_type": "code",
      "source": [
        "print(np.quantile(delay, np.arange(0, 1.1, 0.1)))  # Deciles of delay"
      ],
      "metadata": {
        "id": "IpWdwDdWnROj",
        "colab": {
          "base_uri": "https://localhost:8080/"
        },
        "outputId": "94b1e3b6-a8cb-447e-848e-176e6aea3532"
      },
      "execution_count": null,
      "outputs": [
        {
          "output_type": "stream",
          "name": "stdout",
          "text": [
            "[-19.   -8.   -6.   -5.   -4.   -3.   -1.    1.   15.   51.2 693. ]\n"
          ]
        }
      ]
    },
    {
      "cell_type": "markdown",
      "source": [],
      "metadata": {
        "id": "DjVLFLHinOmm"
      }
    },
    {
      "cell_type": "code",
      "source": [
        "print(np.array([1, 4, 8, 2, 9]))\n",
        "x = np.array([2, 0, -4])\n",
        "print(x)\n",
        "print(np.concatenate([x, np.arange(6), x]))"
      ],
      "metadata": {
        "id": "qlrGdx_5ne5_",
        "colab": {
          "base_uri": "https://localhost:8080/"
        },
        "outputId": "4b5bbd00-c6f9-48ee-f12d-972617d99d0e"
      },
      "execution_count": null,
      "outputs": [
        {
          "output_type": "stream",
          "name": "stdout",
          "text": [
            "[1 4 8 2 9]\n",
            "[ 2  0 -4]\n",
            "[ 2  0 -4  0  1  2  3  4  5  2  0 -4]\n"
          ]
        }
      ]
    },
    {
      "cell_type": "code",
      "source": [
        "# Character vectors\n",
        "print(np.array([\"a\", \"b\", \"c\", \"d\"]))\n",
        "# Logical vectors\n",
        "print(np.array([True, False, False, True, True, False]))"
      ],
      "metadata": {
        "id": "Cvpntrm6nkud",
        "colab": {
          "base_uri": "https://localhost:8080/"
        },
        "outputId": "2dd504fa-6853-40f5-9551-e6c59a79cb3b"
      },
      "execution_count": null,
      "outputs": [
        {
          "output_type": "stream",
          "name": "stdout",
          "text": [
            "['a' 'b' 'c' 'd']\n",
            "[ True False False  True  True False]\n"
          ]
        }
      ]
    },
    {
      "cell_type": "code",
      "source": [
        "# Repeating values with rep()\n",
        "print(np.repeat(\"a\", 5))"
      ],
      "metadata": {
        "id": "nEgun9ilns5D",
        "colab": {
          "base_uri": "https://localhost:8080/"
        },
        "outputId": "a3edc9ae-2038-4df5-c3df-9f91f59967a3"
      },
      "execution_count": null,
      "outputs": [
        {
          "output_type": "stream",
          "name": "stdout",
          "text": [
            "['a' 'a' 'a' 'a' 'a']\n"
          ]
        }
      ]
    },
    {
      "cell_type": "code",
      "source": [
        "print(np.tile([\"a\", \"b\"], 5))\n"
      ],
      "metadata": {
        "id": "u6PKU8yVnv-C",
        "colab": {
          "base_uri": "https://localhost:8080/"
        },
        "outputId": "2de97875-a20b-4ab0-e1e6-a21b31e0ad14"
      },
      "execution_count": null,
      "outputs": [
        {
          "output_type": "stream",
          "name": "stdout",
          "text": [
            "['a' 'b' 'a' 'b' 'a' 'b' 'a' 'b' 'a' 'b']\n"
          ]
        }
      ]
    },
    {
      "cell_type": "code",
      "source": [
        "print(np.repeat([\"a\", \"b\"], [5, 2]))"
      ],
      "metadata": {
        "id": "thifnNrBnxsT",
        "colab": {
          "base_uri": "https://localhost:8080/"
        },
        "outputId": "a2613a10-0824-42ae-a40e-daa177ac8b9c"
      },
      "execution_count": null,
      "outputs": [
        {
          "output_type": "stream",
          "name": "stdout",
          "text": [
            "['a' 'a' 'a' 'a' 'a' 'b' 'b']\n"
          ]
        }
      ]
    },
    {
      "cell_type": "code",
      "source": [
        "# Class attribute\n",
        "print(pd.Series(state.name).dtype)"
      ],
      "metadata": {
        "id": "HqNYwIh_oB0q",
        "colab": {
          "base_uri": "https://localhost:8080/",
          "height": 158
        },
        "outputId": "80c175d8-7fb3-461a-ddf8-6b3e11dad217",
        "collapsed": true
      },
      "execution_count": 1,
      "outputs": [
        {
          "output_type": "error",
          "ename": "NameError",
          "evalue": "name 'pd' is not defined",
          "traceback": [
            "\u001b[0;31m---------------------------------------------------------------------------\u001b[0m",
            "\u001b[0;31mNameError\u001b[0m                                 Traceback (most recent call last)",
            "\u001b[0;32m<ipython-input-1-a3d5140488cd>\u001b[0m in \u001b[0;36m<cell line: 2>\u001b[0;34m()\u001b[0m\n\u001b[1;32m      1\u001b[0m \u001b[0;31m# Class attribute\u001b[0m\u001b[0;34m\u001b[0m\u001b[0;34m\u001b[0m\u001b[0m\n\u001b[0;32m----> 2\u001b[0;31m \u001b[0mprint\u001b[0m\u001b[0;34m(\u001b[0m\u001b[0mpd\u001b[0m\u001b[0;34m.\u001b[0m\u001b[0mSeries\u001b[0m\u001b[0;34m(\u001b[0m\u001b[0mstate\u001b[0m\u001b[0;34m.\u001b[0m\u001b[0mname\u001b[0m\u001b[0;34m)\u001b[0m\u001b[0;34m.\u001b[0m\u001b[0mdtype\u001b[0m\u001b[0;34m)\u001b[0m\u001b[0;34m\u001b[0m\u001b[0;34m\u001b[0m\u001b[0m\n\u001b[0m",
            "\u001b[0;31mNameError\u001b[0m: name 'pd' is not defined"
          ]
        }
      ]
    },
    {
      "cell_type": "code",
      "source": [
        "print(pd.Series(state.name) == \"Idaho\")"
      ],
      "metadata": {
        "id": "pS9x4BUCoDuv"
      },
      "execution_count": null,
      "outputs": []
    },
    {
      "cell_type": "code",
      "source": [
        "print((pd.Series(state.name) == \"Idaho\").dtype)"
      ],
      "metadata": {
        "id": "1fCFTMDPoGcN"
      },
      "execution_count": null,
      "outputs": []
    },
    {
      "cell_type": "code",
      "source": [
        "print(FlightDelays['Carrier'].head())"
      ],
      "metadata": {
        "id": "4zA54B2roI-q"
      },
      "execution_count": null,
      "outputs": []
    },
    {
      "cell_type": "code",
      "source": [
        "print(FlightDelays['Carrier'].dtype)"
      ],
      "metadata": {
        "id": "IcTArWW1n6xm"
      },
      "execution_count": null,
      "outputs": []
    },
    {
      "cell_type": "markdown",
      "source": [
        "### Basic arithmetic with vectors"
      ],
      "metadata": {
        "id": "c_CWzyyJoSKw"
      }
    },
    {
      "cell_type": "code",
      "source": [
        "x = np.arange(1, 6)"
      ],
      "metadata": {
        "id": "wpsAJaBaoQJn"
      },
      "execution_count": null,
      "outputs": []
    },
    {
      "cell_type": "code",
      "source": [
        "print(x - 3)  # Subtraction"
      ],
      "metadata": {
        "id": "1lYZFH0OoW9L"
      },
      "execution_count": null,
      "outputs": []
    },
    {
      "cell_type": "code",
      "source": [
        "print(x * 10)  # Multiplication"
      ],
      "metadata": {
        "id": "HXlF5v3JoZwn"
      },
      "execution_count": null,
      "outputs": []
    },
    {
      "cell_type": "code",
      "source": [
        "print(x / 10)  # Division"
      ],
      "metadata": {
        "id": "Oj6u2trpodCD"
      },
      "execution_count": null,
      "outputs": []
    },
    {
      "cell_type": "code",
      "source": [
        "print(x ** 2)  # Squaring"
      ],
      "metadata": {
        "id": "ICyekkuqohyB"
      },
      "execution_count": null,
      "outputs": []
    },
    {
      "cell_type": "code",
      "source": [
        "print(2 ** x)  # Exponentiation"
      ],
      "metadata": {
        "id": "8abozKEpojI_"
      },
      "execution_count": null,
      "outputs": []
    },
    {
      "cell_type": "code",
      "source": [
        "print(np.log(x))  # Natural logarithm"
      ],
      "metadata": {
        "id": "VnS9eDWsok-d"
      },
      "execution_count": null,
      "outputs": []
    },
    {
      "cell_type": "markdown",
      "source": [
        "### Multiplication of vectors"
      ],
      "metadata": {
        "id": "k4TUG3dyoq-g"
      }
    },
    {
      "cell_type": "code",
      "source": [
        "\n",
        "w = np.arange(6, 11)\n",
        "print(w)"
      ],
      "metadata": {
        "id": "zo4eBGquouk5"
      },
      "execution_count": null,
      "outputs": []
    },
    {
      "cell_type": "code",
      "source": [
        "print(x * w)  # Element-wise multiplication"
      ],
      "metadata": {
        "id": "j2b7MUKDoxSV"
      },
      "execution_count": null,
      "outputs": []
    },
    {
      "cell_type": "markdown",
      "source": [
        "### Logical expressions"
      ],
      "metadata": {
        "id": "zVYxhu2bo2ft"
      }
    },
    {
      "cell_type": "code",
      "source": [
        "print(x < 3)  # Less than\n",
        "print(x == 4)  # Equality"
      ],
      "metadata": {
        "id": "dn95h0Dno4wU"
      },
      "execution_count": null,
      "outputs": []
    },
    {
      "cell_type": "markdown",
      "source": [
        "### Indexing with vectors"
      ],
      "metadata": {
        "id": "i5rLZxFgo8O7"
      }
    },
    {
      "cell_type": "code",
      "source": [
        "z = np.array([8, 3, 0, 9, 9, 2, 1, 3])\n",
        "print(z[3])  # Accessing the 4th element"
      ],
      "metadata": {
        "id": "crWSG-IPo74o"
      },
      "execution_count": null,
      "outputs": []
    },
    {
      "cell_type": "code",
      "source": [
        "print(z[[0, 2, 3]])  # Accessing multiple elements"
      ],
      "metadata": {
        "id": "PZUykiW9pCXR"
      },
      "execution_count": null,
      "outputs": []
    },
    {
      "cell_type": "code",
      "source": [
        "print(np.delete(z, [0, 2, 3]))  # Deleting multiple elements"
      ],
      "metadata": {
        "id": "WtZVU2tnpD79"
      },
      "execution_count": null,
      "outputs": []
    },
    {
      "cell_type": "code",
      "source": [
        "index = np.where(z < 4)  # Finding indices where condition is met"
      ],
      "metadata": {
        "id": "Xx43_iuZpFhv"
      },
      "execution_count": null,
      "outputs": []
    },
    {
      "cell_type": "code",
      "source": [
        "print(index)"
      ],
      "metadata": {
        "id": "Wf6htxKtpHkm"
      },
      "execution_count": null,
      "outputs": []
    },
    {
      "cell_type": "code",
      "source": [
        "print(z[index])  # Accessing elements by indices"
      ],
      "metadata": {
        "id": "dh-BEW9CpJ89"
      },
      "execution_count": null,
      "outputs": []
    },
    {
      "cell_type": "markdown",
      "source": [
        "## Topic 4 - Working with data frames in Python"
      ],
      "metadata": {
        "id": "IkzrtuWfpN2q"
      }
    },
    {
      "cell_type": "markdown",
      "source": [
        "### Selecting the Delay column"
      ],
      "metadata": {
        "id": "KUp-2s_gpXY-"
      }
    },
    {
      "cell_type": "code",
      "source": [
        "delay = FlightDelays['Delay']\n",
        "print(FlightDelays[['Delay']])"
      ],
      "metadata": {
        "id": "R1hNPEzYpWmg"
      },
      "execution_count": null,
      "outputs": []
    },
    {
      "cell_type": "markdown",
      "source": [
        "\n",
        "### Conditional selection and mean calculation"
      ],
      "metadata": {
        "id": "8RxL3x9vpcW-"
      }
    },
    {
      "cell_type": "code",
      "source": [
        "delay2 = FlightDelays[FlightDelays['Day'] != \"Mon\"]['Delay']\n",
        "print(np.mean(delay2))"
      ],
      "metadata": {
        "id": "IoE5LSHRpfEZ"
      },
      "execution_count": null,
      "outputs": []
    },
    {
      "cell_type": "markdown",
      "source": [
        "### Conditional selection for weekends and mean calculation"
      ],
      "metadata": {
        "id": "cWNkHGEWpjqM"
      }
    },
    {
      "cell_type": "code",
      "source": [
        "delay3 = FlightDelays[(FlightDelays['Day'] == \"Sat\") | (FlightDelays['Day'] == \"Sun\")]['Delay']\n",
        "print(np.mean(delay3))"
      ],
      "metadata": {
        "id": "gWyudprrpnGe"
      },
      "execution_count": null,
      "outputs": []
    },
    {
      "cell_type": "markdown",
      "source": [
        "### Indexing delays greater than the mean"
      ],
      "metadata": {
        "id": "Wq9Rfiulpo1Q"
      }
    },
    {
      "cell_type": "code",
      "source": [
        "index = np.where(delay > np.mean(delay))[0]\n",
        "print(index[:5])"
      ],
      "metadata": {
        "id": "3h6CvwoWpt_v"
      },
      "execution_count": null,
      "outputs": []
    },
    {
      "cell_type": "markdown",
      "source": [
        "### Length and sum of elements in z"
      ],
      "metadata": {
        "id": "I_lg8gJepxIa"
      }
    },
    {
      "cell_type": "code",
      "source": [
        "print(len(z))"
      ],
      "metadata": {
        "id": "ofIoKmVRpwyr"
      },
      "execution_count": null,
      "outputs": []
    },
    {
      "cell_type": "code",
      "source": [
        "print(np.sum(z))"
      ],
      "metadata": {
        "id": "ocEA4rsWp1Rc"
      },
      "execution_count": null,
      "outputs": []
    },
    {
      "cell_type": "code",
      "source": [
        "print(np.sort(z))"
      ],
      "metadata": {
        "id": "4W_6BEhMp4z3"
      },
      "execution_count": null,
      "outputs": []
    },
    {
      "cell_type": "markdown",
      "source": [
        "### Random sampling"
      ],
      "metadata": {
        "id": "TtW3iVuHp83Z"
      }
    },
    {
      "cell_type": "code",
      "source": [
        "\n",
        "print(np.random.choice(range(1, 11), 10, replace=False))"
      ],
      "metadata": {
        "id": "LViOgpJwp_k_"
      },
      "execution_count": null,
      "outputs": []
    },
    {
      "cell_type": "code",
      "source": [
        "print(np.random.choice(range(1, 11), 4, replace=False))"
      ],
      "metadata": {
        "id": "W8yIbWlWqA8Q"
      },
      "execution_count": null,
      "outputs": []
    },
    {
      "cell_type": "code",
      "source": [
        "print(np.random.choice(range(1, 11), 4, replace=True))"
      ],
      "metadata": {
        "id": "tpl1SssTqCVt"
      },
      "execution_count": null,
      "outputs": []
    },
    {
      "cell_type": "markdown",
      "source": [
        "### Random sampling of state names"
      ],
      "metadata": {
        "id": "aDMTxtcpqJsd"
      }
    },
    {
      "cell_type": "code",
      "source": [
        "print(state.name)"
      ],
      "metadata": {
        "id": "zRPgVkJcqNun"
      },
      "execution_count": null,
      "outputs": []
    },
    {
      "cell_type": "code",
      "source": [
        "print(np.random.choice(state.name, 20))"
      ],
      "metadata": {
        "id": "KE9z7EqXqPLA"
      },
      "execution_count": null,
      "outputs": []
    },
    {
      "cell_type": "code",
      "source": [
        "print(np.random.choice(state.name, 20, replace=True))"
      ],
      "metadata": {
        "id": "FwQWAk_SqQjL"
      },
      "execution_count": null,
      "outputs": []
    },
    {
      "cell_type": "code",
      "source": [
        "### Random sampling of indices"
      ],
      "metadata": {
        "id": "lbceoQ9rqYBO"
      },
      "execution_count": null,
      "outputs": []
    },
    {
      "cell_type": "code",
      "source": [
        "index = np.random.choice(50, 20, replace=False)\n",
        "print(index)"
      ],
      "metadata": {
        "id": "o_z5HoX1qaTO"
      },
      "execution_count": null,
      "outputs": []
    },
    {
      "cell_type": "code",
      "source": [
        "tempA = pd.Series(state.name)[index]"
      ],
      "metadata": {
        "id": "X1IqT1YLqd1z"
      },
      "execution_count": null,
      "outputs": []
    },
    {
      "cell_type": "code",
      "source": [
        "tempB = pd.Series(state.name).drop(index)"
      ],
      "metadata": {
        "id": "Tt0zBSREqfRk"
      },
      "execution_count": null,
      "outputs": []
    },
    {
      "cell_type": "code",
      "source": [
        "print(tempA)"
      ],
      "metadata": {
        "id": "GJi-5wSnqgtv"
      },
      "execution_count": null,
      "outputs": []
    },
    {
      "cell_type": "code",
      "source": [
        "print(tempB)"
      ],
      "metadata": {
        "id": "m_QiqlrSqiLT"
      },
      "execution_count": null,
      "outputs": []
    },
    {
      "cell_type": "markdown",
      "source": [
        "### Inspecting the DataFrame"
      ],
      "metadata": {
        "id": "N9RUucjIqlYM"
      }
    },
    {
      "cell_type": "code",
      "source": [
        "print(FlightDelays.dtypes)  # Displaying the data types of each column"
      ],
      "metadata": {
        "id": "cF0nRf4oqqK8"
      },
      "execution_count": null,
      "outputs": []
    },
    {
      "cell_type": "code",
      "source": [
        "print(FlightDelays.iloc[4, 2])  # Accessing the value at 5th row and 3rd column"
      ],
      "metadata": {
        "id": "CKLGA5e4qro3"
      },
      "execution_count": null,
      "outputs": []
    },
    {
      "cell_type": "code",
      "source": [
        "print(FlightDelays.iloc[:10, [0, 2]])  # Accessing the first 10 rows for 1st and 3rd columns"
      ],
      "metadata": {
        "id": "f1wgUFPGquA4"
      },
      "execution_count": null,
      "outputs": []
    },
    {
      "cell_type": "code",
      "source": [
        "print(FlightDelays.iloc[10:, [0, 2]])  # Accessing rows from 11 onwards for 1st and 3rd columns"
      ],
      "metadata": {
        "id": "lBnq-1OBqwoL"
      },
      "execution_count": null,
      "outputs": []
    },
    {
      "cell_type": "code",
      "source": [
        "print(FlightDelays.iloc[:, [0, 2]])  # Accessing all rows for 1st and 3rd columns"
      ],
      "metadata": {
        "id": "PYXYSPVTqyzf"
      },
      "execution_count": null,
      "outputs": []
    },
    {
      "cell_type": "code",
      "source": [
        "print(FlightDelays.iloc[:100, :])  # Accessing the first 100 rows for all columns"
      ],
      "metadata": {
        "id": "T2oAOEHyq03e"
      },
      "execution_count": null,
      "outputs": []
    },
    {
      "cell_type": "markdown",
      "source": [
        "### Filtering delays for Tuesday"
      ],
      "metadata": {
        "id": "XlxEBj0Pq4NU"
      }
    },
    {
      "cell_type": "code",
      "source": [
        "DelaysTue = FlightDelays[FlightDelays['Day'] == \"Tue\"]\n",
        "print(DelaysTue.head())  # Displaying the first few rows of delays on Tuesday"
      ],
      "metadata": {
        "id": "Lxlj2UE5q9_u"
      },
      "execution_count": null,
      "outputs": []
    },
    {
      "cell_type": "code",
      "source": [
        "DelaysTue = FlightDelays[FlightDelays['Day'] == \"Tue\"][['Flight', 'Delay', 'Carrier']]\n",
        "print(DelaysTue.head())  # Displaying the first few rows with selected columns for delays on Tuesday\n"
      ],
      "metadata": {
        "id": "zvqZ1D1SiZEB"
      },
      "execution_count": null,
      "outputs": []
    },
    {
      "cell_type": "code",
      "execution_count": null,
      "metadata": {
        "id": "IvgLdW64iOFy"
      },
      "outputs": [],
      "source": []
    }
  ]
}