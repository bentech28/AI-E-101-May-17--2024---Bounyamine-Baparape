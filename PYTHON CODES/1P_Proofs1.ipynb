{
  "nbformat": 4,
  "nbformat_minor": 0,
  "metadata": {
    "colab": {
      "provenance": [],
      "toc_visible": true,
      "mount_file_id": "1f-mzr0I79vy_TcdmAmuJ7sKDx5JZH_mb",
      "authorship_tag": "ABX9TyMRGEAh3VoOegpYkCH90Nxq",
      "include_colab_link": true
    },
    "kernelspec": {
      "name": "python3",
      "display_name": "Python 3"
    },
    "language_info": {
      "name": "python"
    }
  },
  "cells": [
    {
      "cell_type": "markdown",
      "metadata": {
        "id": "view-in-github",
        "colab_type": "text"
      },
      "source": [
        "<a href=\"https://colab.research.google.com/github/bentech28/AI-E-101-May-17--2024---Bounyamine-Baparape/blob/main/1P_Proofs1.ipynb\" target=\"_parent\"><img src=\"https://colab.research.google.com/assets/colab-badge.svg\" alt=\"Open In Colab\"/></a>"
      ]
    },
    {
      "cell_type": "markdown",
      "source": [
        "# Math 156, script 1P-Proofs1.py"
      ],
      "metadata": {
        "id": "2bhl0mKLeJTF"
      }
    },
    {
      "cell_type": "markdown",
      "source": [
        "## Topic 1 - Proof 1: calculating variance in a single pass through the data"
      ],
      "metadata": {
        "id": "BPaJPj-tfKaT"
      }
    },
    {
      "cell_type": "code",
      "source": [
        "# Load Dice3.csv, created by script 0D\n",
        "import pandas as pd\n",
        "import math\n",
        "Dice3 = pd.read_csv(\"/content/drive/MyDrive/Colab Notebooks/DATA/Dice3.csv\", index_col=0)  # do not read row numbers"
      ],
      "metadata": {
        "id": "IzUqoyTGfYNf"
      },
      "execution_count": null,
      "outputs": []
    },
    {
      "cell_type": "code",
      "source": [
        "print(Dice3.shape[0])  # number of rows"
      ],
      "metadata": {
        "id": "OqxB0w5ahhXB",
        "outputId": "84683282-3873-4543-9149-3be52d27f615",
        "colab": {
          "base_uri": "https://localhost:8080/"
        }
      },
      "execution_count": null,
      "outputs": [
        {
          "output_type": "stream",
          "name": "stdout",
          "text": [
            "216\n"
          ]
        }
      ]
    },
    {
      "cell_type": "code",
      "source": [
        "print(Dice3.head())  # display the first few rows\n",
        "# This is a \"probability data frame\" that lists the 216 possible outcomes of rolling three dice"
      ],
      "metadata": {
        "id": "WeWhKU_Dhmy3",
        "outputId": "d70e7582-ec27-4cc7-bd47-464e5d2948ab",
        "colab": {
          "base_uri": "https://localhost:8080/"
        }
      },
      "execution_count": null,
      "outputs": [
        {
          "output_type": "stream",
          "name": "stdout",
          "text": [
            "   Red3  Green3  White3\n",
            "1     1       1       1\n",
            "2     1       1       2\n",
            "3     1       1       3\n",
            "4     1       1       4\n",
            "5     1       1       5\n"
          ]
        }
      ]
    },
    {
      "cell_type": "code",
      "source": [
        "\n",
        "print(Dice3.head())  # display the first few rows\n",
        "# This is a \"probability data frame\" that lists the 216 possible outcomes of rolling three dice"
      ],
      "metadata": {
        "colab": {
          "base_uri": "https://localhost:8080/"
        },
        "id": "oAxlg1RiGV9O",
        "outputId": "fc471f81-3b7d-402d-945a-1130a5175b3d"
      },
      "execution_count": null,
      "outputs": [
        {
          "output_type": "stream",
          "name": "stdout",
          "text": [
            "   Red3  Green3  White3\n",
            "1     1       1       1\n",
            "2     1       1       2\n",
            "3     1       1       3\n",
            "4     1       1       4\n",
            "5     1       1       5\n"
          ]
        }
      ]
    },
    {
      "cell_type": "markdown",
      "source": [
        "### We can create some random variables"
      ],
      "metadata": {
        "id": "n65v2oAXGe3v"
      }
    },
    {
      "cell_type": "code",
      "source": [
        "sum3 = Dice3['Red3'] + Dice3['Green3'] + Dice3['White3']  # total roll\n",
        "print(sum3.head())  # display the first few total rolls"
      ],
      "metadata": {
        "colab": {
          "base_uri": "https://localhost:8080/"
        },
        "id": "B5qQVM9yGjfj",
        "outputId": "ab5bdc46-b775-4cd6-a57a-eb326c24cdbe"
      },
      "execution_count": null,
      "outputs": [
        {
          "output_type": "stream",
          "name": "stdout",
          "text": [
            "1    3\n",
            "2    4\n",
            "3    5\n",
            "4    6\n",
            "5    7\n",
            "dtype: int64\n"
          ]
        }
      ]
    },
    {
      "cell_type": "code",
      "source": [
        "mean3 = sum3 / 3  # average roll\n",
        "print(mean3.head())  # display the first few average rolls"
      ],
      "metadata": {
        "colab": {
          "base_uri": "https://localhost:8080/"
        },
        "id": "os5NiWQ4GmLD",
        "outputId": "b7f69879-5a0b-4700-f583-4206d3fc5f1a"
      },
      "execution_count": null,
      "outputs": [
        {
          "output_type": "stream",
          "name": "stdout",
          "text": [
            "1    1.000000\n",
            "2    1.333333\n",
            "3    1.666667\n",
            "4    2.000000\n",
            "5    2.333333\n",
            "dtype: float64\n"
          ]
        }
      ]
    },
    {
      "cell_type": "code",
      "source": [
        "max2 = Dice3.iloc[:, 0:2].max(axis=1)  # larger of numbers on first two dice\n",
        "\n",
        "print(max2.head())  # display the first few max2 values"
      ],
      "metadata": {
        "colab": {
          "base_uri": "https://localhost:8080/"
        },
        "id": "QkwRkNaoG8vD",
        "outputId": "bf4e440e-4e3b-48f6-913f-42374291e0f5"
      },
      "execution_count": null,
      "outputs": [
        {
          "output_type": "stream",
          "name": "stdout",
          "text": [
            "1      1\n",
            "2      1\n",
            "3      1\n",
            "4      1\n",
            "5      1\n",
            "      ..\n",
            "212    6\n",
            "213    6\n",
            "214    6\n",
            "215    6\n",
            "216    6\n",
            "Length: 216, dtype: int64\n"
          ]
        }
      ]
    },
    {
      "cell_type": "code",
      "source": [
        "range_ = Dice3.max(axis=1) - Dice3.min(axis=1)  # largest minus smallest\n",
        "# Add these to the data frame with column bind\n",
        "Frame = pd.concat([Dice3, sum3.rename('sum3'), max2.rename('max2'), range_.rename('range')], axis=1)\n",
        "print(Frame.head())  # display the first few rows of the new frame"
      ],
      "metadata": {
        "colab": {
          "base_uri": "https://localhost:8080/"
        },
        "id": "8qZ7-fNSIFSs",
        "outputId": "97becc9f-af65-4faa-8263-0b057a4f3402"
      },
      "execution_count": null,
      "outputs": [
        {
          "output_type": "stream",
          "name": "stdout",
          "text": [
            "   Red3  Green3  White3  sum3  max2  range\n",
            "1     1       1       1     3     1      0\n",
            "2     1       1       2     4     1      1\n",
            "3     1       1       3     5     1      2\n",
            "4     1       1       4     6     1      3\n",
            "5     1       1       5     7     1      4\n"
          ]
        }
      ]
    },
    {
      "cell_type": "markdown",
      "source": [
        "### Since we are doing probability, we need a function to calculate population variance"
      ],
      "metadata": {
        "id": "c9yJTcuYJCeG"
      }
    },
    {
      "cell_type": "code",
      "source": [
        "def popvar(x):\n",
        "    return ((x - x.mean())**2).mean()  # this is how you define a function in Python"
      ],
      "metadata": {
        "id": "b79SdB92JEX9"
      },
      "execution_count": null,
      "outputs": []
    },
    {
      "cell_type": "markdown",
      "source": [
        "#### calculate the variance of sum3"
      ],
      "metadata": {
        "id": "z_PQQbeCJOx7"
      }
    },
    {
      "cell_type": "code",
      "source": [
        "varsum3 = popvar(sum3)  # calculate the variance of sum3\n",
        "print(varsum3)  # display the variance"
      ],
      "metadata": {
        "colab": {
          "base_uri": "https://localhost:8080/"
        },
        "id": "SK3TkPNpJK7H",
        "outputId": "46137e7f-2514-4312-fdba-72d0daed9eb6"
      },
      "execution_count": null,
      "outputs": [
        {
          "output_type": "stream",
          "name": "stdout",
          "text": [
            "8.75\n"
          ]
        }
      ]
    },
    {
      "source": [
        "# Alternative calculation that can be done in one pass through the data\n",
        "print(sum3.pow(2).mean() - sum3.mean()**2)  # Proof 1 shows that this comes out the same!\n",
        "# Use the ** operator for exponentiation on a single number"
      ],
      "cell_type": "code",
      "metadata": {
        "colab": {
          "base_uri": "https://localhost:8080/"
        },
        "id": "hB4UGjWBJoOr",
        "outputId": "f8c9328a-b348-4881-c87c-f1971a092fa8"
      },
      "execution_count": null,
      "outputs": [
        {
          "output_type": "stream",
          "name": "stdout",
          "text": [
            "8.75\n"
          ]
        }
      ]
    },
    {
      "cell_type": "markdown",
      "source": [
        "#### Variance of the mean"
      ],
      "metadata": {
        "id": "fQxq-AG-KeVp"
      }
    },
    {
      "source": [
        "import pandas as pd\n",
        "\n",
        "# Assuming 'mean3' is your Pandas Series\n",
        "varmean3 = (mean3 ** 2).mean() - mean3.mean() ** 2\n",
        "print(varmean3)  # display the variance of the mean"
      ],
      "cell_type": "code",
      "metadata": {
        "colab": {
          "base_uri": "https://localhost:8080/"
        },
        "id": "TCsEifUQKq5S",
        "outputId": "bc4d0c2e-cb70-4d38-cdd1-4d115bb9a7c6"
      },
      "execution_count": null,
      "outputs": [
        {
          "output_type": "stream",
          "name": "stdout",
          "text": [
            "0.9722222222222214\n"
          ]
        }
      ]
    },
    {
      "cell_type": "markdown",
      "source": [
        "#\n",
        "# Topic 2 - Proof 2: variance of the sum or mean of n random variables"
      ],
      "metadata": {
        "id": "lhM51e7oVWFF"
      }
    },
    {
      "source": [
        "# First calculate variance for a single die roll\n",
        "OneDie = pd.Series([1, 2, 3, 4, 5, 6])\n",
        "var1 = OneDie.pow(2).mean() - OneDie.mean() ** 2  # Use the ** operator for the single number\n",
        "print(var1)  # display the variance of one die"
      ],
      "cell_type": "code",
      "metadata": {
        "colab": {
          "base_uri": "https://localhost:8080/"
        },
        "id": "YxPu8xGXVqRv",
        "outputId": "26e9c3e7-0dc3-4cef-bbf2-f6c422220b74"
      },
      "execution_count": null,
      "outputs": [
        {
          "output_type": "stream",
          "name": "stdout",
          "text": [
            "2.916666666666666\n"
          ]
        }
      ]
    },
    {
      "cell_type": "code",
      "source": [
        "# To get the variance for the sum of 3 dice, multiply by 3\n",
        "print(var1 * 3)  # display the variance of the sum of 3 dice\n",
        "print(varsum3)  # display the previously calculated variance of sum3"
      ],
      "metadata": {
        "colab": {
          "base_uri": "https://localhost:8080/"
        },
        "id": "RAtsPmE3WGec",
        "outputId": "55ee60ca-e461-47b1-f10f-1046a5ffbb1d"
      },
      "execution_count": null,
      "outputs": [
        {
          "output_type": "stream",
          "name": "stdout",
          "text": [
            "8.749999999999998\n",
            "8.75\n"
          ]
        }
      ]
    },
    {
      "cell_type": "code",
      "source": [
        "# To get the variance for the mean of 3 dice, divide by 3\n",
        "print(var1 / 3)  # display the variance of the mean of 3 dice\n",
        "print(varmean3)  # display the previously calculated variance of mean3"
      ],
      "metadata": {
        "colab": {
          "base_uri": "https://localhost:8080/"
        },
        "id": "cPGCs4arWYs4",
        "outputId": "60b2adc7-99d5-412b-c96e-5e14eb888f98"
      },
      "execution_count": null,
      "outputs": [
        {
          "output_type": "stream",
          "name": "stdout",
          "text": [
            "0.972222222222222\n",
            "0.9722222222222214\n"
          ]
        }
      ]
    },
    {
      "cell_type": "markdown",
      "source": [
        "## Topic 3 - Proof 3: variance of the sample mean"
      ],
      "metadata": {
        "id": "2mQMqjtxW2rq"
      }
    },
    {
      "cell_type": "code",
      "source": [
        "# The built-in function var() treats our data as a sample from a larger population\n",
        "print(OneDie.var())  # sample variance of one die roll"
      ],
      "metadata": {
        "colab": {
          "base_uri": "https://localhost:8080/"
        },
        "id": "ZLM7ts4AYJFu",
        "outputId": "72c4c7cc-5e8f-4984-dc56-3b2aaa31252a"
      },
      "execution_count": null,
      "outputs": [
        {
          "output_type": "stream",
          "name": "stdout",
          "text": [
            "3.5\n"
          ]
        }
      ]
    },
    {
      "cell_type": "code",
      "source": [
        "print((6/5) * var1)  # can be corrected to population variance"
      ],
      "metadata": {
        "colab": {
          "base_uri": "https://localhost:8080/"
        },
        "id": "q1NNoS4hYPNS",
        "outputId": "0fe80b2e-7288-4a99-d391-1ec2ce8fad6c"
      },
      "execution_count": null,
      "outputs": [
        {
          "output_type": "stream",
          "name": "stdout",
          "text": [
            "3.499999999999999\n"
          ]
        }
      ]
    },
    {
      "cell_type": "code",
      "source": [
        "print(sum3.var())  # sample variance of sum3\n",
        "print((216/215) * varsum3)  # corrected to population variance"
      ],
      "metadata": {
        "colab": {
          "base_uri": "https://localhost:8080/"
        },
        "id": "tGCYC763Yi79",
        "outputId": "f6eda1df-819d-4309-c009-b2658d620f39"
      },
      "execution_count": null,
      "outputs": [
        {
          "output_type": "stream",
          "name": "stdout",
          "text": [
            "8.790697674418604\n",
            "8.790697674418606\n"
          ]
        }
      ]
    },
    {
      "cell_type": "code",
      "source": [
        "## Topic 4 - Testing for independence"
      ],
      "metadata": {
        "id": "ld7lRQ31YnQV"
      },
      "execution_count": null,
      "outputs": []
    },
    {
      "cell_type": "markdown",
      "source": [
        "### Look at the expectation of the product to test for dependence"
      ],
      "metadata": {
        "id": "aGeGtI4rYuEG"
      }
    },
    {
      "cell_type": "code",
      "source": [
        "print((range_ * max2).mean())  # expectation of the product (dependent)\n",
        "print(range_.mean() * max2.mean())  # product of expectations (dependent)"
      ],
      "metadata": {
        "colab": {
          "base_uri": "https://localhost:8080/"
        },
        "id": "yn8kUXZdYxz9",
        "outputId": "73a30269-e46e-4af0-dc5c-959fb170f029"
      },
      "execution_count": null,
      "outputs": [
        {
          "output_type": "stream",
          "name": "stdout",
          "text": [
            "13.643518518518519\n",
            "13.043981481481481\n"
          ]
        }
      ]
    },
    {
      "cell_type": "code",
      "source": [
        "print((sum3 * max2).mean())  # expectation of the product (dependent)\n",
        "print(sum3.mean() * max2.mean())  # product of expectations (dependent)"
      ],
      "metadata": {
        "colab": {
          "base_uri": "https://localhost:8080/"
        },
        "id": "y8aIwwehY1XN",
        "outputId": "be7c6739-77e1-4c34-9b24-e547c42051b6"
      },
      "execution_count": null,
      "outputs": [
        {
          "output_type": "stream",
          "name": "stdout",
          "text": [
            "49.875\n",
            "46.958333333333336\n"
          ]
        }
      ]
    },
    {
      "cell_type": "code",
      "source": [
        "print((Dice3['White3'] * max2).mean())  # expectation of the product (independent)\n",
        "print(Dice3['White3'].mean() * max2.mean())  # product of expectations (independent)\n",
        "# The last line does not prove that Dice3['White3'] and max2 are independent."
      ],
      "metadata": {
        "colab": {
          "base_uri": "https://localhost:8080/"
        },
        "id": "-o0om8IeY5mm",
        "outputId": "1c1fa9a9-da18-4c67-d3b3-d5bef2040809"
      },
      "execution_count": null,
      "outputs": [
        {
          "output_type": "stream",
          "name": "stdout",
          "text": [
            "15.652777777777779\n",
            "15.652777777777779\n"
          ]
        }
      ]
    },
    {
      "cell_type": "code",
      "source": [
        "# It only proves that they are uncorrelated.\n",
        "print(Dice3['White3'].corr(max2))  # correlation (see page 251 of the textbook)"
      ],
      "metadata": {
        "colab": {
          "base_uri": "https://localhost:8080/"
        },
        "id": "-wdMF4xJZBmT",
        "outputId": "e88182a9-e1b2-4575-d52b-6995da48b56e"
      },
      "execution_count": null,
      "outputs": [
        {
          "output_type": "stream",
          "name": "stdout",
          "text": [
            "0.0\n"
          ]
        }
      ]
    },
    {
      "cell_type": "markdown",
      "source": [
        "### For expectation of a sum, independence is not a requirement"
      ],
      "metadata": {
        "id": "Xcv6BRWpZ8aX"
      }
    },
    {
      "cell_type": "code",
      "source": [
        "# For expectation of a sum, independence is not a requirement\n",
        "print((range_ + max2).mean())  # expectation of the sum\n",
        "print(range_.mean() + max2.mean())  # sum of expectations (should be equal)"
      ],
      "metadata": {
        "colab": {
          "base_uri": "https://localhost:8080/"
        },
        "id": "avonURCnZtsr",
        "outputId": "978db23d-3193-47e6-db2f-890c2c88f599"
      },
      "execution_count": null,
      "outputs": [
        {
          "output_type": "stream",
          "name": "stdout",
          "text": [
            "7.388888888888889\n",
            "7.388888888888889\n"
          ]
        }
      ]
    },
    {
      "cell_type": "markdown",
      "source": [
        "### For variance of a sum, independence is a requirement"
      ],
      "metadata": {
        "id": "J9FuB09GZ_Gz"
      }
    },
    {
      "cell_type": "code",
      "source": [
        "# For variance of a sum, independence is a requirement\n",
        "print(popvar(range_ + max2))  # population variance of the sum (not independent)\n",
        "print(popvar(range_) + popvar(max2))  # sum of population variances (not independent)"
      ],
      "metadata": {
        "colab": {
          "base_uri": "https://localhost:8080/"
        },
        "id": "utMRse_RaJRH",
        "outputId": "822d7dd6-baf6-47a6-8e04-fce0bdb953f4"
      },
      "execution_count": null,
      "outputs": [
        {
          "output_type": "stream",
          "name": "stdout",
          "text": [
            "4.969135802469136\n",
            "3.7700617283950617\n"
          ]
        }
      ]
    },
    {
      "cell_type": "code",
      "source": [
        "print(popvar(Dice3['White3'] + max2))  # population variance of the sum (independent)\n",
        "print(popvar(Dice3['White3']) + popvar(max2))  # sum of population variances (independent)"
      ],
      "metadata": {
        "colab": {
          "base_uri": "https://localhost:8080/"
        },
        "id": "EjdzDV0iaSYG",
        "outputId": "623876b0-63c4-4b50-b70a-5b13fc0af4a2"
      },
      "execution_count": null,
      "outputs": [
        {
          "output_type": "stream",
          "name": "stdout",
          "text": [
            "4.888117283950618\n",
            "4.888117283950617\n"
          ]
        }
      ]
    },
    {
      "cell_type": "markdown",
      "source": [
        "### When you add n independent random variables, their variances add"
      ],
      "metadata": {
        "id": "70cuIZzMauYz"
      }
    },
    {
      "cell_type": "code",
      "source": [
        "# When you add n independent random variables, their variances add\n",
        "print(popvar(sum3))  # population variance of sum3\n",
        "print(3 * popvar(Dice3['Red3']))  # 3 times the population variance of Red3"
      ],
      "metadata": {
        "colab": {
          "base_uri": "https://localhost:8080/"
        },
        "id": "niAj1Nv2adIT",
        "outputId": "d09a0fd5-12c3-44e1-d43f-b1331a03c1bc"
      },
      "execution_count": null,
      "outputs": [
        {
          "output_type": "stream",
          "name": "stdout",
          "text": [
            "8.75\n",
            "8.75\n"
          ]
        }
      ]
    },
    {
      "cell_type": "markdown",
      "source": [
        "### When you multiply a random variable by a, you multiply its variance by a^2"
      ],
      "metadata": {
        "id": "k8Yr565Gawup"
      }
    },
    {
      "cell_type": "code",
      "source": [
        "# When you multiply a random variable by a, you multiply its variance by a^2\n",
        "print(popvar(3 * Dice3['Red3'] + 5))  # population variance of a scaled variable\n",
        "print(9 * popvar(Dice3['Red3']))  # 9 times the population variance of Red3"
      ],
      "metadata": {
        "colab": {
          "base_uri": "https://localhost:8080/"
        },
        "id": "hwtk7NBaa0jr",
        "outputId": "f639366b-068c-4c2b-c8a8-264b97c0a1ce"
      },
      "execution_count": null,
      "outputs": [
        {
          "output_type": "stream",
          "name": "stdout",
          "text": [
            "26.25\n",
            "26.25\n"
          ]
        }
      ]
    },
    {
      "cell_type": "markdown",
      "source": [
        "### If variables are independent, so are any functions of those variables"
      ],
      "metadata": {
        "id": "B76ZytCtbAzs"
      }
    },
    {
      "cell_type": "code",
      "source": [
        "# If variables are independent, so are any functions of those variables\n",
        "# Start with two independent variables\n",
        "print((Dice3['White3'] * max2).mean())  # expectation of the product (independent)\n",
        "print(Dice3['White3'].mean() * max2.mean())  # product of expectations (independent)\n"
      ],
      "metadata": {
        "colab": {
          "base_uri": "https://localhost:8080/"
        },
        "id": "rtVAeEx6bEu3",
        "outputId": "6637b842-fcfa-4aa9-bf3a-d369fdb84a5c"
      },
      "execution_count": null,
      "outputs": [
        {
          "output_type": "stream",
          "name": "stdout",
          "text": [
            "15.652777777777779\n",
            "15.652777777777779\n"
          ]
        }
      ]
    },
    {
      "cell_type": "code",
      "source": [
        "# Now take any function of each variable\n",
        "import numpy as np\n",
        "print((np.sin(Dice3['White3']) * np.exp(max2)).mean())  # expectation of the product\n",
        "print(np.sin(Dice3['White3']).mean() * np.exp(max2).mean())  # product of expectations"
      ],
      "metadata": {
        "colab": {
          "base_uri": "https://localhost:8080/"
        },
        "id": "d9U1aPn3bLYb",
        "outputId": "ef82d80e-9068-4e20-9313-918e40f497ea"
      },
      "execution_count": null,
      "outputs": [
        {
          "output_type": "stream",
          "name": "stdout",
          "text": [
            "-3.002457159427295\n",
            "-3.002457159427297\n"
          ]
        }
      ]
    },
    {
      "cell_type": "code",
      "execution_count": null,
      "metadata": {
        "id": "Bwlrc8Yad2ti",
        "colab": {
          "base_uri": "https://localhost:8080/"
        },
        "outputId": "8b9e2710-4ee9-4a88-99be-78118733c77f"
      },
      "outputs": [
        {
          "output_type": "stream",
          "name": "stdout",
          "text": [
            "0.037037037037037035\n",
            "0.037037037037037035\n"
          ]
        }
      ],
      "source": [
        "# If variables are uncorrelated but not independent, they will fail this test\n",
        "\n",
        "# A function that provides a sufficient test is \"1 if <= x; 0 if > x\"\n",
        "x = 2.4\n",
        "print(((Dice3['White3'] <= x) * (max2 <= x)).mean())  # expectation of the product\n",
        "print((Dice3['White3'] <= x).mean() * (max2 <= x).mean())  # product of expectations\n",
        "# Unfortunately, this test needs to be carried out for arbitrary x.\n",
        "# Computationally, you can verify that random variables are uncorrelated.\n",
        "# Computationally, you can verify that random variables are dependent.\n",
        "# Computationally, you cannot verify that random variables are independent.\n"
      ]
    }
  ]
}