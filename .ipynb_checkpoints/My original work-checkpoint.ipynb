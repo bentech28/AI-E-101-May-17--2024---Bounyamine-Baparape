{
 "cells": [
  {
   "cell_type": "markdown",
   "id": "19a48697-b9a0-4077-a8cf-9075b8158e09",
   "metadata": {},
   "source": [
    "### VARIABLES"
   ]
  },
  {
   "cell_type": "markdown",
   "id": "9bd7c75e-e388-4fa4-86c9-bc36b24477b1",
   "metadata": {},
   "source": [
    "##"
   ]
  }
 ],
 "metadata": {
  "kernelspec": {
   "display_name": "Python 3 (ipykernel)",
   "language": "python",
   "name": "python3"
  },
  "language_info": {
   "codemirror_mode": {
    "name": "ipython",
    "version": 3
   },
   "file_extension": ".py",
   "mimetype": "text/x-python",
   "name": "python",
   "nbconvert_exporter": "python",
   "pygments_lexer": "ipython3",
   "version": "3.11.7"
  }
 },
 "nbformat": 4,
 "nbformat_minor": 5
}
