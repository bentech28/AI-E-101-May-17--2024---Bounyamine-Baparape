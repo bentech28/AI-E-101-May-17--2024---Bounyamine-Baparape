{
  "nbformat": 4,
  "nbformat_minor": 0,
  "metadata": {
    "colab": {
      "provenance": [],
      "include_colab_link": true
    },
    "kernelspec": {
      "name": "python3",
      "display_name": "Python 3"
    },
    "language_info": {
      "name": "python"
    }
  },
  "cells": [
    {
      "cell_type": "markdown",
      "metadata": {
        "id": "view-in-github",
        "colab_type": "text"
      },
      "source": [
        "<a href=\"https://colab.research.google.com/github/bentech28/AI-E-101-May-17--2024---Bounyamine-Baparape/blob/main/1A_FunnyDice.ipynb\" target=\"_parent\"><img src=\"https://colab.research.google.com/assets/colab-badge.svg\" alt=\"Open In Colab\"/></a>"
      ]
    },
    {
      "cell_type": "code",
      "source": [
        "import pandas as pd\n",
        "import numpy as np\n",
        "import matplotlib.pyplot as plt"
      ],
      "metadata": {
        "id": "OHroGi6VHldn"
      },
      "execution_count": null,
      "outputs": []
    },
    {
      "cell_type": "markdown",
      "source": [
        "# Topic 1 - Creating a DataFrame for a probability problem\n"
      ],
      "metadata": {
        "id": "tAYY8idaHC5Y"
      }
    },
    {
      "cell_type": "markdown",
      "source": [
        "\n",
        "\n",
        "The faces of the red die show 1, 2, 2, 3, 3, 4\n",
        "\n",
        "The faces of the green die show 1, 3, 4, 5, 6, 8"
      ],
      "metadata": {
        "id": "K8oiVoWiHPMq"
      }
    },
    {
      "cell_type": "markdown",
      "source": [
        "### Creating each column as a list"
      ],
      "metadata": {
        "id": "HqMZAUxGK2O6"
      }
    },
    {
      "cell_type": "code",
      "source": [
        "# Creating each column as a list\n",
        "Red = [1]*6 + [2]*12 + [3]*12 + [4]*6\n",
        "Green = [1, 3, 4, 5, 6, 8] * 6\n",
        "\n",
        "print(Red)\n",
        "print(Green)\n",
        "type(Red)"
      ],
      "metadata": {
        "colab": {
          "base_uri": "https://localhost:8080/"
        },
        "id": "eEhlJtVtHtNu",
        "outputId": "43bd50be-a3d2-492c-c031-fc7d345270dd"
      },
      "execution_count": null,
      "outputs": [
        {
          "output_type": "stream",
          "name": "stdout",
          "text": [
            "[1, 1, 1, 1, 1, 1, 2, 2, 2, 2, 2, 2, 2, 2, 2, 2, 2, 2, 3, 3, 3, 3, 3, 3, 3, 3, 3, 3, 3, 3, 4, 4, 4, 4, 4, 4]\n",
            "[1, 3, 4, 5, 6, 8, 1, 3, 4, 5, 6, 8, 1, 3, 4, 5, 6, 8, 1, 3, 4, 5, 6, 8, 1, 3, 4, 5, 6, 8, 1, 3, 4, 5, 6, 8]\n"
          ]
        },
        {
          "output_type": "execute_result",
          "data": {
            "text/plain": [
              "list"
            ]
          },
          "metadata": {},
          "execution_count": 21
        }
      ]
    },
    {
      "cell_type": "markdown",
      "source": [
        "### Combining the columns into a DataFrame"
      ],
      "metadata": {
        "id": "smZl9_A5IMih"
      }
    },
    {
      "cell_type": "code",
      "source": [
        "# Combining the columns into a DataFrame\n",
        "FunnyDice = pd.DataFrame({'Red': Red, 'Green': Green})\n",
        "print(FunnyDice)\n",
        "FunnyDice.shape\n"
      ],
      "metadata": {
        "colab": {
          "base_uri": "https://localhost:8080/"
        },
        "id": "mHMYg9JkIJza",
        "outputId": "cdaeafcf-644f-4a6d-aae7-3405c9098c1b"
      },
      "execution_count": null,
      "outputs": [
        {
          "output_type": "stream",
          "name": "stdout",
          "text": [
            "    Red  Green\n",
            "0     1      1\n",
            "1     1      3\n",
            "2     1      4\n",
            "3     1      5\n",
            "4     1      6\n",
            "5     1      8\n",
            "6     2      1\n",
            "7     2      3\n",
            "8     2      4\n",
            "9     2      5\n",
            "10    2      6\n",
            "11    2      8\n",
            "12    2      1\n",
            "13    2      3\n",
            "14    2      4\n",
            "15    2      5\n",
            "16    2      6\n",
            "17    2      8\n",
            "18    3      1\n",
            "19    3      3\n",
            "20    3      4\n",
            "21    3      5\n",
            "22    3      6\n",
            "23    3      8\n",
            "24    3      1\n",
            "25    3      3\n",
            "26    3      4\n",
            "27    3      5\n",
            "28    3      6\n",
            "29    3      8\n",
            "30    4      1\n",
            "31    4      3\n",
            "32    4      4\n",
            "33    4      5\n",
            "34    4      6\n",
            "35    4      8\n"
          ]
        },
        {
          "output_type": "execute_result",
          "data": {
            "text/plain": [
              "(36, 2)"
            ]
          },
          "metadata": {},
          "execution_count": 22
        }
      ]
    },
    {
      "cell_type": "code",
      "source": [],
      "metadata": {
        "id": "TEaFQk6yISTs"
      },
      "execution_count": null,
      "outputs": []
    },
    {
      "cell_type": "code",
      "source": [],
      "metadata": {
        "id": "WLBhyvc9IJSK"
      },
      "execution_count": null,
      "outputs": []
    },
    {
      "cell_type": "markdown",
      "source": [
        "### Any even quicker way is to use itertools.product"
      ],
      "metadata": {
        "id": "U2bnXFOOLfYO"
      }
    },
    {
      "cell_type": "code",
      "source": [
        "from itertools import product"
      ],
      "metadata": {
        "id": "j6eZ4hB8LkrY"
      },
      "execution_count": null,
      "outputs": []
    },
    {
      "cell_type": "code",
      "source": [
        "FDice = pd.DataFrame(list(product([1, 2, 2, 3, 3, 4], [1, 3, 4, 5, 6, 8])), columns=['Red', 'Green'])\n",
        "print(FDice.head())"
      ],
      "metadata": {
        "colab": {
          "base_uri": "https://localhost:8080/"
        },
        "id": "QyTiYiDaLs6L",
        "outputId": "38b5624c-5405-4ce5-f2d9-6668861de46b"
      },
      "execution_count": null,
      "outputs": [
        {
          "output_type": "stream",
          "name": "stdout",
          "text": [
            "   Red  Green\n",
            "0    1      1\n",
            "1    1      3\n",
            "2    1      4\n",
            "3    1      5\n",
            "4    1      6\n"
          ]
        }
      ]
    },
    {
      "cell_type": "markdown",
      "source": [
        "### Create a vector with the total roll (add random variables)"
      ],
      "metadata": {
        "id": "RQyUquPTNh_J"
      }
    },
    {
      "cell_type": "code",
      "source": [
        "total = FunnyDice['Red'] + FunnyDice['Green']\n",
        "print(total)"
      ],
      "metadata": {
        "colab": {
          "base_uri": "https://localhost:8080/"
        },
        "id": "yGTQMoLLNmhl",
        "outputId": "c9ecd1aa-4c2e-4fed-ecd8-14a7a2bab145"
      },
      "execution_count": null,
      "outputs": [
        {
          "output_type": "stream",
          "name": "stdout",
          "text": [
            "0      2\n",
            "1      4\n",
            "2      5\n",
            "3      6\n",
            "4      7\n",
            "5      9\n",
            "6      3\n",
            "7      5\n",
            "8      6\n",
            "9      7\n",
            "10     8\n",
            "11    10\n",
            "12     3\n",
            "13     5\n",
            "14     6\n",
            "15     7\n",
            "16     8\n",
            "17    10\n",
            "18     4\n",
            "19     6\n",
            "20     7\n",
            "21     8\n",
            "22     9\n",
            "23    11\n",
            "24     4\n",
            "25     6\n",
            "26     7\n",
            "27     8\n",
            "28     9\n",
            "29    11\n",
            "30     5\n",
            "31     7\n",
            "32     8\n",
            "33     9\n",
            "34    10\n",
            "35    12\n",
            "dtype: int64\n"
          ]
        }
      ]
    },
    {
      "cell_type": "markdown",
      "source": [
        "### Make a table of the frequency of each total"
      ],
      "metadata": {
        "id": "sqsFmf3BNwqy"
      }
    },
    {
      "cell_type": "markdown",
      "source": [
        "In Python, the **value_counts()** method of Pandas counts the number of occurrences of each unique value in a Series.\n",
        "\n",
        "The value_counts() method returns a Series object where the unique values are the index and the frequencies are the values. Then, **sort_index()** sorts these unique values (which are the index) in ascending order.\n",
        "\n",
        "Thus, the line of code tbl = total.value_counts().sort_index() creates a Series object tbl that contains the count of each possible sum of dice values, sorted in ascending order.\n",
        "\n",
        "\n",
        "\n",
        "\n",
        "\n"
      ],
      "metadata": {
        "id": "HE7l5ONnXdol"
      }
    },
    {
      "cell_type": "code",
      "source": [
        "tbl = total.value_counts().sort_index()\n",
        "print(tbl)"
      ],
      "metadata": {
        "colab": {
          "base_uri": "https://localhost:8080/"
        },
        "id": "S5FayuNEN3xZ",
        "outputId": "b29b55d4-d4c8-4b80-d307-717ea81bec32"
      },
      "execution_count": null,
      "outputs": [
        {
          "output_type": "stream",
          "name": "stdout",
          "text": [
            "2     1\n",
            "3     2\n",
            "4     3\n",
            "5     4\n",
            "6     5\n",
            "7     6\n",
            "8     5\n",
            "9     4\n",
            "10    3\n",
            "11    2\n",
            "12    1\n",
            "Name: count, dtype: int64\n"
          ]
        }
      ]
    },
    {
      "cell_type": "code",
      "source": [
        "tbl.plot(kind='bar')\n",
        "plt.show()"
      ],
      "metadata": {
        "colab": {
          "base_uri": "https://localhost:8080/",
          "height": 434
        },
        "id": "tV_M_b2gOBzW",
        "outputId": "986ecfe5-30f8-42bc-98e4-17f9313b7ef1"
      },
      "execution_count": null,
      "outputs": [
        {
          "output_type": "display_data",
          "data": {
            "text/plain": [
              "<Figure size 640x480 with 1 Axes>"
            ],
            "image/png": "[encoded data removed]"
          },
          "metadata": {}
        }
      ]
    },
    {
      "cell_type": "markdown",
      "source": [
        "### If the dice are fair, each row has a probability of 1/36. The mass function is"
      ],
      "metadata": {
        "id": "4t5kUH3oOK0q"
      }
    },
    {
      "cell_type": "code",
      "source": [
        "mass = tbl / 36\n",
        "mass.plot(kind='bar')\n",
        "plt.show()"
      ],
      "metadata": {
        "colab": {
          "base_uri": "https://localhost:8080/",
          "height": 434
        },
        "id": "BYmnUKsaOPV3",
        "outputId": "d11c0651-516c-4a25-b106-0693451a936e"
      },
      "execution_count": null,
      "outputs": [
        {
          "output_type": "display_data",
          "data": {
            "text/plain": [
              "<Figure size 640x480 with 1 Axes>"
            ],
            "image/png": "[encoded data removed]"
          },
          "metadata": {}
        }
      ]
    },
    {
      "cell_type": "markdown",
      "source": [
        "# Topic 2 - Generating samples from a DataFrame"
      ],
      "metadata": {
        "id": "xAr4zTeUO1dp"
      }
    },
    {
      "cell_type": "code",
      "source": [],
      "metadata": {
        "id": "dWkFO8t5ksCA"
      },
      "execution_count": null,
      "outputs": []
    },
    {
      "cell_type": "markdown",
      "source": [
        "### Simulating rolling the dice by sampling"
      ],
      "metadata": {
        "id": "MBHrDat6O8NE"
      }
    },
    {
      "cell_type": "code",
      "source": [
        "list = [2, 4, 6, 8, 10, 12, 14, 16, 18, 20]\n",
        "print(list)\n",
        "print(np.random.choice(list, 10, replace=True))"
      ],
      "metadata": {
        "colab": {
          "base_uri": "https://localhost:8080/"
        },
        "id": "KYuAPIWVmJDn",
        "outputId": "40f94642-967f-493e-e454-46825537f3b5"
      },
      "execution_count": null,
      "outputs": [
        {
          "output_type": "stream",
          "name": "stdout",
          "text": [
            "[2, 4, 6, 8, 10, 12, 14, 16, 18, 20]\n",
            "[ 4 12 18 16  4  4  2 20  2  6]\n"
          ]
        }
      ]
    },
    {
      "cell_type": "code",
      "source": [
        "print(np.random.choice(total, 10, replace=False))\n",
        "#print(np.random.choice(total, 10, replace=True))"
      ],
      "metadata": {
        "colab": {
          "base_uri": "https://localhost:8080/"
        },
        "id": "POjhrxbQO-02",
        "outputId": "fae53fe1-a91d-4867-f1f1-ba471769d524"
      },
      "execution_count": null,
      "outputs": [
        {
          "output_type": "stream",
          "name": "stdout",
          "text": [
            "[6 6 7 9 5 6 3 9 7 8]\n"
          ]
        }
      ]
    },
    {
      "cell_type": "markdown",
      "source": [
        "### Sampling from the columns"
      ],
      "metadata": {
        "id": "kmiQZqKJPNHs"
      }
    },
    {
      "cell_type": "code",
      "source": [
        "print(np.random.choice(FunnyDice['Red'], 10, replace=True))\n",
        "#print(np.random.choice(FunnyDice['Red'], 10, replace=True))"
      ],
      "metadata": {
        "colab": {
          "base_uri": "https://localhost:8080/"
        },
        "id": "UjLV-tOqPhfn",
        "outputId": "e7e874b1-2adb-4838-c9eb-4220008a58ed"
      },
      "execution_count": null,
      "outputs": [
        {
          "output_type": "stream",
          "name": "stdout",
          "text": [
            "[2 1 2 2 2 3 3 3 4 2]\n"
          ]
        }
      ]
    },
    {
      "cell_type": "markdown",
      "source": [
        "### If we try to sample directly from a DataFrame, we get randomly chosen columns"
      ],
      "metadata": {
        "id": "kDFWRI8bPfi6"
      }
    },
    {
      "cell_type": "markdown",
      "source": [
        "This line of code is using the sample() method of the DataFrame FunnyDice to randomly select 5 rows from the DataFrame with replacement, meaning that the same row can be selected multiple times."
      ],
      "metadata": {
        "id": "FKJsldryba74"
      }
    },
    {
      "cell_type": "code",
      "source": [
        "print(FunnyDice.sample(5, replace=False))"
      ],
      "metadata": {
        "colab": {
          "base_uri": "https://localhost:8080/"
        },
        "id": "DeAmQUYDP8IX",
        "outputId": "88c0993d-ac52-4512-8506-0a7d532e5d03"
      },
      "execution_count": null,
      "outputs": [
        {
          "output_type": "stream",
          "name": "stdout",
          "text": [
            "    Red  Green\n",
            "24    3      1\n",
            "14    2      4\n",
            "32    4      4\n",
            "6     2      1\n",
            "17    2      8\n"
          ]
        }
      ]
    },
    {
      "cell_type": "markdown",
      "source": [
        "### Extracting one or more rows from a DataFrame"
      ],
      "metadata": {
        "id": "5wgE1K4cQHh-"
      }
    },
    {
      "cell_type": "code",
      "source": [
        "print(FunnyDice.iloc[14])"
      ],
      "metadata": {
        "id": "oEg6UxOlQvES",
        "colab": {
          "base_uri": "https://localhost:8080/"
        },
        "outputId": "57462065-895d-4067-8b29-2cbdaa03ac5c"
      },
      "execution_count": null,
      "outputs": [
        {
          "output_type": "stream",
          "name": "stdout",
          "text": [
            "Red      2\n",
            "Green    4\n",
            "Name: 14, dtype: int64\n"
          ]
        }
      ]
    },
    {
      "cell_type": "code",
      "source": [
        "print(FunnyDice.iloc[[1, 4, 6]])"
      ],
      "metadata": {
        "id": "rgacfC0vRRot",
        "colab": {
          "base_uri": "https://localhost:8080/"
        },
        "outputId": "d726df34-674b-431b-a73a-dbe267576ad9"
      },
      "execution_count": null,
      "outputs": [
        {
          "output_type": "stream",
          "name": "stdout",
          "text": [
            "   Red  Green\n",
            "1    1      3\n",
            "4    1      6\n",
            "6    2      1\n"
          ]
        }
      ]
    },
    {
      "cell_type": "markdown",
      "source": [
        "### Sampling from the index values and getting a new DataFrame"
      ],
      "metadata": {
        "id": "XODijdSyRXqW"
      }
    },
    {
      "cell_type": "code",
      "source": [
        "indices = np.random.choice(range(36), 36, replace=True)\n",
        "print(indices)"
      ],
      "metadata": {
        "id": "rCC35Kd4RZ0e",
        "colab": {
          "base_uri": "https://localhost:8080/"
        },
        "outputId": "c9285dc3-5cad-4ccc-9df9-29c81ddb98c6"
      },
      "execution_count": null,
      "outputs": [
        {
          "output_type": "stream",
          "name": "stdout",
          "text": [
            "[28  9 34  4  2  5 23  4 28  3]\n"
          ]
        }
      ]
    },
    {
      "cell_type": "code",
      "source": [
        "print(FunnyDice.iloc[indices])"
      ],
      "metadata": {
        "id": "y6vJhQo7Rjky",
        "colab": {
          "base_uri": "https://localhost:8080/"
        },
        "outputId": "bf119530-539f-4d78-c777-3689564bda63"
      },
      "execution_count": null,
      "outputs": [
        {
          "output_type": "stream",
          "name": "stdout",
          "text": [
            "    Red  Green\n",
            "28    3      6\n",
            "9     2      5\n",
            "34    4      6\n",
            "4     1      6\n",
            "2     1      4\n",
            "5     1      8\n",
            "23    3      8\n",
            "4     1      6\n",
            "28    3      6\n",
            "3     1      5\n"
          ]
        }
      ]
    },
    {
      "cell_type": "code",
      "source": [
        "print(isinstance(FunnyDice.iloc[indices], pd.DataFrame))"
      ],
      "metadata": {
        "id": "tI5dnF8WRldD",
        "colab": {
          "base_uri": "https://localhost:8080/"
        },
        "outputId": "ebcf37fd-1e8c-4ee2-f54d-51492813d174"
      },
      "execution_count": null,
      "outputs": [
        {
          "output_type": "stream",
          "name": "stdout",
          "text": [
            "True\n"
          ]
        }
      ]
    },
    {
      "cell_type": "markdown",
      "source": [
        "### A DataFrame with 36 rows is now a genuine random sample"
      ],
      "metadata": {
        "id": "otRTsOW6Rrcs"
      }
    },
    {
      "cell_type": "code",
      "source": [
        "sample36 = FunnyDice.iloc[np.random.choice(range(36), 36, replace=False)]\n",
        "print(sample36)"
      ],
      "metadata": {
        "id": "PU-WFLlmRvYP",
        "colab": {
          "base_uri": "https://localhost:8080/"
        },
        "outputId": "f043063b-08a7-4fd3-b9a6-e5568383c20b"
      },
      "execution_count": null,
      "outputs": [
        {
          "output_type": "stream",
          "name": "stdout",
          "text": [
            "    Red  Green\n",
            "14    2      4\n",
            "26    3      4\n",
            "16    2      6\n",
            "24    3      1\n",
            "35    4      8\n",
            "13    2      3\n",
            "10    2      6\n",
            "4     1      6\n",
            "27    3      5\n",
            "12    2      1\n",
            "28    3      6\n",
            "33    4      5\n",
            "9     2      5\n",
            "15    2      5\n",
            "25    3      3\n",
            "6     2      1\n",
            "2     1      4\n",
            "31    4      3\n",
            "22    3      6\n",
            "1     1      3\n",
            "3     1      5\n",
            "7     2      3\n",
            "17    2      8\n",
            "32    4      4\n",
            "8     2      4\n",
            "34    4      6\n",
            "18    3      1\n",
            "19    3      3\n",
            "5     1      8\n",
            "30    4      1\n",
            "20    3      4\n",
            "0     1      1\n",
            "11    2      8\n",
            "21    3      5\n",
            "29    3      8\n",
            "23    3      8\n"
          ]
        }
      ]
    },
    {
      "cell_type": "code",
      "source": [
        "sample36_total = sample36['Red'] + sample36['Green']\n",
        "sample36_total.value_counts().sort_index().plot(kind='bar')\n",
        "plt.show()"
      ],
      "metadata": {
        "id": "dThA_vXKR4bp",
        "colab": {
          "base_uri": "https://localhost:8080/",
          "height": 434
        },
        "outputId": "489bb291-c11c-4bc5-a8c3-e0810441bd7f"
      },
      "execution_count": null,
      "outputs": [
        {
          "output_type": "display_data",
          "data": {
            "text/plain": [
              "<Figure size 640x480 with 1 Axes>"
            ],
            "image/png": "[encoded data removed]"
          },
          "metadata": {}
        }
      ]
    },
    {
      "cell_type": "markdown",
      "source": [],
      "metadata": {
        "id": "ILzOmNc6gh_j"
      }
    },
    {
      "cell_type": "markdown",
      "source": [
        "### With lots of samples the histogram looks like the mass function"
      ],
      "metadata": {
        "id": "nI4y0OGyR7mi"
      }
    },
    {
      "cell_type": "code",
      "source": [
        "sample3600 = FunnyDice.iloc[np.random.choice(range(36), 3600, replace=True)]\n",
        "sample3600_total = sample3600['Red'] + sample3600['Green']\n",
        "sample3600_total.value_counts().sort_index().plot(kind='bar')\n",
        "plt.show()"
      ],
      "metadata": {
        "colab": {
          "base_uri": "https://localhost:8080/",
          "height": 434
        },
        "id": "wglU1oozf_-C",
        "outputId": "9ed0da2c-88b6-412d-d526-5d5110ed735f"
      },
      "execution_count": null,
      "outputs": [
        {
          "output_type": "display_data",
          "data": {
            "text/plain": [
              "<Figure size 640x480 with 1 Axes>"
            ],
            "image/png": "[encoded data removed]"
          },
          "metadata": {}
        }
      ]
    },
    {
      "cell_type": "code",
      "execution_count": null,
      "metadata": {
        "id": "hfUWwc8o71nX"
      },
      "outputs": [],
      "source": []
    }
  ]
}