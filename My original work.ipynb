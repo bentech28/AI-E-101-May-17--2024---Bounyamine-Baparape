{
 "cells": [
  {
   "cell_type": "markdown",
   "id": "19a48697-b9a0-4077-a8cf-9075b8158e09",
   "metadata": {},
   "source": [
    "# Native types "
   ]
  },
  {
   "cell_type": "markdown",
   "id": "2ad15292",
   "metadata": {},
   "source": [
    "## String"
   ]
  },
  {
   "cell_type": "markdown",
   "id": "c562b677",
   "metadata": {},
   "source": [
    "Character strings are used to represent text. They are defined by single or double quotation marks."
   ]
  },
  {
   "cell_type": "code",
   "execution_count": 7,
   "id": "7ad4fde3",
   "metadata": {},
   "outputs": [
    {
     "name": "stdout",
     "output_type": "stream",
     "text": [
      "Ce'est une chaine de caractère\n"
     ]
    }
   ],
   "source": [
    "print(\"Ce'est une chaine de caractère\")"
   ]
  },
  {
   "cell_type": "markdown",
   "id": "bb0990f9",
   "metadata": {},
   "source": [
    "Be careful with quotation marks, as you may be in for some surprises if you use apostrophes in your text."
   ]
  },
  {
   "cell_type": "markdown",
   "id": "9bd7c75e-e388-4fa4-86c9-bc36b24477b1",
   "metadata": {},
   "source": [
    "##"
   ]
  },
  {
   "cell_type": "code",
   "execution_count": 8,
   "id": "d73452bd",
   "metadata": {},
   "outputs": [
    {
     "ename": "SyntaxError",
     "evalue": "unterminated string literal (detected at line 1) (4239727081.py, line 1)",
     "output_type": "error",
     "traceback": [
      "\u001b[1;36m  Cell \u001b[1;32mIn[8], line 1\u001b[1;36m\u001b[0m\n\u001b[1;33m    print('Ce'est une chaine de caractère')\u001b[0m\n\u001b[1;37m                                         ^\u001b[0m\n\u001b[1;31mSyntaxError\u001b[0m\u001b[1;31m:\u001b[0m unterminated string literal (detected at line 1)\n"
     ]
    }
   ],
   "source": [
    "print('Ce'est une chaine de caractère')"
   ]
  },
  {
   "cell_type": "markdown",
   "id": "39fa034d",
   "metadata": {},
   "source": [
    "To solve this problem, you can alternate between single and double quotation marks, or use a backslash to 'escape' the problematic quotation mark:"
   ]
  },
  {
   "cell_type": "code",
   "execution_count": 11,
   "id": "c8e01a19",
   "metadata": {},
   "outputs": [
    {
     "name": "stdout",
     "output_type": "stream",
     "text": [
      "C'est une chaine de caractère\n",
      "C'est une chaine de caractere également\n"
     ]
    }
   ],
   "source": [
    "print(\"C'est une chaine de caractère\")\n",
    "print('C\\'est une chaine de caractere également')"
   ]
  },
  {
   "cell_type": "markdown",
   "id": "194b3211",
   "metadata": {},
   "source": [
    "You can also put strings of characters on several lines. "
   ]
  },
  {
   "cell_type": "code",
   "execution_count": 12,
   "id": "8c23234a",
   "metadata": {},
   "outputs": [
    {
     "name": "stdout",
     "output_type": "stream",
     "text": [
      "C'est une \n",
      "      chaine \n",
      "      multilignes\n",
      "      \n"
     ]
    }
   ],
   "source": [
    "print(\"\"\"C'est une \n",
    "      chaine \n",
    "      multilignes\n",
    "      \"\"\")"
   ]
  },
  {
   "cell_type": "markdown",
   "id": "bbb39501",
   "metadata": {},
   "source": [
    "## STRING METHODS "
   ]
  },
  {
   "cell_type": "code",
   "execution_count": 13,
   "id": "527a91e9",
   "metadata": {},
   "outputs": [],
   "source": [
    "myString = \"C'est une chaine de caratère\""
   ]
  },
  {
   "cell_type": "markdown",
   "id": "5ff9129b",
   "metadata": {},
   "source": [
    "#### lower():  method is used to convert all the characters in a string to lowercase."
   ]
  },
  {
   "cell_type": "code",
   "execution_count": 14,
   "id": "187dd9a9",
   "metadata": {},
   "outputs": [
    {
     "data": {
      "text/plain": [
       "\"c'est une chaine de caratère\""
      ]
     },
     "execution_count": 14,
     "metadata": {},
     "output_type": "execute_result"
    }
   ],
   "source": [
    "myString.lower()"
   ]
  },
  {
   "cell_type": "markdown",
   "id": "35bc9457",
   "metadata": {},
   "source": [
    "#### Upper() : method is used to convert all the characters in a string to uppercase."
   ]
  },
  {
   "cell_type": "code",
   "execution_count": 15,
   "id": "d9d39aa8",
   "metadata": {},
   "outputs": [
    {
     "data": {
      "text/plain": [
       "\"C'EST UNE CHAINE DE CARATÈRE\""
      ]
     },
     "execution_count": 15,
     "metadata": {},
     "output_type": "execute_result"
    }
   ],
   "source": [
    "myString.upper()"
   ]
  },
  {
   "cell_type": "markdown",
   "id": "7c0e8955",
   "metadata": {},
   "source": [
    "#### split() method : is used to split a string into a list of substrings based on a specified delimiter"
   ]
  },
  {
   "cell_type": "code",
   "execution_count": null,
   "id": "581e69ab",
   "metadata": {},
   "outputs": [],
   "source": [
    "myString.split"
   ]
  },
  {
   "cell_type": "markdown",
   "id": "256a5842",
   "metadata": {},
   "source": [
    "my"
   ]
  }
 ],
 "metadata": {
  "kernelspec": {
   "display_name": "Python 3 (ipykernel)",
   "language": "python",
   "name": "python3"
  },
  "language_info": {
   "codemirror_mode": {
    "name": "ipython",
    "version": 3
   },
   "file_extension": ".py",
   "mimetype": "text/x-python",
   "name": "python",
   "nbconvert_exporter": "python",
   "pygments_lexer": "ipython3",
   "version": "3.11.7"
  }
 },
 "nbformat": 4,
 "nbformat_minor": 5
}
