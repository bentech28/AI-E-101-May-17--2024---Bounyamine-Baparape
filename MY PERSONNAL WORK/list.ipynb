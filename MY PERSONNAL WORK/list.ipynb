{
 "cells": [
  {
   "cell_type": "markdown",
   "metadata": {},
   "source": [
    "# Lists"
   ]
  },
  {
   "cell_type": "markdown",
   "metadata": {},
   "source": [
    "### List is a more general sequence object that allows the individual items to be of different types.\n"
   ]
  },
  {
   "cell_type": "code",
   "execution_count": 2,
   "metadata": {},
   "outputs": [],
   "source": [
    "# Creating an empty list\n",
    "empty_list = []"
   ]
  },
  {
   "cell_type": "code",
   "execution_count": 3,
   "metadata": {},
   "outputs": [
    {
     "data": {
      "text/plain": [
       "list"
      ]
     },
     "execution_count": 3,
     "metadata": {},
     "output_type": "execute_result"
    }
   ],
   "source": [
    "# Creating a list with mixed types\n",
    "myList = ['Bounyamine','BAPARAPE',25]\n",
    "type(myList)"
   ]
  },
  {
   "cell_type": "code",
   "execution_count": 5,
   "metadata": {},
   "outputs": [
    {
     "name": "stdout",
     "output_type": "stream",
     "text": [
      "[[1, 2], [3, 4], [5, 6]]\n"
     ]
    }
   ],
   "source": [
    "# Creating a list with lists (nested list)\n",
    "nested_list = [[1, 2], [3, 4], [5, 6]]\n",
    "print(nested_list)"
   ]
  },
  {
   "cell_type": "markdown",
   "metadata": {},
   "source": [
    "### Accessing Element "
   ]
  },
  {
   "cell_type": "code",
   "execution_count": 9,
   "metadata": {},
   "outputs": [
    {
     "name": "stdout",
     "output_type": "stream",
     "text": [
      "Bounyamine\n",
      "BAPARAPE\n"
     ]
    }
   ],
   "source": [
    "# Accessing the first element and the second element\n",
    "print(myList[0])\n",
    "print(myList[1])"
   ]
  },
  {
   "cell_type": "code",
   "execution_count": 8,
   "metadata": {},
   "outputs": [
    {
     "name": "stdout",
     "output_type": "stream",
     "text": [
      "25\n"
     ]
    }
   ],
   "source": [
    "# Accessing the last element\n",
    "print(myList[-1])"
   ]
  },
  {
   "cell_type": "markdown",
   "metadata": {},
   "source": [
    "### Modifying Elements"
   ]
  },
  {
   "cell_type": "code",
   "execution_count": 12,
   "metadata": {},
   "outputs": [
    {
     "name": "stdout",
     "output_type": "stream",
     "text": [
      "['Bounyamine', 'BAPARAPE', 30]\n",
      "['Bounyamine', 'BAPARAPE', 30]\n"
     ]
    }
   ],
   "source": [
    "myList[-1] = 30\n",
    "print(myList)"
   ]
  },
  {
   "cell_type": "markdown",
   "metadata": {},
   "source": [
    "### Adding Elements "
   ]
  },
  {
   "cell_type": "markdown",
   "metadata": {},
   "source": [
    "You can use insert(), append() and extend() for adding elements "
   ]
  },
  {
   "cell_type": "code",
   "execution_count": 13,
   "metadata": {},
   "outputs": [],
   "source": [
    "integer_list = [12,14,20]"
   ]
  },
  {
   "cell_type": "code",
   "execution_count": 14,
   "metadata": {},
   "outputs": [
    {
     "name": "stdout",
     "output_type": "stream",
     "text": [
      "List after append: [12, 14, 20, 6]\n"
     ]
    }
   ],
   "source": [
    "# Using append to add a single element at the end\n",
    "integer_list.append(6)\n",
    "print(f\"List after append: {integer_list}\")"
   ]
  },
  {
   "cell_type": "code",
   "execution_count": 15,
   "metadata": {},
   "outputs": [
    {
     "name": "stdout",
     "output_type": "stream",
     "text": [
      "List after insert: [12, 14, 99, 20, 6]\n"
     ]
    }
   ],
   "source": [
    "# Using insert to add an element at a specific position\n",
    "integer_list.insert(2, 99)\n",
    "print(f\"List after insert: {integer_list}\")\n"
   ]
  },
  {
   "cell_type": "code",
   "execution_count": 16,
   "metadata": {},
   "outputs": [
    {
     "name": "stdout",
     "output_type": "stream",
     "text": [
      "List after extend: [12, 14, 99, 20, 6, 7, 8, 9]\n"
     ]
    }
   ],
   "source": [
    "# Using extend to add multiple elements\n",
    "integer_list.extend([7, 8, 9])\n",
    "print(f\"List after extend: {integer_list}\")"
   ]
  },
  {
   "cell_type": "markdown",
   "metadata": {},
   "source": [
    "### Removing Elements "
   ]
  },
  {
   "cell_type": "markdown",
   "metadata": {},
   "source": [
    "You can remove elements using remove(),del(),pop ()"
   ]
  },
  {
   "cell_type": "code",
   "execution_count": 17,
   "metadata": {},
   "outputs": [
    {
     "name": "stdout",
     "output_type": "stream",
     "text": [
      "List after remove: [12, 14, 20, 6, 7, 8, 9]\n"
     ]
    }
   ],
   "source": [
    "# Using remove to delete a specific element by value\n",
    "integer_list.remove(99)\n",
    "print(f\"List after remove: {integer_list}\")"
   ]
  },
  {
   "cell_type": "code",
   "execution_count": 20,
   "metadata": {},
   "outputs": [
    {
     "name": "stdout",
     "output_type": "stream",
     "text": [
      "List after remove: [14, 20, 6, 7, 8, 9]\n"
     ]
    }
   ],
   "source": [
    "# Using remove to delete a specific element by value\n",
    "integer_list.remove(12)\n",
    "print(f\"List after remove: {integer_list}\")"
   ]
  },
  {
   "cell_type": "code",
   "execution_count": 21,
   "metadata": {},
   "outputs": [
    {
     "name": "stdout",
     "output_type": "stream",
     "text": [
      "Popped element: 6\n",
      "List after pop: [14, 20, 7, 8, 9]\n"
     ]
    }
   ],
   "source": [
    "# Using pop to remove an element by index and return it\n",
    "popped_element = integer_list.pop(2)\n",
    "print(f\"Popped element: {popped_element}\")\n",
    "print(f\"List after pop: {integer_list}\")"
   ]
  },
  {
   "cell_type": "markdown",
   "metadata": {},
   "source": [
    "### Slice List"
   ]
  },
  {
   "cell_type": "code",
   "execution_count": 28,
   "metadata": {},
   "outputs": [
    {
     "name": "stdout",
     "output_type": "stream",
     "text": [
      "[0, 1, 2, 3, 4, 5, 6, 7, 8, 9]\n"
     ]
    }
   ],
   "source": [
    "exemple = list(range(0,10))\n",
    "print(exemple)"
   ]
  },
  {
   "cell_type": "code",
   "execution_count": 29,
   "metadata": {},
   "outputs": [
    {
     "name": "stdout",
     "output_type": "stream",
     "text": [
      "Sliced list (first three elements): [0, 1, 2]\n"
     ]
    }
   ],
   "source": [
    "# Slicing to get the first three elements\n",
    "slice_example = exemple[0:3]\n",
    "print(f\"Sliced list (first three elements): {slice_example}\")"
   ]
  },
  {
   "cell_type": "code",
   "execution_count": 30,
   "metadata": {},
   "outputs": [
    {
     "name": "stdout",
     "output_type": "stream",
     "text": [
      "Sliced list with a step: [0, 2, 4]\n"
     ]
    }
   ],
   "source": [
    "# Slicing with a step\n",
    "step_slice_example = exemple[0:5:2]\n",
    "print(f\"Sliced list with a step: {step_slice_example}\")"
   ]
  },
  {
   "cell_type": "markdown",
   "metadata": {},
   "source": [
    "### Looping Through a List"
   ]
  },
  {
   "cell_type": "code",
   "execution_count": 31,
   "metadata": {},
   "outputs": [
    {
     "name": "stdout",
     "output_type": "stream",
     "text": [
      "Bounyamine\n",
      "BAPARAPE\n",
      "25\n"
     ]
    }
   ],
   "source": [
    "myList = ['Bounyamine','BAPARAPE',25]\n",
    "\n",
    "for i in myList :\n",
    "    print(i)"
   ]
  },
  {
   "cell_type": "markdown",
   "metadata": {},
   "source": [
    "### Common List Methods"
   ]
  },
  {
   "cell_type": "code",
   "execution_count": 32,
   "metadata": {},
   "outputs": [],
   "source": [
    "# Creating a sample list\n",
    "sample_list = [3, 1, 4, 1, 5, 9, 2, 6, 5, 3, 5]"
   ]
  },
  {
   "cell_type": "code",
   "execution_count": 33,
   "metadata": {},
   "outputs": [
    {
     "name": "stdout",
     "output_type": "stream",
     "text": [
      "Length of the list: 11\n"
     ]
    }
   ],
   "source": [
    "# Finding the length of the list\n",
    "length = len(sample_list)\n",
    "print(f\"Length of the list: {length}\")"
   ]
  },
  {
   "cell_type": "code",
   "execution_count": 34,
   "metadata": {},
   "outputs": [
    {
     "name": "stdout",
     "output_type": "stream",
     "text": [
      "Index of 4: 2\n"
     ]
    }
   ],
   "source": [
    "# Finding the index of an element\n",
    "index_of_four = sample_list.index(4)\n",
    "print(f\"Index of 4: {index_of_four}\")"
   ]
  },
  {
   "cell_type": "code",
   "execution_count": 35,
   "metadata": {},
   "outputs": [
    {
     "name": "stdout",
     "output_type": "stream",
     "text": [
      "Count of 1s: 2\n"
     ]
    }
   ],
   "source": [
    "# Counting occurrences of an element\n",
    "count_of_ones = sample_list.count(1)\n",
    "print(f\"Count of 1s: {count_of_ones}\")"
   ]
  },
  {
   "cell_type": "code",
   "execution_count": 36,
   "metadata": {},
   "outputs": [
    {
     "name": "stdout",
     "output_type": "stream",
     "text": [
      "Sorted list: [1, 1, 2, 3, 3, 4, 5, 5, 5, 6, 9]\n"
     ]
    }
   ],
   "source": [
    "# Sorting the list\n",
    "sorted_list = sorted(sample_list)\n",
    "print(f\"Sorted list: {sorted_list}\")"
   ]
  },
  {
   "cell_type": "code",
   "execution_count": 37,
   "metadata": {},
   "outputs": [
    {
     "name": "stdout",
     "output_type": "stream",
     "text": [
      "Reversed list: [5, 3, 5, 6, 2, 9, 5, 1, 4, 1, 3]\n"
     ]
    }
   ],
   "source": [
    "# Reversing the list\n",
    "sample_list.reverse()\n",
    "print(f\"Reversed list: {sample_list}\")\n",
    "\n",
    "\n"
   ]
  }
 ],
 "metadata": {
  "kernelspec": {
   "display_name": "base",
   "language": "python",
   "name": "python3"
  },
  "language_info": {
   "codemirror_mode": {
    "name": "ipython",
    "version": 3
   },
   "file_extension": ".py",
   "mimetype": "text/x-python",
   "name": "python",
   "nbconvert_exporter": "python",
   "pygments_lexer": "ipython3",
   "version": "3.11.7"
  }
 },
 "nbformat": 4,
 "nbformat_minor": 2
}
