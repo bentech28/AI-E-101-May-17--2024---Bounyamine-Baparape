{
 "cells": [
  {
   "cell_type": "markdown",
   "metadata": {},
   "source": [
    "# Pandas \n"
   ]
  },
  {
   "cell_type": "markdown",
   "metadata": {},
   "source": [
    "## Data Structure with Pandas "
   ]
  },
  {
   "cell_type": "code",
   "execution_count": 7,
   "metadata": {},
   "outputs": [],
   "source": [
    "import pandas as pd\n",
    "import numpy as np"
   ]
  },
  {
   "cell_type": "markdown",
   "metadata": {},
   "source": [
    "Pandas has two main data structures:\n",
    "- DataFrame, which is two-dimensional\n",
    "- Series, which is one-dimensional"
   ]
  },
  {
   "cell_type": "markdown",
   "metadata": {},
   "source": [
    "### DataFrame Pandas "
   ]
  },
  {
   "cell_type": "code",
   "execution_count": 4,
   "metadata": {},
   "outputs": [
    {
     "data": {
      "text/html": [
       "<div>\n",
       "<style scoped>\n",
       "    .dataframe tbody tr th:only-of-type {\n",
       "        vertical-align: middle;\n",
       "    }\n",
       "\n",
       "    .dataframe tbody tr th {\n",
       "        vertical-align: top;\n",
       "    }\n",
       "\n",
       "    .dataframe thead th {\n",
       "        text-align: right;\n",
       "    }\n",
       "</style>\n",
       "<table border=\"1\" class=\"dataframe\">\n",
       "  <thead>\n",
       "    <tr style=\"text-align: right;\">\n",
       "      <th></th>\n",
       "      <th>0</th>\n",
       "      <th>1</th>\n",
       "      <th>2</th>\n",
       "    </tr>\n",
       "  </thead>\n",
       "  <tbody>\n",
       "    <tr>\n",
       "      <th>0</th>\n",
       "      <td>Alice</td>\n",
       "      <td>Bob</td>\n",
       "      <td>Charlie</td>\n",
       "    </tr>\n",
       "    <tr>\n",
       "      <th>1</th>\n",
       "      <td>25</td>\n",
       "      <td>30</td>\n",
       "      <td>35</td>\n",
       "    </tr>\n",
       "    <tr>\n",
       "      <th>2</th>\n",
       "      <td>New York</td>\n",
       "      <td>Los Angeles</td>\n",
       "      <td>Chicago</td>\n",
       "    </tr>\n",
       "  </tbody>\n",
       "</table>\n",
       "</div>"
      ],
      "text/plain": [
       "          0            1        2\n",
       "0     Alice          Bob  Charlie\n",
       "1        25           30       35\n",
       "2  New York  Los Angeles  Chicago"
      ]
     },
     "execution_count": 4,
     "metadata": {},
     "output_type": "execute_result"
    }
   ],
   "source": [
    "# Creating a DataFrame using lists\n",
    "\n",
    "myListe = [['Alice', 'Bob', 'Charlie'],[25, 30, 35],['New York', 'Los Angeles', 'Chicago']]\n",
    "\n",
    "myDataFrame = pd.DataFrame(myListe)\n",
    "myDataFrame\n"
   ]
  },
  {
   "cell_type": "markdown",
   "metadata": {},
   "source": [
    "As we haven't supplied any column labels, Pandas assigns automatically assigns numeric column labels to each column."
   ]
  },
  {
   "cell_type": "code",
   "execution_count": 6,
   "metadata": {},
   "outputs": [
    {
     "data": {
      "text/html": [
       "<div>\n",
       "<style scoped>\n",
       "    .dataframe tbody tr th:only-of-type {\n",
       "        vertical-align: middle;\n",
       "    }\n",
       "\n",
       "    .dataframe tbody tr th {\n",
       "        vertical-align: top;\n",
       "    }\n",
       "\n",
       "    .dataframe thead th {\n",
       "        text-align: right;\n",
       "    }\n",
       "</style>\n",
       "<table border=\"1\" class=\"dataframe\">\n",
       "  <thead>\n",
       "    <tr style=\"text-align: right;\">\n",
       "      <th></th>\n",
       "      <th>names</th>\n",
       "      <th>ages</th>\n",
       "      <th>cities</th>\n",
       "    </tr>\n",
       "  </thead>\n",
       "  <tbody>\n",
       "    <tr>\n",
       "      <th>0</th>\n",
       "      <td>Alice</td>\n",
       "      <td>Bob</td>\n",
       "      <td>Charlie</td>\n",
       "    </tr>\n",
       "    <tr>\n",
       "      <th>1</th>\n",
       "      <td>25</td>\n",
       "      <td>30</td>\n",
       "      <td>35</td>\n",
       "    </tr>\n",
       "    <tr>\n",
       "      <th>2</th>\n",
       "      <td>New York</td>\n",
       "      <td>Los Angeles</td>\n",
       "      <td>Chicago</td>\n",
       "    </tr>\n",
       "  </tbody>\n",
       "</table>\n",
       "</div>"
      ],
      "text/plain": [
       "      names         ages   cities\n",
       "0     Alice          Bob  Charlie\n",
       "1        25           30       35\n",
       "2  New York  Los Angeles  Chicago"
      ]
     },
     "execution_count": 6,
     "metadata": {},
     "output_type": "execute_result"
    }
   ],
   "source": [
    "# Let's create another DataFrame using the same list, but this time with customized column labels\n",
    "myListe = [['Alice', 'Bob', 'Charlie'],[25, 30, 35],['New York', 'Los Angeles', 'Chicago']]\n",
    "\n",
    "myDataFrame = pd.DataFrame(myListe,columns=['names','ages','cities'])\n",
    "myDataFrame"
   ]
  },
  {
   "cell_type": "markdown",
   "metadata": {},
   "source": [
    "### convert a NumPy Array into a DataFrame using the same method."
   ]
  },
  {
   "cell_type": "code",
   "execution_count": 9,
   "metadata": {},
   "outputs": [
    {
     "name": "stdout",
     "output_type": "stream",
     "text": [
      "   col1  col2  col3\n",
      "0     1     2     3\n",
      "1     4     5     6\n",
      "2     7     8     9\n"
     ]
    }
   ],
   "source": [
    "my_array = np.array([[1, 2, 3], [4, 5, 6], [7, 8, 9]])\n",
    "myDataFrame = pd.DataFrame(my_array,columns=['col1','col2','col3'])\n",
    "print(myDataFrame)"
   ]
  },
  {
   "cell_type": "markdown",
   "metadata": {},
   "source": [
    "### Creating a DataFrame using a dictionary"
   ]
  },
  {
   "cell_type": "markdown",
   "metadata": {},
   "source": [
    "\n",
    "- We can also pass a dictionary to the pandas.DataFrame() function to\n",
    "create a DataFrame."
   ]
  },
  {
   "cell_type": "code",
   "execution_count": 11,
   "metadata": {},
   "outputs": [
    {
     "name": "stdout",
     "output_type": "stream",
     "text": [
      "      Name  Age         City\n",
      "0    Alice   25     New York\n",
      "1      Bob   30  Los Angeles\n",
      "2  Charlie   35      Chicago\n"
     ]
    }
   ],
   "source": [
    "names = ['Alice', 'Bob', 'Charlie']\n",
    "ages = [25, 30, 35]\n",
    "cities = ['New York', 'Los Angeles', 'Chicago']\n",
    "\n",
    "data = {\n",
    "    'Name': names,\n",
    "    'Age': ages,\n",
    "    'City': cities\n",
    "}\n",
    "myDataFrame = pd.DataFrame(data)\n",
    "print(myDataFrame)"
   ]
  },
  {
   "cell_type": "markdown",
   "metadata": {},
   "source": [
    "### Loading a csv file as a DataFrame"
   ]
  },
  {
   "cell_type": "code",
   "execution_count": 17,
   "metadata": {},
   "outputs": [
    {
     "data": {
      "text/html": [
       "<div>\n",
       "<style scoped>\n",
       "    .dataframe tbody tr th:only-of-type {\n",
       "        vertical-align: middle;\n",
       "    }\n",
       "\n",
       "    .dataframe tbody tr th {\n",
       "        vertical-align: top;\n",
       "    }\n",
       "\n",
       "    .dataframe thead th {\n",
       "        text-align: right;\n",
       "    }\n",
       "</style>\n",
       "<table border=\"1\" class=\"dataframe\">\n",
       "  <thead>\n",
       "    <tr style=\"text-align: right;\">\n",
       "      <th></th>\n",
       "      <th>name</th>\n",
       "      <th>calories</th>\n",
       "      <th>protein</th>\n",
       "      <th>vitamins</th>\n",
       "      <th>rating</th>\n",
       "    </tr>\n",
       "  </thead>\n",
       "  <tbody>\n",
       "    <tr>\n",
       "      <th>0</th>\n",
       "      <td>100% Bran</td>\n",
       "      <td>70</td>\n",
       "      <td>4</td>\n",
       "      <td>25</td>\n",
       "      <td>68.402973</td>\n",
       "    </tr>\n",
       "    <tr>\n",
       "      <th>1</th>\n",
       "      <td>100% Natural Bran</td>\n",
       "      <td>120</td>\n",
       "      <td>3</td>\n",
       "      <td>0</td>\n",
       "      <td>33.983679</td>\n",
       "    </tr>\n",
       "    <tr>\n",
       "      <th>2</th>\n",
       "      <td>All-Bran</td>\n",
       "      <td>70</td>\n",
       "      <td>4</td>\n",
       "      <td>25</td>\n",
       "      <td>59.425505</td>\n",
       "    </tr>\n",
       "    <tr>\n",
       "      <th>3</th>\n",
       "      <td>All-Bran with Extra Fiber</td>\n",
       "      <td>50</td>\n",
       "      <td>4</td>\n",
       "      <td>25</td>\n",
       "      <td>93.704912</td>\n",
       "    </tr>\n",
       "    <tr>\n",
       "      <th>4</th>\n",
       "      <td>Almond Delight</td>\n",
       "      <td>110</td>\n",
       "      <td>2</td>\n",
       "      <td>25</td>\n",
       "      <td>34.384843</td>\n",
       "    </tr>\n",
       "    <tr>\n",
       "      <th>5</th>\n",
       "      <td>Apple Cinnamon Cheerios</td>\n",
       "      <td>110</td>\n",
       "      <td>2</td>\n",
       "      <td>25</td>\n",
       "      <td>29.509541</td>\n",
       "    </tr>\n",
       "    <tr>\n",
       "      <th>6</th>\n",
       "      <td>Apple Jacks</td>\n",
       "      <td>110</td>\n",
       "      <td>2</td>\n",
       "      <td>25</td>\n",
       "      <td>33.174094</td>\n",
       "    </tr>\n",
       "    <tr>\n",
       "      <th>7</th>\n",
       "      <td>Basic 4</td>\n",
       "      <td>130</td>\n",
       "      <td>3</td>\n",
       "      <td>25</td>\n",
       "      <td>37.038562</td>\n",
       "    </tr>\n",
       "    <tr>\n",
       "      <th>8</th>\n",
       "      <td>Bran Chex</td>\n",
       "      <td>90</td>\n",
       "      <td>2</td>\n",
       "      <td>25</td>\n",
       "      <td>49.120253</td>\n",
       "    </tr>\n",
       "    <tr>\n",
       "      <th>9</th>\n",
       "      <td>Bran Flakes</td>\n",
       "      <td>90</td>\n",
       "      <td>3</td>\n",
       "      <td>25</td>\n",
       "      <td>53.313813</td>\n",
       "    </tr>\n",
       "  </tbody>\n",
       "</table>\n",
       "</div>"
      ],
      "text/plain": [
       "                        name  calories  protein  vitamins     rating\n",
       "0                  100% Bran        70        4        25  68.402973\n",
       "1          100% Natural Bran       120        3         0  33.983679\n",
       "2                   All-Bran        70        4        25  59.425505\n",
       "3  All-Bran with Extra Fiber        50        4        25  93.704912\n",
       "4             Almond Delight       110        2        25  34.384843\n",
       "5    Apple Cinnamon Cheerios       110        2        25  29.509541\n",
       "6                Apple Jacks       110        2        25  33.174094\n",
       "7                    Basic 4       130        3        25  37.038562\n",
       "8                  Bran Chex        90        2        25  49.120253\n",
       "9                Bran Flakes        90        3        25  53.313813"
      ]
     },
     "execution_count": 17,
     "metadata": {},
     "output_type": "execute_result"
    }
   ],
   "source": [
    "df = pd.read_csv(f'Data\\cereals.csv')\n",
    "df"
   ]
  },
  {
   "cell_type": "markdown",
   "metadata": {},
   "source": [
    "We can define one of the existing columns as the DataFrame's new index column using the .set_index() function."
   ]
  },
  {
   "cell_type": "code",
   "execution_count": 19,
   "metadata": {},
   "outputs": [
    {
     "data": {
      "text/html": [
       "<div>\n",
       "<style scoped>\n",
       "    .dataframe tbody tr th:only-of-type {\n",
       "        vertical-align: middle;\n",
       "    }\n",
       "\n",
       "    .dataframe tbody tr th {\n",
       "        vertical-align: top;\n",
       "    }\n",
       "\n",
       "    .dataframe thead th {\n",
       "        text-align: right;\n",
       "    }\n",
       "</style>\n",
       "<table border=\"1\" class=\"dataframe\">\n",
       "  <thead>\n",
       "    <tr style=\"text-align: right;\">\n",
       "      <th></th>\n",
       "      <th>calories</th>\n",
       "      <th>protein</th>\n",
       "      <th>vitamins</th>\n",
       "      <th>rating</th>\n",
       "    </tr>\n",
       "    <tr>\n",
       "      <th>name</th>\n",
       "      <th></th>\n",
       "      <th></th>\n",
       "      <th></th>\n",
       "      <th></th>\n",
       "    </tr>\n",
       "  </thead>\n",
       "  <tbody>\n",
       "    <tr>\n",
       "      <th>100% Bran</th>\n",
       "      <td>70</td>\n",
       "      <td>4</td>\n",
       "      <td>25</td>\n",
       "      <td>68.402973</td>\n",
       "    </tr>\n",
       "    <tr>\n",
       "      <th>100% Natural Bran</th>\n",
       "      <td>120</td>\n",
       "      <td>3</td>\n",
       "      <td>0</td>\n",
       "      <td>33.983679</td>\n",
       "    </tr>\n",
       "    <tr>\n",
       "      <th>All-Bran</th>\n",
       "      <td>70</td>\n",
       "      <td>4</td>\n",
       "      <td>25</td>\n",
       "      <td>59.425505</td>\n",
       "    </tr>\n",
       "    <tr>\n",
       "      <th>All-Bran with Extra Fiber</th>\n",
       "      <td>50</td>\n",
       "      <td>4</td>\n",
       "      <td>25</td>\n",
       "      <td>93.704912</td>\n",
       "    </tr>\n",
       "    <tr>\n",
       "      <th>Almond Delight</th>\n",
       "      <td>110</td>\n",
       "      <td>2</td>\n",
       "      <td>25</td>\n",
       "      <td>34.384843</td>\n",
       "    </tr>\n",
       "    <tr>\n",
       "      <th>Apple Cinnamon Cheerios</th>\n",
       "      <td>110</td>\n",
       "      <td>2</td>\n",
       "      <td>25</td>\n",
       "      <td>29.509541</td>\n",
       "    </tr>\n",
       "    <tr>\n",
       "      <th>Apple Jacks</th>\n",
       "      <td>110</td>\n",
       "      <td>2</td>\n",
       "      <td>25</td>\n",
       "      <td>33.174094</td>\n",
       "    </tr>\n",
       "    <tr>\n",
       "      <th>Basic 4</th>\n",
       "      <td>130</td>\n",
       "      <td>3</td>\n",
       "      <td>25</td>\n",
       "      <td>37.038562</td>\n",
       "    </tr>\n",
       "    <tr>\n",
       "      <th>Bran Chex</th>\n",
       "      <td>90</td>\n",
       "      <td>2</td>\n",
       "      <td>25</td>\n",
       "      <td>49.120253</td>\n",
       "    </tr>\n",
       "    <tr>\n",
       "      <th>Bran Flakes</th>\n",
       "      <td>90</td>\n",
       "      <td>3</td>\n",
       "      <td>25</td>\n",
       "      <td>53.313813</td>\n",
       "    </tr>\n",
       "  </tbody>\n",
       "</table>\n",
       "</div>"
      ],
      "text/plain": [
       "                           calories  protein  vitamins     rating\n",
       "name                                                             \n",
       "100% Bran                        70        4        25  68.402973\n",
       "100% Natural Bran               120        3         0  33.983679\n",
       "All-Bran                         70        4        25  59.425505\n",
       "All-Bran with Extra Fiber        50        4        25  93.704912\n",
       "Almond Delight                  110        2        25  34.384843\n",
       "Apple Cinnamon Cheerios         110        2        25  29.509541\n",
       "Apple Jacks                     110        2        25  33.174094\n",
       "Basic 4                         130        3        25  37.038562\n",
       "Bran Chex                        90        2        25  49.120253\n",
       "Bran Flakes                      90        3        25  53.313813"
      ]
     },
     "execution_count": 19,
     "metadata": {},
     "output_type": "execute_result"
    }
   ],
   "source": [
    "df.set_index('name',inplace=True)\n",
    "df"
   ]
  },
  {
   "cell_type": "markdown",
   "metadata": {},
   "source": [
    "head()"
   ]
  },
  {
   "cell_type": "code",
   "execution_count": 20,
   "metadata": {},
   "outputs": [
    {
     "data": {
      "text/html": [
       "<div>\n",
       "<style scoped>\n",
       "    .dataframe tbody tr th:only-of-type {\n",
       "        vertical-align: middle;\n",
       "    }\n",
       "\n",
       "    .dataframe tbody tr th {\n",
       "        vertical-align: top;\n",
       "    }\n",
       "\n",
       "    .dataframe thead th {\n",
       "        text-align: right;\n",
       "    }\n",
       "</style>\n",
       "<table border=\"1\" class=\"dataframe\">\n",
       "  <thead>\n",
       "    <tr style=\"text-align: right;\">\n",
       "      <th></th>\n",
       "      <th>calories</th>\n",
       "      <th>protein</th>\n",
       "      <th>vitamins</th>\n",
       "      <th>rating</th>\n",
       "    </tr>\n",
       "    <tr>\n",
       "      <th>name</th>\n",
       "      <th></th>\n",
       "      <th></th>\n",
       "      <th></th>\n",
       "      <th></th>\n",
       "    </tr>\n",
       "  </thead>\n",
       "  <tbody>\n",
       "    <tr>\n",
       "      <th>100% Bran</th>\n",
       "      <td>70</td>\n",
       "      <td>4</td>\n",
       "      <td>25</td>\n",
       "      <td>68.402973</td>\n",
       "    </tr>\n",
       "    <tr>\n",
       "      <th>100% Natural Bran</th>\n",
       "      <td>120</td>\n",
       "      <td>3</td>\n",
       "      <td>0</td>\n",
       "      <td>33.983679</td>\n",
       "    </tr>\n",
       "    <tr>\n",
       "      <th>All-Bran</th>\n",
       "      <td>70</td>\n",
       "      <td>4</td>\n",
       "      <td>25</td>\n",
       "      <td>59.425505</td>\n",
       "    </tr>\n",
       "    <tr>\n",
       "      <th>All-Bran with Extra Fiber</th>\n",
       "      <td>50</td>\n",
       "      <td>4</td>\n",
       "      <td>25</td>\n",
       "      <td>93.704912</td>\n",
       "    </tr>\n",
       "    <tr>\n",
       "      <th>Almond Delight</th>\n",
       "      <td>110</td>\n",
       "      <td>2</td>\n",
       "      <td>25</td>\n",
       "      <td>34.384843</td>\n",
       "    </tr>\n",
       "  </tbody>\n",
       "</table>\n",
       "</div>"
      ],
      "text/plain": [
       "                           calories  protein  vitamins     rating\n",
       "name                                                             \n",
       "100% Bran                        70        4        25  68.402973\n",
       "100% Natural Bran               120        3         0  33.983679\n",
       "All-Bran                         70        4        25  59.425505\n",
       "All-Bran with Extra Fiber        50        4        25  93.704912\n",
       "Almond Delight                  110        2        25  34.384843"
      ]
     },
     "execution_count": 20,
     "metadata": {},
     "output_type": "execute_result"
    }
   ],
   "source": [
    "# The first five elements \n",
    "df.head()"
   ]
  },
  {
   "cell_type": "markdown",
   "metadata": {},
   "source": [
    "tail()"
   ]
  },
  {
   "cell_type": "code",
   "execution_count": 21,
   "metadata": {},
   "outputs": [
    {
     "data": {
      "text/html": [
       "<div>\n",
       "<style scoped>\n",
       "    .dataframe tbody tr th:only-of-type {\n",
       "        vertical-align: middle;\n",
       "    }\n",
       "\n",
       "    .dataframe tbody tr th {\n",
       "        vertical-align: top;\n",
       "    }\n",
       "\n",
       "    .dataframe thead th {\n",
       "        text-align: right;\n",
       "    }\n",
       "</style>\n",
       "<table border=\"1\" class=\"dataframe\">\n",
       "  <thead>\n",
       "    <tr style=\"text-align: right;\">\n",
       "      <th></th>\n",
       "      <th>calories</th>\n",
       "      <th>protein</th>\n",
       "      <th>vitamins</th>\n",
       "      <th>rating</th>\n",
       "    </tr>\n",
       "    <tr>\n",
       "      <th>name</th>\n",
       "      <th></th>\n",
       "      <th></th>\n",
       "      <th></th>\n",
       "      <th></th>\n",
       "    </tr>\n",
       "  </thead>\n",
       "  <tbody>\n",
       "    <tr>\n",
       "      <th>Apple Cinnamon Cheerios</th>\n",
       "      <td>110</td>\n",
       "      <td>2</td>\n",
       "      <td>25</td>\n",
       "      <td>29.509541</td>\n",
       "    </tr>\n",
       "    <tr>\n",
       "      <th>Apple Jacks</th>\n",
       "      <td>110</td>\n",
       "      <td>2</td>\n",
       "      <td>25</td>\n",
       "      <td>33.174094</td>\n",
       "    </tr>\n",
       "    <tr>\n",
       "      <th>Basic 4</th>\n",
       "      <td>130</td>\n",
       "      <td>3</td>\n",
       "      <td>25</td>\n",
       "      <td>37.038562</td>\n",
       "    </tr>\n",
       "    <tr>\n",
       "      <th>Bran Chex</th>\n",
       "      <td>90</td>\n",
       "      <td>2</td>\n",
       "      <td>25</td>\n",
       "      <td>49.120253</td>\n",
       "    </tr>\n",
       "    <tr>\n",
       "      <th>Bran Flakes</th>\n",
       "      <td>90</td>\n",
       "      <td>3</td>\n",
       "      <td>25</td>\n",
       "      <td>53.313813</td>\n",
       "    </tr>\n",
       "  </tbody>\n",
       "</table>\n",
       "</div>"
      ],
      "text/plain": [
       "                         calories  protein  vitamins     rating\n",
       "name                                                           \n",
       "Apple Cinnamon Cheerios       110        2        25  29.509541\n",
       "Apple Jacks                   110        2        25  33.174094\n",
       "Basic 4                       130        3        25  37.038562\n",
       "Bran Chex                      90        2        25  49.120253\n",
       "Bran Flakes                    90        3        25  53.313813"
      ]
     },
     "execution_count": 21,
     "metadata": {},
     "output_type": "execute_result"
    }
   ],
   "source": [
    "# The last five elements \n",
    "df.tail()"
   ]
  },
  {
   "cell_type": "markdown",
   "metadata": {},
   "source": [
    "### Statistical summary"
   ]
  },
  {
   "cell_type": "markdown",
   "metadata": {},
   "source": [
    "\n",
    "- We can use the describe() function to obtain a quick statistical summary of each column in the DataFrame."
   ]
  },
  {
   "cell_type": "code",
   "execution_count": 22,
   "metadata": {},
   "outputs": [
    {
     "data": {
      "text/html": [
       "<div>\n",
       "<style scoped>\n",
       "    .dataframe tbody tr th:only-of-type {\n",
       "        vertical-align: middle;\n",
       "    }\n",
       "\n",
       "    .dataframe tbody tr th {\n",
       "        vertical-align: top;\n",
       "    }\n",
       "\n",
       "    .dataframe thead th {\n",
       "        text-align: right;\n",
       "    }\n",
       "</style>\n",
       "<table border=\"1\" class=\"dataframe\">\n",
       "  <thead>\n",
       "    <tr style=\"text-align: right;\">\n",
       "      <th></th>\n",
       "      <th>calories</th>\n",
       "      <th>protein</th>\n",
       "      <th>vitamins</th>\n",
       "      <th>rating</th>\n",
       "    </tr>\n",
       "  </thead>\n",
       "  <tbody>\n",
       "    <tr>\n",
       "      <th>count</th>\n",
       "      <td>10.000000</td>\n",
       "      <td>10.000000</td>\n",
       "      <td>10.000000</td>\n",
       "      <td>10.000000</td>\n",
       "    </tr>\n",
       "    <tr>\n",
       "      <th>mean</th>\n",
       "      <td>95.000000</td>\n",
       "      <td>2.900000</td>\n",
       "      <td>22.500000</td>\n",
       "      <td>49.205817</td>\n",
       "    </tr>\n",
       "    <tr>\n",
       "      <th>std</th>\n",
       "      <td>25.495098</td>\n",
       "      <td>0.875595</td>\n",
       "      <td>7.905694</td>\n",
       "      <td>20.315297</td>\n",
       "    </tr>\n",
       "    <tr>\n",
       "      <th>min</th>\n",
       "      <td>50.000000</td>\n",
       "      <td>2.000000</td>\n",
       "      <td>0.000000</td>\n",
       "      <td>29.509541</td>\n",
       "    </tr>\n",
       "    <tr>\n",
       "      <th>25%</th>\n",
       "      <td>75.000000</td>\n",
       "      <td>2.000000</td>\n",
       "      <td>25.000000</td>\n",
       "      <td>34.083970</td>\n",
       "    </tr>\n",
       "    <tr>\n",
       "      <th>50%</th>\n",
       "      <td>100.000000</td>\n",
       "      <td>3.000000</td>\n",
       "      <td>25.000000</td>\n",
       "      <td>43.079408</td>\n",
       "    </tr>\n",
       "    <tr>\n",
       "      <th>75%</th>\n",
       "      <td>110.000000</td>\n",
       "      <td>3.750000</td>\n",
       "      <td>25.000000</td>\n",
       "      <td>57.897582</td>\n",
       "    </tr>\n",
       "    <tr>\n",
       "      <th>max</th>\n",
       "      <td>130.000000</td>\n",
       "      <td>4.000000</td>\n",
       "      <td>25.000000</td>\n",
       "      <td>93.704912</td>\n",
       "    </tr>\n",
       "  </tbody>\n",
       "</table>\n",
       "</div>"
      ],
      "text/plain": [
       "         calories    protein   vitamins     rating\n",
       "count   10.000000  10.000000  10.000000  10.000000\n",
       "mean    95.000000   2.900000  22.500000  49.205817\n",
       "std     25.495098   0.875595   7.905694  20.315297\n",
       "min     50.000000   2.000000   0.000000  29.509541\n",
       "25%     75.000000   2.000000  25.000000  34.083970\n",
       "50%    100.000000   3.000000  25.000000  43.079408\n",
       "75%    110.000000   3.750000  25.000000  57.897582\n",
       "max    130.000000   4.000000  25.000000  93.704912"
      ]
     },
     "execution_count": 22,
     "metadata": {},
     "output_type": "execute_result"
    }
   ],
   "source": [
    "df.describe()"
   ]
  }
 ],
 "metadata": {
  "kernelspec": {
   "display_name": "base",
   "language": "python",
   "name": "python3"
  },
  "language_info": {
   "codemirror_mode": {
    "name": "ipython",
    "version": 3
   },
   "file_extension": ".py",
   "mimetype": "text/x-python",
   "name": "python",
   "nbconvert_exporter": "python",
   "pygments_lexer": "ipython3",
   "version": "3.11.7"
  }
 },
 "nbformat": 4,
 "nbformat_minor": 2
}
