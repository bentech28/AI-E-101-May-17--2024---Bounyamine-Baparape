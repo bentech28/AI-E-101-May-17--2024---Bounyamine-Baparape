{
 "cells": [
  {
   "cell_type": "markdown",
   "metadata": {},
   "source": [
    "# # Numbers"
   ]
  },
  {
   "cell_type": "markdown",
   "metadata": {},
   "source": [
    "### Number Can be integers, decimals (fixed precision), floating points (variable precision), complex numbers "
   ]
  },
  {
   "cell_type": "code",
   "execution_count": 4,
   "metadata": {},
   "outputs": [],
   "source": [
    "# Importing the Decimal class from the decimal module for fixed precision decimals\n",
    "from decimal import Decimal"
   ]
  },
  {
   "cell_type": "code",
   "execution_count": 1,
   "metadata": {},
   "outputs": [
    {
     "name": "stdout",
     "output_type": "stream",
     "text": [
      "Integer: 42\n"
     ]
    }
   ],
   "source": [
    "# Integer\n",
    "integer_example = 42\n",
    "print(f\"Integer: {integer_example}\")"
   ]
  },
  {
   "cell_type": "code",
   "execution_count": 2,
   "metadata": {},
   "outputs": [
    {
     "name": "stdout",
     "output_type": "stream",
     "text": [
      "Float: 3.14159\n"
     ]
    }
   ],
   "source": [
    "# Floating point (variable precision)\n",
    "float_example = 3.14159\n",
    "print(f\"Float: {float_example}\")"
   ]
  },
  {
   "cell_type": "code",
   "execution_count": 5,
   "metadata": {},
   "outputs": [
    {
     "name": "stdout",
     "output_type": "stream",
     "text": [
      "Decimal: 3.14159\n"
     ]
    }
   ],
   "source": [
    "# Fixed precision decimal\n",
    "decimal_example = Decimal('3.14159')\n",
    "print(f\"Decimal: {decimal_example}\")"
   ]
  },
  {
   "cell_type": "code",
   "execution_count": 6,
   "metadata": {},
   "outputs": [
    {
     "name": "stdout",
     "output_type": "stream",
     "text": [
      "Complex: (2+3j)\n"
     ]
    }
   ],
   "source": [
    "# Complex number\n",
    "complex_example = 2 + 3j\n",
    "print(f\"Complex: {complex_example}\")"
   ]
  },
  {
   "cell_type": "markdown",
   "metadata": {},
   "source": [
    "# arithmetic operations"
   ]
  },
  {
   "cell_type": "code",
   "execution_count": 7,
   "metadata": {},
   "outputs": [
    {
     "name": "stdout",
     "output_type": "stream",
     "text": [
      "Integer Sum: 52\n"
     ]
    }
   ],
   "source": [
    "# Performing arithmetic operations\n",
    "# Integer arithmetic\n",
    "integer_sum = integer_example + 10\n",
    "print(f\"Integer Sum: {integer_sum}\")"
   ]
  },
  {
   "cell_type": "code",
   "execution_count": 8,
   "metadata": {},
   "outputs": [
    {
     "name": "stdout",
     "output_type": "stream",
     "text": [
      "Float Sum: 5.85959\n"
     ]
    }
   ],
   "source": [
    "# Floating point arithmetic\n",
    "float_sum = float_example + 2.718\n",
    "print(f\"Float Sum: {float_sum}\")\n"
   ]
  },
  {
   "cell_type": "code",
   "execution_count": 9,
   "metadata": {},
   "outputs": [
    {
     "name": "stdout",
     "output_type": "stream",
     "text": [
      "Decimal Sum: 5.85959\n"
     ]
    }
   ],
   "source": [
    "# Decimal arithmetic\n",
    "decimal_sum = decimal_example + Decimal('2.718')\n",
    "print(f\"Decimal Sum: {decimal_sum}\")"
   ]
  },
  {
   "cell_type": "code",
   "execution_count": 10,
   "metadata": {},
   "outputs": [
    {
     "name": "stdout",
     "output_type": "stream",
     "text": [
      "Complex Sum: (3+5j)\n"
     ]
    }
   ],
   "source": [
    "# Complex arithmetic\n",
    "complex_sum = complex_example + (1 + 2j)\n",
    "print(f\"Complex Sum: {complex_sum}\")"
   ]
  },
  {
   "cell_type": "code",
   "execution_count": null,
   "metadata": {},
   "outputs": [],
   "source": [
    "\n",
    "\n"
   ]
  },
  {
   "cell_type": "markdown",
   "metadata": {},
   "source": []
  }
 ],
 "metadata": {
  "kernelspec": {
   "display_name": "base",
   "language": "python",
   "name": "python3"
  },
  "language_info": {
   "codemirror_mode": {
    "name": "ipython",
    "version": 3
   },
   "file_extension": ".py",
   "mimetype": "text/x-python",
   "name": "python",
   "nbconvert_exporter": "python",
   "pygments_lexer": "ipython3",
   "version": "3.11.7"
  }
 },
 "nbformat": 4,
 "nbformat_minor": 2
}
