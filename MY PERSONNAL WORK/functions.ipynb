{
 "cells": [
  {
   "cell_type": "markdown",
   "metadata": {},
   "source": [
    "# FUNCTIONS PYTHON"
   ]
  },
  {
   "cell_type": "markdown",
   "metadata": {},
   "source": [
    "### *args, **kwargs"
   ]
  },
  {
   "cell_type": "markdown",
   "metadata": {},
   "source": [
    "*args allows a function to accept any number of positional arguments i.e. arguments that are non-keyword arguments, variable-length argument list."
   ]
  },
  {
   "cell_type": "code",
   "execution_count": 2,
   "metadata": {},
   "outputs": [
    {
     "name": "stdout",
     "output_type": "stream",
     "text": [
      "Sum: 8\n",
      "Sum: 25\n",
      "Sum: 32\n"
     ]
    }
   ],
   "source": [
    "# Program to add and display the sum of n number of integer\n",
    "def add(*num):\n",
    "    sum = 0;\n",
    "    for n in num:\n",
    "        sum = sum + n;\n",
    "    print(\"Sum:\", sum)\n",
    "\n",
    "add(2,6)\n",
    "add(3,4,5,6,7)\n",
    "add(1,2,3,5,6,7,8)"
   ]
  },
  {
   "cell_type": "code",
   "execution_count": 3,
   "metadata": {},
   "outputs": [
    {
     "name": "stdout",
     "output_type": "stream",
     "text": [
      "Value of a is: Hey\n",
      " args are -> How \n",
      " args are -> are \n",
      " args are -> you? \n"
     ]
    }
   ],
   "source": [
    "\n",
    "# Program for printing all the strings passed to the function\n",
    "def func(a,*args):\n",
    "    print(\"Value of a is:\", a)\n",
    "    for i in args:\n",
    "        print(f' args are -> {i} ')\n",
    "\n",
    "func('Hey', 'How', 'are', 'you?')"
   ]
  },
  {
   "cell_type": "markdown",
   "metadata": {},
   "source": [
    "Note – Python *args can also print data of various types which is passed into the function. For example, Information related to a person such as Name, Sex, Age, City, Mobile number, etc."
   ]
  },
  {
   "cell_type": "code",
   "execution_count": 4,
   "metadata": {},
   "outputs": [
    {
     "name": "stdout",
     "output_type": "stream",
     "text": [
      "('Sean', 'Male', 38, 'London', 9375821987)\n"
     ]
    }
   ],
   "source": [
    "def Person(*args):\n",
    "    print(args)\n",
    "\n",
    "Person('Sean', 'Male', 38, 'London', 9375821987)"
   ]
  },
  {
   "cell_type": "markdown",
   "metadata": {},
   "source": [
    "**kwargs (Keyword Arguments) –\n",
    "**kwargs is a special syntax that allows us to pass a variable length of keyword arguments to the function."
   ]
  },
  {
   "cell_type": "markdown",
   "metadata": {},
   "source": [
    "**kwargs allows us to pass a variable number of keyworded arguments to the function. Python *kwargs allows only Keyword Arguments.\n",
    "\n",
    "We use a double-asterisk (**) before the parameter name in the function argument.\n",
    "Just like args, kwargs is just another idiom, we can use any other name but we need to use the (**) symbol before it.\n",
    "Keyword arguments are like a dictionary, which maps the value to its associated key."
   ]
  },
  {
   "cell_type": "code",
   "execution_count": 5,
   "metadata": {},
   "outputs": [
    {
     "name": "stdout",
     "output_type": "stream",
     "text": [
      "Name -> Sean\n",
      "Sex -> Male\n",
      "Age -> 38\n",
      "City -> London\n",
      "Mobile -> 9375821987\n"
     ]
    }
   ],
   "source": [
    "# Print values of function Person along with its associated keywords\n",
    "def Person(**kwargs):\n",
    "    for key, value in kwargs.items():\n",
    "        print(\"{} -> {}\".format(key, value))    # OR print(f'{key} -> {value}')\n",
    "\n",
    "Person(Name = 'Sean', Sex = 'Male', Age = 38, City = 'London', Mobile = 9375821987)"
   ]
  },
  {
   "cell_type": "code",
   "execution_count": 6,
   "metadata": {},
   "outputs": [
    {
     "name": "stdout",
     "output_type": "stream",
     "text": [
      "1 3\n",
      "(10, 20)\n",
      "False\n",
      "{'Name': 'Tom', 'Salary': 60000}\n"
     ]
    }
   ],
   "source": [
    "def func(a, b, *args, option = False, **kwargs):\n",
    "    print(a, b)\n",
    "    print(args)\n",
    "    print(option)\n",
    "    print(kwargs)\n",
    "\n",
    "func(1, 3, 10, 20, Name = 'Tom', Salary = 60000)"
   ]
  },
  {
   "cell_type": "markdown",
   "metadata": {},
   "source": [
    "### What will be the output of the following code ?"
   ]
  },
  {
   "cell_type": "code",
   "execution_count": 7,
   "metadata": {},
   "outputs": [
    {
     "ename": "TypeError",
     "evalue": "Person() got an unexpected keyword argument 'name'",
     "output_type": "error",
     "traceback": [
      "\u001b[1;31m---------------------------------------------------------------------------\u001b[0m",
      "\u001b[1;31mTypeError\u001b[0m                                 Traceback (most recent call last)",
      "Cell \u001b[1;32mIn[7], line 5\u001b[0m\n\u001b[0;32m      2\u001b[0m      \u001b[38;5;28;01mfor\u001b[39;00m i \u001b[38;5;129;01min\u001b[39;00m args:\n\u001b[0;32m      3\u001b[0m          \u001b[38;5;28mprint\u001b[39m(i)\n\u001b[1;32m----> 5\u001b[0m Person(name\u001b[38;5;241m=\u001b[39m\u001b[38;5;124m\"\u001b[39m\u001b[38;5;124mRachel\u001b[39m\u001b[38;5;124m\"\u001b[39m, age\u001b[38;5;241m=\u001b[39m\u001b[38;5;124m\"\u001b[39m\u001b[38;5;124m27\u001b[39m\u001b[38;5;124m\"\u001b[39m)\n",
      "\u001b[1;31mTypeError\u001b[0m: Person() got an unexpected keyword argument 'name'"
     ]
    }
   ],
   "source": [
    "def Person(*args):\n",
    "     for i in args:\n",
    "         print(i)\n",
    "\n",
    "Person(name=\"Rachel\", age=\"27\")"
   ]
  },
  {
   "cell_type": "markdown",
   "metadata": {},
   "source": [
    "### Argument Order "
   ]
  },
  {
   "cell_type": "markdown",
   "metadata": {},
   "source": [
    "An important detail to be aware of is that by default any argument used to call a function in Python can be used as both a positional and a keyword argument—just not at the same time. A function call may contain a mixture of positional and keyword arguments, and—unless otherwise specified—an argument can reference the parameters in the function definition positionally, or by name (keyword)."
   ]
  },
  {
   "cell_type": "markdown",
   "metadata": {},
   "source": [
    "#### Positional Arguments"
   ]
  },
  {
   "cell_type": "code",
   "execution_count": 8,
   "metadata": {},
   "outputs": [],
   "source": [
    "def foo(a, b, c):\n",
    "    print(a, b, c)\n",
    "foo(1, 2, 3)"
   ]
  },
  {
   "cell_type": "markdown",
   "metadata": {},
   "source": [
    "In the above function definition we have three parameters a, b, and c.\n",
    "\n",
    "When we invoke the function with the arguments 1, 2, and 3, the function will map these values in the exact order given to the parameters in the function definition. With no keyword reference given they become positional arguments."
   ]
  },
  {
   "cell_type": "markdown",
   "metadata": {},
   "source": [
    "#### Keyword Arguments"
   ]
  },
  {
   "cell_type": "code",
   "execution_count": 9,
   "metadata": {},
   "outputs": [
    {
     "name": "stdout",
     "output_type": "stream",
     "text": [
      "1 2 3\n",
      "1 2 3\n"
     ]
    }
   ],
   "source": [
    "def foo(a, b, c):\n",
    "    print(a, b, c)\n",
    "foo(1, 2, 3)\n",
    "foo(c=3, b=2, a=1)"
   ]
  },
  {
   "cell_type": "markdown",
   "metadata": {},
   "source": [
    "As you can see, foo(1, 2, 3) and foo(c=3, b=2, a=1) are identical. Referencing a function parameter by its name means that we are using a keyword argument. The order in which keyword arguments are given does not matter."
   ]
  },
  {
   "cell_type": "markdown",
   "metadata": {},
   "source": [
    "#### Mixing Positional and Keyword Arguments"
   ]
  },
  {
   "cell_type": "markdown",
   "metadata": {},
   "source": [
    "So what happens if we want to mix the positional argument mapping with keyword arguments?\n",
    "\n",
    "Python prioritises the mapping of positional arguments to their parameter names before the mapping of keywords.\n",
    "\n"
   ]
  },
  {
   "cell_type": "code",
   "execution_count": 10,
   "metadata": {},
   "outputs": [
    {
     "name": "stdout",
     "output_type": "stream",
     "text": [
      "1 2 3\n"
     ]
    }
   ],
   "source": [
    "def foo(a, b, c):\n",
    "    print(a, b, c)\n",
    "    \n",
    "foo(1, c=3, b=2)"
   ]
  },
  {
   "cell_type": "markdown",
   "metadata": {},
   "source": [
    "Passing a keyword argument using the name of a parameter that has already been given will not wor"
   ]
  },
  {
   "cell_type": "code",
   "execution_count": 12,
   "metadata": {},
   "outputs": [
    {
     "ename": "TypeError",
     "evalue": "foo() got multiple values for argument 'a'",
     "output_type": "error",
     "traceback": [
      "\u001b[1;31m---------------------------------------------------------------------------\u001b[0m",
      "\u001b[1;31mTypeError\u001b[0m                                 Traceback (most recent call last)",
      "Cell \u001b[1;32mIn[12], line 1\u001b[0m\n\u001b[1;32m----> 1\u001b[0m foo(\u001b[38;5;241m1\u001b[39m, \u001b[38;5;241m2\u001b[39m, a\u001b[38;5;241m=\u001b[39m\u001b[38;5;241m3\u001b[39m)\n\u001b[0;32m      2\u001b[0m foo(\u001b[38;5;241m1\u001b[39m, \u001b[38;5;241m2\u001b[39m, a\u001b[38;5;241m=\u001b[39m\u001b[38;5;241m3\u001b[39m)\n",
      "\u001b[1;31mTypeError\u001b[0m: foo() got multiple values for argument 'a'"
     ]
    }
   ],
   "source": [
    "foo(1, 2, a=3)\n"
   ]
  },
  {
   "cell_type": "code",
   "execution_count": 13,
   "metadata": {},
   "outputs": [
    {
     "ename": "TypeError",
     "evalue": "foo() got multiple values for argument 'a'",
     "output_type": "error",
     "traceback": [
      "\u001b[1;31m---------------------------------------------------------------------------\u001b[0m",
      "\u001b[1;31mTypeError\u001b[0m                                 Traceback (most recent call last)",
      "Cell \u001b[1;32mIn[13], line 1\u001b[0m\n\u001b[1;32m----> 1\u001b[0m foo(\u001b[38;5;241m1\u001b[39m, \u001b[38;5;241m2\u001b[39m, a\u001b[38;5;241m=\u001b[39m\u001b[38;5;241m3\u001b[39m)\n",
      "\u001b[1;31mTypeError\u001b[0m: foo() got multiple values for argument 'a'"
     ]
    }
   ],
   "source": [
    "foo(1, 2, a=3)"
   ]
  },
  {
   "cell_type": "markdown",
   "metadata": {},
   "source": [
    "Attempting to pass positional arguments after a keyword argument will also not work:"
   ]
  },
  {
   "cell_type": "code",
   "execution_count": 11,
   "metadata": {},
   "outputs": [
    {
     "ename": "SyntaxError",
     "evalue": "positional argument follows keyword argument (4248687407.py, line 1)",
     "output_type": "error",
     "traceback": [
      "\u001b[1;36m  Cell \u001b[1;32mIn[11], line 1\u001b[1;36m\u001b[0m\n\u001b[1;33m    foo(a=1, 2, 3)\u001b[0m\n\u001b[1;37m                 ^\u001b[0m\n\u001b[1;31mSyntaxError\u001b[0m\u001b[1;31m:\u001b[0m positional argument follows keyword argument\n"
     ]
    }
   ],
   "source": [
    "foo(a=1, 2, 3)"
   ]
  },
  {
   "cell_type": "markdown",
   "metadata": {},
   "source": [
    "### Default Parameter Values"
   ]
  },
  {
   "cell_type": "markdown",
   "metadata": {},
   "source": [
    "Although the syntax is similar, these are not to be confused with keyword arguments.\n",
    "Default parameter values appear within the function definition and allow us to conveniently set a default value. This means that if any argument is omitted, its default value will be used as the argument."
   ]
  },
  {
   "cell_type": "code",
   "execution_count": null,
   "metadata": {},
   "outputs": [],
   "source": [
    "def foo(a=0, b=0, c=0):\n",
    "    print(a, b, c)"
   ]
  },
  {
   "cell_type": "code",
   "execution_count": null,
   "metadata": {},
   "outputs": [],
   "source": [
    "foo()"
   ]
  },
  {
   "cell_type": "code",
   "execution_count": null,
   "metadata": {},
   "outputs": [],
   "source": [
    "foo(1, 2, 3)"
   ]
  },
  {
   "cell_type": "code",
   "execution_count": null,
   "metadata": {},
   "outputs": [],
   "source": [
    "foo(c=3, b=2)"
   ]
  },
  {
   "cell_type": "code",
   "execution_count": null,
   "metadata": {},
   "outputs": [],
   "source": [
    "foo(1, c=3)"
   ]
  },
  {
   "cell_type": "markdown",
   "metadata": {},
   "source": [
    "Using default parameter values does not change how a function can be invoked with arguments:"
   ]
  },
  {
   "cell_type": "code",
   "execution_count": null,
   "metadata": {},
   "outputs": [],
   "source": [
    "foo(1, 2, a=3)"
   ]
  },
  {
   "cell_type": "code",
   "execution_count": 2,
   "metadata": {},
   "outputs": [
    {
     "ename": "SyntaxError",
     "evalue": "keyword argument repeated: b (3721288942.py, line 1)",
     "output_type": "error",
     "traceback": [
      "\u001b[1;36m  Cell \u001b[1;32mIn[2], line 1\u001b[1;36m\u001b[0m\n\u001b[1;33m    foo(1, b=2, b=3)\u001b[0m\n\u001b[1;37m                ^\u001b[0m\n\u001b[1;31mSyntaxError\u001b[0m\u001b[1;31m:\u001b[0m keyword argument repeated: b\n"
     ]
    }
   ],
   "source": [
    "foo(1, b=2, b=3)"
   ]
  },
  {
   "cell_type": "code",
   "execution_count": 1,
   "metadata": {},
   "outputs": [
    {
     "ename": "SyntaxError",
     "evalue": "positional argument follows keyword argument (4248687407.py, line 1)",
     "output_type": "error",
     "traceback": [
      "\u001b[1;36m  Cell \u001b[1;32mIn[1], line 1\u001b[1;36m\u001b[0m\n\u001b[1;33m    foo(a=1, 2, 3)\u001b[0m\n\u001b[1;37m                 ^\u001b[0m\n\u001b[1;31mSyntaxError\u001b[0m\u001b[1;31m:\u001b[0m positional argument follows keyword argument\n"
     ]
    }
   ],
   "source": [
    "foo(a=1, 2, 3)"
   ]
  },
  {
   "cell_type": "markdown",
   "metadata": {},
   "source": [
    "You must specify any parameters without a default value before those with default values:"
   ]
  },
  {
   "cell_type": "code",
   "execution_count": null,
   "metadata": {},
   "outputs": [],
   "source": [
    "def foo(a=0, b):"
   ]
  },
  {
   "cell_type": "markdown",
   "metadata": {},
   "source": [
    "### Docstring "
   ]
  },
  {
   "cell_type": "code",
   "execution_count": 12,
   "metadata": {},
   "outputs": [
    {
     "name": "stdout",
     "output_type": "stream",
     "text": [
      "Multiplication Table 7\n",
      "7 *  1  =  7\n",
      "7 *  2  =  14\n",
      "7 *  3  =  21\n",
      "7 *  4  =  28\n",
      "7 *  5  =  35\n",
      "7 *  6  =  42\n",
      "7 *  7  =  49\n",
      "7 *  8  =  56\n",
      "7 *  9  =  63\n",
      "7 *  10  =  70\n",
      "None\n"
     ]
    }
   ],
   "source": [
    "def table7(): \n",
    "    \"\"\"Multiplication Table 7\"\"\"\n",
    "    for i in range(1,11):\n",
    "       print ('7 * ',i,' = ', 7*i)\n",
    "\n",
    "print(table7.__doc__)\n",
    "print(table7())   \n"
   ]
  }
 ],
 "metadata": {
  "kernelspec": {
   "display_name": "base",
   "language": "python",
   "name": "python3"
  },
  "language_info": {
   "codemirror_mode": {
    "name": "ipython",
    "version": 3
   },
   "file_extension": ".py",
   "mimetype": "text/x-python",
   "name": "python",
   "nbconvert_exporter": "python",
   "pygments_lexer": "ipython3",
   "version": "3.11.7"
  }
 },
 "nbformat": 4,
 "nbformat_minor": 2
}
