{
 "cells": [
  {
   "cell_type": "markdown",
   "id": "19a48697-b9a0-4077-a8cf-9075b8158e09",
   "metadata": {},
   "source": [
    "# Native types "
   ]
  },
  {
   "cell_type": "markdown",
   "id": "2ad15292",
   "metadata": {},
   "source": [
    "## String"
   ]
  },
  {
   "cell_type": "markdown",
   "id": "c562b677",
   "metadata": {},
   "source": [
    "Character strings are used to represent text. They are defined by single or double quotation marks."
   ]
  },
  {
   "cell_type": "code",
   "execution_count": 7,
   "id": "7ad4fde3",
   "metadata": {},
   "outputs": [
    {
     "name": "stdout",
     "output_type": "stream",
     "text": [
      "Ce'est une chaine de caractère\n"
     ]
    }
   ],
   "source": [
    "print(\"Ce'est une chaine de caractère\")"
   ]
  },
  {
   "cell_type": "markdown",
   "id": "bb0990f9",
   "metadata": {},
   "source": [
    "Be careful with quotation marks, as you may be in for some surprises if you use apostrophes in your text."
   ]
  },
  {
   "cell_type": "markdown",
   "id": "9bd7c75e-e388-4fa4-86c9-bc36b24477b1",
   "metadata": {},
   "source": [
    "##"
   ]
  },
  {
   "cell_type": "code",
   "execution_count": 8,
   "id": "d73452bd",
   "metadata": {},
   "outputs": [
    {
     "ename": "SyntaxError",
     "evalue": "unterminated string literal (detected at line 1) (4239727081.py, line 1)",
     "output_type": "error",
     "traceback": [
      "\u001b[1;36m  Cell \u001b[1;32mIn[8], line 1\u001b[1;36m\u001b[0m\n\u001b[1;33m    print('Ce'est une chaine de caractère')\u001b[0m\n\u001b[1;37m                                         ^\u001b[0m\n\u001b[1;31mSyntaxError\u001b[0m\u001b[1;31m:\u001b[0m unterminated string literal (detected at line 1)\n"
     ]
    }
   ],
   "source": [
    "print('Ce'est une chaine de caractère')"
   ]
  },
  {
   "cell_type": "markdown",
   "id": "39fa034d",
   "metadata": {},
   "source": [
    "To solve this problem, you can alternate between single and double quotation marks, or use a backslash to 'escape' the problematic quotation mark:"
   ]
  },
  {
   "cell_type": "code",
   "execution_count": 11,
   "id": "c8e01a19",
   "metadata": {},
   "outputs": [
    {
     "name": "stdout",
     "output_type": "stream",
     "text": [
      "C'est une chaine de caractère\n",
      "C'est une chaine de caractere également\n"
     ]
    }
   ],
   "source": [
    "print(\"C'est une chaine de caractère\")\n",
    "print('C\\'est une chaine de caractere également')"
   ]
  },
  {
   "cell_type": "markdown",
   "id": "194b3211",
   "metadata": {},
   "source": [
    "You can also put strings of characters on several lines. "
   ]
  },
  {
   "cell_type": "code",
   "execution_count": 12,
   "id": "8c23234a",
   "metadata": {},
   "outputs": [
    {
     "name": "stdout",
     "output_type": "stream",
     "text": [
      "C'est une \n",
      "      chaine \n",
      "      multilignes\n",
      "      \n"
     ]
    }
   ],
   "source": [
    "print(\"\"\"C'est une \n",
    "      chaine \n",
    "      multilignes\n",
    "      \"\"\")"
   ]
  },
  {
   "cell_type": "markdown",
   "id": "bbb39501",
   "metadata": {},
   "source": [
    "## STRING METHODS "
   ]
  },
  {
   "cell_type": "code",
   "execution_count": 13,
   "id": "527a91e9",
   "metadata": {},
   "outputs": [],
   "source": [
    "myString = \"C'est une chaine de caratère\""
   ]
  },
  {
   "cell_type": "markdown",
   "id": "5ff9129b",
   "metadata": {},
   "source": [
    "#### lower():  method is used to convert all the characters in a string to lowercase."
   ]
  },
  {
   "cell_type": "code",
   "execution_count": 14,
   "id": "187dd9a9",
   "metadata": {},
   "outputs": [
    {
     "data": {
      "text/plain": [
       "\"c'est une chaine de caratère\""
      ]
     },
     "execution_count": 14,
     "metadata": {},
     "output_type": "execute_result"
    }
   ],
   "source": [
    "myString.lower()"
   ]
  },
  {
   "cell_type": "markdown",
   "id": "35bc9457",
   "metadata": {},
   "source": [
    "#### Upper() : method is used to convert all the characters in a string to uppercase."
   ]
  },
  {
   "cell_type": "code",
   "execution_count": 15,
   "id": "d9d39aa8",
   "metadata": {},
   "outputs": [
    {
     "data": {
      "text/plain": [
       "\"C'EST UNE CHAINE DE CARATÈRE\""
      ]
     },
     "execution_count": 15,
     "metadata": {},
     "output_type": "execute_result"
    }
   ],
   "source": [
    "myString.upper()"
   ]
  },
  {
   "cell_type": "markdown",
   "id": "7c0e8955",
   "metadata": {},
   "source": [
    "#### split() method : is used to split a string into a list of substrings based on a specified delimiter"
   ]
  },
  {
   "cell_type": "code",
   "execution_count": 18,
   "id": "581e69ab",
   "metadata": {},
   "outputs": [
    {
     "name": "stdout",
     "output_type": "stream",
     "text": [
      "[\"C'est\", 'une', 'chaine', 'de', 'caratère']\n"
     ]
    }
   ],
   "source": [
    "myStringsplit = myString.split()\n",
    "print(myStringsplit)"
   ]
  },
  {
   "cell_type": "markdown",
   "id": "256a5842",
   "metadata": {},
   "source": [
    "####  join() method : is used to concatenate a list of strings into a single string, with a specified separator between each element. "
   ]
  },
  {
   "cell_type": "code",
   "execution_count": 20,
   "id": "1b0eab63",
   "metadata": {},
   "outputs": [
    {
     "name": "stdout",
     "output_type": "stream",
     "text": [
      "C'est une chaine de caratère\n"
     ]
    }
   ],
   "source": [
    "myStringJoin = ' '.join(myStringsplit)\n",
    "print(myStringJoin)"
   ]
  },
  {
   "cell_type": "markdown",
   "id": "8e9e9047",
   "metadata": {},
   "source": [
    "#### strip() method: is used to remove leading and trailing whitespace characters (spaces, tabs, newlines) from a string"
   ]
  },
  {
   "cell_type": "code",
   "execution_count": 26,
   "id": "0418f732",
   "metadata": {},
   "outputs": [
    {
     "name": "stdout",
     "output_type": "stream",
     "text": [
      "   C'est une chaine    \n"
     ]
    }
   ],
   "source": [
    "newString = \"   C'est une chaine    \"\n",
    "\n",
    "print(newString)"
   ]
  },
  {
   "cell_type": "markdown",
   "id": "f87acae1",
   "metadata": {},
   "source": [
    "#### replace() method : is used to create a new string by replacing occurrences of a specified substring with another substring."
   ]
  },
  {
   "cell_type": "code",
   "execution_count": 33,
   "id": "a3c1699f",
   "metadata": {},
   "outputs": [
    {
     "name": "stdout",
     "output_type": "stream",
     "text": [
      "C'est un String\n"
     ]
    }
   ],
   "source": [
    "newString = myString.replace('une chaine de caratère','un String')\n",
    "print(newString)"
   ]
  },
  {
   "cell_type": "markdown",
   "id": "9b9a3f2d",
   "metadata": {},
   "source": [
    "# CONCATENATION "
   ]
  },
  {
   "cell_type": "code",
   "execution_count": 2,
   "id": "088e125f",
   "metadata": {},
   "outputs": [
    {
     "data": {
      "text/plain": [
       "'My name is BAPARAPEand i have 25'"
      ]
     },
     "execution_count": 2,
     "metadata": {},
     "output_type": "execute_result"
    }
   ],
   "source": [
    "myName = \"BAPARAPE\"\n",
    "myAge = 25\n",
    "\n",
    "myNameAndAge = \"My name is \"+ myName + \"and i have \" + str(myAge)\n",
    "myNameAndAge"
   ]
  },
  {
   "cell_type": "markdown",
   "id": "452bb64c",
   "metadata": {},
   "source": [
    "# F-String "
   ]
  },
  {
   "cell_type": "markdown",
   "id": "5c52b4d8",
   "metadata": {},
   "source": []
  },
  {
   "cell_type": "code",
   "execution_count": 5,
   "id": "25fa4df0",
   "metadata": {},
   "outputs": [
    {
     "name": "stdout",
     "output_type": "stream",
     "text": [
      "My name is BAPARAPE and i have 25 years old\n"
     ]
    }
   ],
   "source": [
    "print(f\"My name is {myName} and i have {myAge} years old\")"
   ]
  },
  {
   "cell_type": "markdown",
   "id": "521c6fa0",
   "metadata": {},
   "source": [
    "# In operator "
   ]
  },
  {
   "cell_type": "markdown",
   "id": "6dc1ef72",
   "metadata": {},
   "source": [
    "In Python, the in operator is used to check whether a given element exists in a sequence or not"
   ]
  },
  {
   "cell_type": "code",
   "execution_count": 7,
   "id": "e2573f39",
   "metadata": {},
   "outputs": [
    {
     "name": "stdout",
     "output_type": "stream",
     "text": [
      "True\n",
      "True\n"
     ]
    }
   ],
   "source": [
    "myString = \"In Python, the in operator is used to check whether a given element exists in a sequence or not\"\n",
    "\n",
    "print(\"element\" in myString) # true\n",
    "\n",
    "contain = \"Python\" in myString\n",
    "print(contain) # True "
   ]
  },
  {
   "cell_type": "markdown",
   "id": "e504e705",
   "metadata": {},
   "source": [
    "# regular Expressions"
   ]
  },
  {
   "cell_type": "markdown",
   "id": "072d1cb6",
   "metadata": {},
   "source": [
    "### Search for a pattern"
   ]
  },
  {
   "cell_type": "code",
   "execution_count": 8,
   "id": "311c22a7",
   "metadata": {},
   "outputs": [],
   "source": [
    "import re"
   ]
  },
  {
   "cell_type": "code",
   "execution_count": 11,
   "id": "87d91754",
   "metadata": {},
   "outputs": [
    {
     "name": "stdout",
     "output_type": "stream",
     "text": [
      "not\n"
     ]
    }
   ],
   "source": [
    "text = \"Can I use the in operator to check if a list does not contain a value in Python?\"\n",
    "pattern = 'not'\n",
    "result = re.search(pattern,text)\n",
    "print(result.group())"
   ]
  },
  {
   "cell_type": "markdown",
   "id": "9229dc98",
   "metadata": {},
   "source": [
    "### Find all occurrences of a pattern"
   ]
  },
  {
   "cell_type": "markdown",
   "id": "f4f9fd25",
   "metadata": {},
   "source": [
    "result = re.findall(r\"u\",text)\n",
    "print(result)"
   ]
  },
  {
   "cell_type": "markdown",
   "id": "5d8e46f8",
   "metadata": {},
   "source": [
    "### Replacement"
   ]
  },
  {
   "cell_type": "code",
   "execution_count": 13,
   "id": "5e0e5a5a",
   "metadata": {},
   "outputs": [
    {
     "name": "stdout",
     "output_type": "stream",
     "text": [
      "Can I use the in operator to check if a list does not contain a value in Java?\n"
     ]
    }
   ],
   "source": [
    "replacement  = 'Java'\n",
    "pattern = 'Python'\n",
    "result = re.sub(pattern,replacement,text)\n",
    "print(result)"
   ]
  },
  {
   "cell_type": "code",
   "execution_count": 19,
   "id": "470b2135",
   "metadata": {},
   "outputs": [
    {
     "name": "stdout",
     "output_type": "stream",
     "text": [
      "Name: BAPARAPE, Job: Data Scientis, Experience: 4\n",
      "Name: Bounyamine, Job: Developpeur, Experience: 5\n"
     ]
    }
   ],
   "source": [
    "import re\n",
    "\n",
    "text = \"BAPARAPE : Data Scientis and 4 years of experience, Bounyamine : Developpeur and 5 years of experience\"\n",
    "pattern = r\"(\\w+) *: *([\\w\\s]+) and (\\d+) years of experience\"\n",
    "results = re.findall(pattern, text)\n",
    "\n",
    "for result in results:\n",
    "    print(f\"Name: {result[0]}, Job: {result[1]}, Experience: {result[2]}\")\n"
   ]
  },
  {
   "cell_type": "markdown",
   "id": "432facc8",
   "metadata": {},
   "source": []
  }
 ],
 "metadata": {
  "kernelspec": {
   "display_name": "Python 3 (ipykernel)",
   "language": "python",
   "name": "python3"
  },
  "language_info": {
   "codemirror_mode": {
    "name": "ipython",
    "version": 3
   },
   "file_extension": ".py",
   "mimetype": "text/x-python",
   "name": "python",
   "nbconvert_exporter": "python",
   "pygments_lexer": "ipython3",
   "version": "3.11.7"
  }
 },
 "nbformat": 4,
 "nbformat_minor": 5
}
